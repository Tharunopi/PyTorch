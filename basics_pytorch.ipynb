{
  "nbformat": 4,
  "nbformat_minor": 0,
  "metadata": {
    "colab": {
      "provenance": [],
      "gpuType": "T4",
      "authorship_tag": "ABX9TyMTyR/2/cEFEVSQIrfXUOAB",
      "include_colab_link": true
    },
    "kernelspec": {
      "name": "python3",
      "display_name": "Python 3"
    },
    "language_info": {
      "name": "python"
    },
    "accelerator": "GPU"
  },
  "cells": [
    {
      "cell_type": "markdown",
      "metadata": {
        "id": "view-in-github",
        "colab_type": "text"
      },
      "source": [
        "<a href=\"https://colab.research.google.com/github/Tharunopi/PyTorch/blob/main/basics_pytorch.ipynb\" target=\"_parent\"><img src=\"https://colab.research.google.com/assets/colab-badge.svg\" alt=\"Open In Colab\"/></a>"
      ]
    },
    {
      "cell_type": "code",
      "execution_count": 1,
      "metadata": {
        "colab": {
          "base_uri": "https://localhost:8080/"
        },
        "id": "YOSfpuFQNq24",
        "outputId": "6cbe5c68-a532-4be7-f4f9-8e77e63aafb5"
      },
      "outputs": [
        {
          "output_type": "stream",
          "name": "stdout",
          "text": [
            "/bin/bash: line 1: nvidia-smi: command not found\n"
          ]
        }
      ],
      "source": [
        "!nvidia-smi"
      ]
    },
    {
      "cell_type": "code",
      "source": [
        "import torch\n",
        "import numpy as np"
      ],
      "metadata": {
        "id": "V5X91W1dOD70"
      },
      "execution_count": 2,
      "outputs": []
    },
    {
      "cell_type": "markdown",
      "source": [
        "**creating a scalar**\n",
        "\n"
      ],
      "metadata": {
        "id": "gXUfCQbCXV0b"
      }
    },
    {
      "cell_type": "code",
      "source": [
        "scalar = torch.tensor(3)"
      ],
      "metadata": {
        "id": "_JA4xfLZXe90"
      },
      "execution_count": 3,
      "outputs": []
    },
    {
      "cell_type": "code",
      "source": [
        "scalar.item() # return tensor back to int"
      ],
      "metadata": {
        "colab": {
          "base_uri": "https://localhost:8080/"
        },
        "id": "io17896qXjZb",
        "outputId": "9ab98587-c129-4de2-e21d-1ea0dee0bc1c"
      },
      "execution_count": 4,
      "outputs": [
        {
          "output_type": "execute_result",
          "data": {
            "text/plain": [
              "3"
            ]
          },
          "metadata": {},
          "execution_count": 4
        }
      ]
    },
    {
      "cell_type": "code",
      "source": [
        "scalar.ndim"
      ],
      "metadata": {
        "colab": {
          "base_uri": "https://localhost:8080/"
        },
        "id": "3FSFgCBvYBaT",
        "outputId": "ae719eb3-6481-4516-96e6-4a00a0b86ce0"
      },
      "execution_count": 5,
      "outputs": [
        {
          "output_type": "execute_result",
          "data": {
            "text/plain": [
              "0"
            ]
          },
          "metadata": {},
          "execution_count": 5
        }
      ]
    },
    {
      "cell_type": "markdown",
      "source": [
        "**creating a vector**"
      ],
      "metadata": {
        "id": "LNdQg3zRYD4L"
      }
    },
    {
      "cell_type": "code",
      "source": [
        "vector = torch.tensor([7, 7])"
      ],
      "metadata": {
        "id": "gnvB0h6zXsKF"
      },
      "execution_count": 6,
      "outputs": []
    },
    {
      "cell_type": "code",
      "source": [
        "vector.ndim"
      ],
      "metadata": {
        "colab": {
          "base_uri": "https://localhost:8080/"
        },
        "id": "10ZDj7cIYkoS",
        "outputId": "49fcbb14-7fb5-4952-cabc-4fa58128f976"
      },
      "execution_count": 7,
      "outputs": [
        {
          "output_type": "execute_result",
          "data": {
            "text/plain": [
              "1"
            ]
          },
          "metadata": {},
          "execution_count": 7
        }
      ]
    },
    {
      "cell_type": "code",
      "source": [
        "vector.shape"
      ],
      "metadata": {
        "colab": {
          "base_uri": "https://localhost:8080/"
        },
        "id": "WdmQTQbfYmjj",
        "outputId": "3eb2c9a6-8735-4a7a-99bf-2093e795767b"
      },
      "execution_count": 8,
      "outputs": [
        {
          "output_type": "execute_result",
          "data": {
            "text/plain": [
              "torch.Size([2])"
            ]
          },
          "metadata": {},
          "execution_count": 8
        }
      ]
    },
    {
      "cell_type": "markdown",
      "source": [
        "**creating a MATRIX**"
      ],
      "metadata": {
        "id": "xnmC_G0FZPCY"
      }
    },
    {
      "cell_type": "code",
      "source": [
        "MATRIX = torch.tensor([[7, 8, 11],\n",
        "                       [9, 10, 12]])\n",
        "MATRIX"
      ],
      "metadata": {
        "colab": {
          "base_uri": "https://localhost:8080/"
        },
        "id": "RMANBoXSYvCA",
        "outputId": "197491a8-43a0-41b7-bbeb-6ba4f673f524"
      },
      "execution_count": 9,
      "outputs": [
        {
          "output_type": "execute_result",
          "data": {
            "text/plain": [
              "tensor([[ 7,  8, 11],\n",
              "        [ 9, 10, 12]])"
            ]
          },
          "metadata": {},
          "execution_count": 9
        }
      ]
    },
    {
      "cell_type": "code",
      "source": [
        "MATRIX.ndim"
      ],
      "metadata": {
        "colab": {
          "base_uri": "https://localhost:8080/"
        },
        "id": "P_li1srjZc48",
        "outputId": "e766ecd1-cfec-4494-edf7-c7a30efb416f"
      },
      "execution_count": 10,
      "outputs": [
        {
          "output_type": "execute_result",
          "data": {
            "text/plain": [
              "2"
            ]
          },
          "metadata": {},
          "execution_count": 10
        }
      ]
    },
    {
      "cell_type": "code",
      "source": [
        "MATRIX.shape"
      ],
      "metadata": {
        "colab": {
          "base_uri": "https://localhost:8080/"
        },
        "id": "p_0cID31Zfzn",
        "outputId": "8c1957b9-ac81-4952-946d-a9261ae1c973"
      },
      "execution_count": 11,
      "outputs": [
        {
          "output_type": "execute_result",
          "data": {
            "text/plain": [
              "torch.Size([2, 3])"
            ]
          },
          "metadata": {},
          "execution_count": 11
        }
      ]
    },
    {
      "cell_type": "code",
      "source": [
        "MATRIX[1]"
      ],
      "metadata": {
        "colab": {
          "base_uri": "https://localhost:8080/"
        },
        "id": "_E275Yn3Zibt",
        "outputId": "1a14ae44-34f1-4f8e-d478-1a3403f6bd03"
      },
      "execution_count": 12,
      "outputs": [
        {
          "output_type": "execute_result",
          "data": {
            "text/plain": [
              "tensor([ 9, 10, 12])"
            ]
          },
          "metadata": {},
          "execution_count": 12
        }
      ]
    },
    {
      "cell_type": "markdown",
      "source": [
        "**creating a TENSOR**"
      ],
      "metadata": {
        "id": "HfDIDaeHZ87d"
      }
    },
    {
      "cell_type": "code",
      "source": [
        "TENSOR = torch.tensor(\n",
        "    [\n",
        "        [\n",
        "            [1, 2, 3],\n",
        "            [4, 5, 6],\n",
        "            [7, 8, 9]\n",
        "        ]\n",
        "    ]\n",
        ")"
      ],
      "metadata": {
        "id": "6C9diHKzZrug"
      },
      "execution_count": 13,
      "outputs": []
    },
    {
      "cell_type": "code",
      "source": [
        "TENSOR"
      ],
      "metadata": {
        "colab": {
          "base_uri": "https://localhost:8080/"
        },
        "id": "F8oWI0pmaQXA",
        "outputId": "9563bb9d-0bcc-4a62-db55-6dd939a2a008"
      },
      "execution_count": 14,
      "outputs": [
        {
          "output_type": "execute_result",
          "data": {
            "text/plain": [
              "tensor([[[1, 2, 3],\n",
              "         [4, 5, 6],\n",
              "         [7, 8, 9]]])"
            ]
          },
          "metadata": {},
          "execution_count": 14
        }
      ]
    },
    {
      "cell_type": "code",
      "source": [
        "TENSOR.ndim"
      ],
      "metadata": {
        "colab": {
          "base_uri": "https://localhost:8080/"
        },
        "id": "UkREi_mAaRtt",
        "outputId": "4a1d0a1f-cc32-42a3-f18d-d911950299ab"
      },
      "execution_count": 15,
      "outputs": [
        {
          "output_type": "execute_result",
          "data": {
            "text/plain": [
              "3"
            ]
          },
          "metadata": {},
          "execution_count": 15
        }
      ]
    },
    {
      "cell_type": "code",
      "source": [
        "TENSOR.shape"
      ],
      "metadata": {
        "colab": {
          "base_uri": "https://localhost:8080/"
        },
        "id": "ajTdz26kau5C",
        "outputId": "0774ab07-71d1-48fb-f3c0-6af5b190295d"
      },
      "execution_count": 16,
      "outputs": [
        {
          "output_type": "execute_result",
          "data": {
            "text/plain": [
              "torch.Size([1, 3, 3])"
            ]
          },
          "metadata": {},
          "execution_count": 16
        }
      ]
    },
    {
      "cell_type": "markdown",
      "source": [
        "**Random TENSOR**"
      ],
      "metadata": {
        "id": "OuWSFdJ8D18E"
      }
    },
    {
      "cell_type": "code",
      "source": [
        "RANDOM = torch.randint(0, 10, (5, 5), generator=torch.Generator(device='cpu'))"
      ],
      "metadata": {
        "id": "r-PdsG83a3Py"
      },
      "execution_count": 17,
      "outputs": []
    },
    {
      "cell_type": "code",
      "source": [
        "RANDOM"
      ],
      "metadata": {
        "colab": {
          "base_uri": "https://localhost:8080/"
        },
        "id": "Pzd-uwJlEj9-",
        "outputId": "e10a6dbe-abdb-40b4-f132-b30b73d5b668"
      },
      "execution_count": 18,
      "outputs": [
        {
          "output_type": "execute_result",
          "data": {
            "text/plain": [
              "tensor([[0, 4, 7, 0, 9],\n",
              "        [9, 4, 4, 9, 9],\n",
              "        [6, 7, 7, 6, 2],\n",
              "        [1, 8, 7, 6, 4],\n",
              "        [2, 9, 5, 0, 0]])"
            ]
          },
          "metadata": {},
          "execution_count": 18
        }
      ]
    },
    {
      "cell_type": "code",
      "source": [
        "# creating a image like tensor\n",
        "image_tensor = torch.randint(0, 255, (224, 224, 3))"
      ],
      "metadata": {
        "id": "kTgNMGmKEq4c"
      },
      "execution_count": 19,
      "outputs": []
    },
    {
      "cell_type": "code",
      "source": [
        "image_tensor.ndim"
      ],
      "metadata": {
        "colab": {
          "base_uri": "https://localhost:8080/"
        },
        "id": "62JBe0tLGTUc",
        "outputId": "e3f09edb-506d-490c-f2cf-125680307254"
      },
      "execution_count": 20,
      "outputs": [
        {
          "output_type": "execute_result",
          "data": {
            "text/plain": [
              "3"
            ]
          },
          "metadata": {},
          "execution_count": 20
        }
      ]
    },
    {
      "cell_type": "markdown",
      "source": [
        "creating TENSORS with zeros and ones"
      ],
      "metadata": {
        "id": "6pFkNON8HcfI"
      }
    },
    {
      "cell_type": "code",
      "source": [
        "# zeroes\n",
        "z0 = torch.zeros(2, 3)\n",
        "z0"
      ],
      "metadata": {
        "colab": {
          "base_uri": "https://localhost:8080/"
        },
        "id": "60uYCpnzGp0D",
        "outputId": "57e1e2d4-b9cb-46b3-e237-9f8c2ff5ab53"
      },
      "execution_count": 21,
      "outputs": [
        {
          "output_type": "execute_result",
          "data": {
            "text/plain": [
              "tensor([[0., 0., 0.],\n",
              "        [0., 0., 0.]])"
            ]
          },
          "metadata": {},
          "execution_count": 21
        }
      ]
    },
    {
      "cell_type": "code",
      "source": [
        "# ones\n",
        "o0 = torch.ones(2, 3)\n",
        "o0"
      ],
      "metadata": {
        "colab": {
          "base_uri": "https://localhost:8080/"
        },
        "id": "4VNoDyDUIAWn",
        "outputId": "cc085aff-7b76-48e5-da90-90087c5f20c1"
      },
      "execution_count": 22,
      "outputs": [
        {
          "output_type": "execute_result",
          "data": {
            "text/plain": [
              "tensor([[1., 1., 1.],\n",
              "        [1., 1., 1.]])"
            ]
          },
          "metadata": {},
          "execution_count": 22
        }
      ]
    },
    {
      "cell_type": "markdown",
      "source": [
        "**creating range of tensors and torch-like**"
      ],
      "metadata": {
        "id": "qzr_y6F-ImmC"
      }
    },
    {
      "cell_type": "code",
      "source": [
        "rang = torch.arange(1, 11)"
      ],
      "metadata": {
        "id": "OofLlF-nIG1b"
      },
      "execution_count": 23,
      "outputs": []
    },
    {
      "cell_type": "code",
      "source": [
        "ten_zeros = torch.zeros_like(input = rang)\n",
        "ten_zeros"
      ],
      "metadata": {
        "colab": {
          "base_uri": "https://localhost:8080/"
        },
        "id": "ZAjwPSoHIxTw",
        "outputId": "3e2096c7-635f-489d-d76a-736294f69c77"
      },
      "execution_count": 24,
      "outputs": [
        {
          "output_type": "execute_result",
          "data": {
            "text/plain": [
              "tensor([0, 0, 0, 0, 0, 0, 0, 0, 0, 0])"
            ]
          },
          "metadata": {},
          "execution_count": 24
        }
      ]
    },
    {
      "cell_type": "code",
      "source": [
        "d2 = torch.randint(0, 9, (5, 10))\n",
        "o2 = torch.zeros_like(d2)\n",
        "o2"
      ],
      "metadata": {
        "colab": {
          "base_uri": "https://localhost:8080/"
        },
        "id": "niKmdedEJogG",
        "outputId": "4d82ba22-773d-4412-8f2a-956d487d13fa"
      },
      "execution_count": 25,
      "outputs": [
        {
          "output_type": "execute_result",
          "data": {
            "text/plain": [
              "tensor([[0, 0, 0, 0, 0, 0, 0, 0, 0, 0],\n",
              "        [0, 0, 0, 0, 0, 0, 0, 0, 0, 0],\n",
              "        [0, 0, 0, 0, 0, 0, 0, 0, 0, 0],\n",
              "        [0, 0, 0, 0, 0, 0, 0, 0, 0, 0],\n",
              "        [0, 0, 0, 0, 0, 0, 0, 0, 0, 0]])"
            ]
          },
          "metadata": {},
          "execution_count": 25
        }
      ]
    },
    {
      "cell_type": "markdown",
      "source": [
        "##**tensor datatypes**"
      ],
      "metadata": {
        "id": "LY0nu3DRKDqG"
      }
    },
    {
      "cell_type": "code",
      "source": [
        "test_tensor = torch.tensor([1, 2, 3],\n",
        "                           dtype=torch.half,\n",
        "                           requires_grad=False\n",
        "                           )"
      ],
      "metadata": {
        "id": "Pl3wyptmJ9lq"
      },
      "execution_count": 26,
      "outputs": []
    },
    {
      "cell_type": "code",
      "source": [
        "float64_tensor = test_tensor.type(torch.double)\n",
        "float64_tensor"
      ],
      "metadata": {
        "colab": {
          "base_uri": "https://localhost:8080/"
        },
        "id": "q-Rw6LQXMbZD",
        "outputId": "0e95d4e2-315f-48b3-8772-ae95e6b7dbef"
      },
      "execution_count": 27,
      "outputs": [
        {
          "output_type": "execute_result",
          "data": {
            "text/plain": [
              "tensor([1., 2., 3.], dtype=torch.float64)"
            ]
          },
          "metadata": {},
          "execution_count": 27
        }
      ]
    },
    {
      "cell_type": "code",
      "source": [
        "test_tensor * float64_tensor"
      ],
      "metadata": {
        "colab": {
          "base_uri": "https://localhost:8080/"
        },
        "id": "YNTIlQiAMvpn",
        "outputId": "68d7066c-9252-40f2-e816-a7dd4b6f483d"
      },
      "execution_count": 28,
      "outputs": [
        {
          "output_type": "execute_result",
          "data": {
            "text/plain": [
              "tensor([1., 4., 9.], dtype=torch.float64)"
            ]
          },
          "metadata": {},
          "execution_count": 28
        }
      ]
    },
    {
      "cell_type": "code",
      "source": [
        "test_tensor.device"
      ],
      "metadata": {
        "colab": {
          "base_uri": "https://localhost:8080/"
        },
        "id": "FakW44ZeM4wh",
        "outputId": "8c583291-cf00-4a0f-fc38-822f2dbff1e5"
      },
      "execution_count": 29,
      "outputs": [
        {
          "output_type": "execute_result",
          "data": {
            "text/plain": [
              "device(type='cpu')"
            ]
          },
          "metadata": {},
          "execution_count": 29
        }
      ]
    },
    {
      "cell_type": "code",
      "source": [
        "image_tensor.device"
      ],
      "metadata": {
        "colab": {
          "base_uri": "https://localhost:8080/"
        },
        "id": "UZekUWDxOhDw",
        "outputId": "b5ff5df6-d1be-4ced-915b-2cc4e0d63151"
      },
      "execution_count": 30,
      "outputs": [
        {
          "output_type": "execute_result",
          "data": {
            "text/plain": [
              "device(type='cpu')"
            ]
          },
          "metadata": {},
          "execution_count": 30
        }
      ]
    },
    {
      "cell_type": "markdown",
      "source": [
        "### **manipulating tensors**"
      ],
      "metadata": {
        "id": "EdH-cy91O2Ik"
      }
    },
    {
      "cell_type": "code",
      "source": [
        "mani_tensor = torch.tensor([[1, 2, 3],\n",
        "                            [4, 5, 6]])\n",
        "\n",
        "mani_tensor + 10"
      ],
      "metadata": {
        "colab": {
          "base_uri": "https://localhost:8080/"
        },
        "id": "yrB4-mQrOltx",
        "outputId": "713f96c8-f00a-479b-8faf-f7a17c922356"
      },
      "execution_count": 31,
      "outputs": [
        {
          "output_type": "execute_result",
          "data": {
            "text/plain": [
              "tensor([[11, 12, 13],\n",
              "        [14, 15, 16]])"
            ]
          },
          "metadata": {},
          "execution_count": 31
        }
      ]
    },
    {
      "cell_type": "code",
      "source": [
        "mani_tensor - 10"
      ],
      "metadata": {
        "colab": {
          "base_uri": "https://localhost:8080/"
        },
        "id": "MOL48i_HQaSk",
        "outputId": "a382e60b-25f9-48b2-91a3-903bcd59c9e4"
      },
      "execution_count": 32,
      "outputs": [
        {
          "output_type": "execute_result",
          "data": {
            "text/plain": [
              "tensor([[-9, -8, -7],\n",
              "        [-6, -5, -4]])"
            ]
          },
          "metadata": {},
          "execution_count": 32
        }
      ]
    },
    {
      "cell_type": "code",
      "source": [
        "mani_tensor * 10"
      ],
      "metadata": {
        "colab": {
          "base_uri": "https://localhost:8080/"
        },
        "id": "vUQUq6soQdio",
        "outputId": "f4d1426d-1947-4220-e46a-a0ed09998606"
      },
      "execution_count": 33,
      "outputs": [
        {
          "output_type": "execute_result",
          "data": {
            "text/plain": [
              "tensor([[10, 20, 30],\n",
              "        [40, 50, 60]])"
            ]
          },
          "metadata": {},
          "execution_count": 33
        }
      ]
    },
    {
      "cell_type": "code",
      "source": [
        "mani_tensor / 10"
      ],
      "metadata": {
        "colab": {
          "base_uri": "https://localhost:8080/"
        },
        "id": "65MMtF5YQf2U",
        "outputId": "937b8747-61d4-4308-f8f5-38683f5890ae"
      },
      "execution_count": 34,
      "outputs": [
        {
          "output_type": "execute_result",
          "data": {
            "text/plain": [
              "tensor([[0.1000, 0.2000, 0.3000],\n",
              "        [0.4000, 0.5000, 0.6000]])"
            ]
          },
          "metadata": {},
          "execution_count": 34
        }
      ]
    },
    {
      "cell_type": "markdown",
      "source": [
        "# **matrix multiplication**"
      ],
      "metadata": {
        "id": "cENC2MeiSISR"
      }
    },
    {
      "cell_type": "code",
      "source": [
        "# matrix multiplication by hand\n",
        "%%time\n",
        "a = [[1, 2, 3], [4, 5, 6]]\n",
        "b = [[1, 2], [3, 4], [5, 6]]\n",
        "\n",
        "a_cols = len(a[0])\n",
        "a_rows = len(a)\n",
        "b_cols = len(b[0])\n",
        "b_rows = len(b)\n",
        "\n",
        "result = [[0 for j in range(b_cols)] for i in range(a_rows)]\n",
        "\n",
        "for i in range(a_rows):\n",
        "  for j in range(b_cols):\n",
        "    for k in range(a_cols):\n",
        "      result[i][j] += a[i][k] * b[k][j]"
      ],
      "metadata": {
        "id": "q8HezOnNQj6Z",
        "colab": {
          "base_uri": "https://localhost:8080/"
        },
        "outputId": "1cdadb80-ff44-4da9-cb5b-30dd5181c799"
      },
      "execution_count": 35,
      "outputs": [
        {
          "output_type": "stream",
          "name": "stdout",
          "text": [
            "CPU times: user 24 µs, sys: 5 µs, total: 29 µs\n",
            "Wall time: 33.6 µs\n"
          ]
        }
      ]
    },
    {
      "cell_type": "code",
      "source": [
        "# using pytorch matmul function\n",
        "\n",
        "tensor_a = torch.tensor(a)\n",
        "tensor_b = torch.tensor(b)\n"
      ],
      "metadata": {
        "id": "HqaaPnIcSjli"
      },
      "execution_count": 36,
      "outputs": []
    },
    {
      "cell_type": "code",
      "source": [
        "%%time\n",
        "tensor_mul = torch.matmul(tensor_a, tensor_b)"
      ],
      "metadata": {
        "colab": {
          "base_uri": "https://localhost:8080/"
        },
        "id": "L8f_wX8UKWoL",
        "outputId": "03f3f36a-a328-44c5-8847-fd9488f35c32"
      },
      "execution_count": 37,
      "outputs": [
        {
          "output_type": "stream",
          "name": "stdout",
          "text": [
            "CPU times: user 1.68 ms, sys: 118 µs, total: 1.8 ms\n",
            "Wall time: 7.03 ms\n"
          ]
        }
      ]
    },
    {
      "cell_type": "code",
      "source": [
        "%%time\n",
        "tensor_a @ tensor_b"
      ],
      "metadata": {
        "colab": {
          "base_uri": "https://localhost:8080/"
        },
        "id": "hy8hnqYBSpRZ",
        "outputId": "2d29c763-7055-4397-8b0e-2a72e89c47af"
      },
      "execution_count": 38,
      "outputs": [
        {
          "output_type": "stream",
          "name": "stdout",
          "text": [
            "CPU times: user 988 µs, sys: 0 ns, total: 988 µs\n",
            "Wall time: 932 µs\n"
          ]
        },
        {
          "output_type": "execute_result",
          "data": {
            "text/plain": [
              "tensor([[22, 28],\n",
              "        [49, 64]])"
            ]
          },
          "metadata": {},
          "execution_count": 38
        }
      ]
    },
    {
      "cell_type": "code",
      "source": [
        "# checking rules to satisfy for matmul\n",
        "\n",
        "def check(a:torch.tensor, b:torch.tensor):\n",
        "  if a.shape[1] == b.T.shape[0]:\n",
        "    return torch.matmul(a, b.T)\n",
        "  if a.T.shape[1] == b.shape[0]:\n",
        "    return torch.matmul(a.T, b)\n",
        "  if a.T.shape[1] == b.T.shape[0]:\n",
        "    return torch.matmul(a.T, b.T)\n",
        "  if a.shape[1] != b.shape[0]:\n",
        "    return print(f\"Invalid shape {a.shape} @ {b.shape}\")\n",
        "  return torch.matmul(a, b)\n",
        "\n",
        "check(torch.rand(3, 2), torch.rand(5, 3))"
      ],
      "metadata": {
        "colab": {
          "base_uri": "https://localhost:8080/"
        },
        "id": "WbzqzmkAStkk",
        "outputId": "b9018b99-886c-4daa-a8bd-2f86cb8be393"
      },
      "execution_count": 39,
      "outputs": [
        {
          "output_type": "execute_result",
          "data": {
            "text/plain": [
              "tensor([[0.9949, 1.2188, 1.3001, 1.2328, 1.6667],\n",
              "        [1.0500, 1.4169, 1.5606, 1.2916, 1.6942]])"
            ]
          },
          "metadata": {},
          "execution_count": 39
        }
      ]
    },
    {
      "cell_type": "markdown",
      "source": [
        "# **Tensor Aggregation**"
      ],
      "metadata": {
        "id": "RDXqu89pXgt_"
      }
    },
    {
      "cell_type": "code",
      "source": [
        "tril = torch.randint(1, 983, (6, 6), dtype=torch.half)\n",
        "tril"
      ],
      "metadata": {
        "colab": {
          "base_uri": "https://localhost:8080/"
        },
        "id": "j1-kSILEUSUD",
        "outputId": "97faa7a5-0603-410e-f449-fb12af1fc0f8"
      },
      "execution_count": 40,
      "outputs": [
        {
          "output_type": "execute_result",
          "data": {
            "text/plain": [
              "tensor([[603., 585., 439., 637., 546., 220.],\n",
              "        [360., 419., 778., 486., 118., 235.],\n",
              "        [ 29., 134., 425., 710., 559., 723.],\n",
              "        [562.,  46., 616., 184., 252., 123.],\n",
              "        [689., 675., 862., 417., 884., 387.],\n",
              "        [662., 426., 444., 321., 333., 139.]], dtype=torch.float16)"
            ]
          },
          "metadata": {},
          "execution_count": 40
        }
      ]
    },
    {
      "cell_type": "code",
      "source": [
        "#min\n",
        "print(torch.min(tril), torch.argmin(tril))"
      ],
      "metadata": {
        "colab": {
          "base_uri": "https://localhost:8080/"
        },
        "id": "fwD26IlaYwLN",
        "outputId": "c3bd1481-97f6-41d5-f269-f6abd4ce537c"
      },
      "execution_count": 41,
      "outputs": [
        {
          "output_type": "stream",
          "name": "stdout",
          "text": [
            "tensor(29., dtype=torch.float16) tensor(12)\n"
          ]
        }
      ]
    },
    {
      "cell_type": "code",
      "source": [
        "#max\n",
        "print(torch.max(tril), torch.argmax(tril))"
      ],
      "metadata": {
        "colab": {
          "base_uri": "https://localhost:8080/"
        },
        "id": "oMAKPqBmY1SO",
        "outputId": "83741abc-a5b6-4561-e28f-49ede4ce9c43"
      },
      "execution_count": 42,
      "outputs": [
        {
          "output_type": "stream",
          "name": "stdout",
          "text": [
            "tensor(884., dtype=torch.float16) tensor(28)\n"
          ]
        }
      ]
    },
    {
      "cell_type": "code",
      "source": [
        "#average\n",
        "torch.mean(tril)"
      ],
      "metadata": {
        "colab": {
          "base_uri": "https://localhost:8080/"
        },
        "id": "uxBX_9cjY43S",
        "outputId": "35ff0e45-d33f-4651-ce8a-bcb8c4eda0ca"
      },
      "execution_count": 43,
      "outputs": [
        {
          "output_type": "execute_result",
          "data": {
            "text/plain": [
              "tensor(445.2500, dtype=torch.float16)"
            ]
          },
          "metadata": {},
          "execution_count": 43
        }
      ]
    },
    {
      "cell_type": "code",
      "source": [
        "#sum\n",
        "torch.sum(tril)"
      ],
      "metadata": {
        "colab": {
          "base_uri": "https://localhost:8080/"
        },
        "id": "HbH5VAvVY9cN",
        "outputId": "a8bf656a-bff8-4892-b2aa-5714acc97322"
      },
      "execution_count": 44,
      "outputs": [
        {
          "output_type": "execute_result",
          "data": {
            "text/plain": [
              "tensor(16032., dtype=torch.float16)"
            ]
          },
          "metadata": {},
          "execution_count": 44
        }
      ]
    },
    {
      "cell_type": "markdown",
      "source": [
        "# **Reshaping, View, Stack, Squeezing, Unsqueezing, Permute**"
      ],
      "metadata": {
        "id": "fy0p-6_pCQfV"
      }
    },
    {
      "cell_type": "code",
      "source": [
        "tensor = torch.arange(1, 11)\n",
        "tensor"
      ],
      "metadata": {
        "id": "t26CBybYaBMP",
        "colab": {
          "base_uri": "https://localhost:8080/"
        },
        "outputId": "17358978-e3be-4851-e195-d0aae5555a18"
      },
      "execution_count": 45,
      "outputs": [
        {
          "output_type": "execute_result",
          "data": {
            "text/plain": [
              "tensor([ 1,  2,  3,  4,  5,  6,  7,  8,  9, 10])"
            ]
          },
          "metadata": {},
          "execution_count": 45
        }
      ]
    },
    {
      "cell_type": "code",
      "source": [
        "x = tensor.reshape(10, 1)"
      ],
      "metadata": {
        "id": "hk3UL_K-DSPO"
      },
      "execution_count": 46,
      "outputs": []
    },
    {
      "cell_type": "code",
      "source": [
        "#change view\n",
        "z = x.view(10, 1)\n",
        "z [0, 0] = 99"
      ],
      "metadata": {
        "id": "KZLzzydjDVzv"
      },
      "execution_count": 47,
      "outputs": []
    },
    {
      "cell_type": "code",
      "source": [
        "print(x, z)"
      ],
      "metadata": {
        "colab": {
          "base_uri": "https://localhost:8080/"
        },
        "id": "TNho4cqWDh6w",
        "outputId": "650939eb-6711-4d32-e411-101852d90938"
      },
      "execution_count": 48,
      "outputs": [
        {
          "output_type": "stream",
          "name": "stdout",
          "text": [
            "tensor([[99],\n",
            "        [ 2],\n",
            "        [ 3],\n",
            "        [ 4],\n",
            "        [ 5],\n",
            "        [ 6],\n",
            "        [ 7],\n",
            "        [ 8],\n",
            "        [ 9],\n",
            "        [10]]) tensor([[99],\n",
            "        [ 2],\n",
            "        [ 3],\n",
            "        [ 4],\n",
            "        [ 5],\n",
            "        [ 6],\n",
            "        [ 7],\n",
            "        [ 8],\n",
            "        [ 9],\n",
            "        [10]])\n"
          ]
        }
      ]
    },
    {
      "cell_type": "code",
      "source": [
        "#stacking\n",
        "a = torch.tensor([1, 2, 3])\n",
        "b = torch.tensor([4, 5, 6])"
      ],
      "metadata": {
        "id": "1Sob9X6_ETOF"
      },
      "execution_count": 49,
      "outputs": []
    },
    {
      "cell_type": "code",
      "source": [
        "torch.stack([a, b] )"
      ],
      "metadata": {
        "colab": {
          "base_uri": "https://localhost:8080/"
        },
        "id": "-f3jhmobEw1l",
        "outputId": "21ff7917-1a1d-4bbd-843b-df24b4479d6d"
      },
      "execution_count": 50,
      "outputs": [
        {
          "output_type": "execute_result",
          "data": {
            "text/plain": [
              "tensor([[1, 2, 3],\n",
              "        [4, 5, 6]])"
            ]
          },
          "metadata": {},
          "execution_count": 50
        }
      ]
    },
    {
      "cell_type": "code",
      "source": [
        "torch.hstack([a, b])"
      ],
      "metadata": {
        "colab": {
          "base_uri": "https://localhost:8080/"
        },
        "id": "kwLl_cPCE-qn",
        "outputId": "a69bac7e-fd46-4655-d892-e55f2dcbbbd9"
      },
      "execution_count": 51,
      "outputs": [
        {
          "output_type": "execute_result",
          "data": {
            "text/plain": [
              "tensor([1, 2, 3, 4, 5, 6])"
            ]
          },
          "metadata": {},
          "execution_count": 51
        }
      ]
    },
    {
      "cell_type": "code",
      "source": [
        "torch.vstack([a, b])"
      ],
      "metadata": {
        "colab": {
          "base_uri": "https://localhost:8080/"
        },
        "id": "voOVEZ5gFJEw",
        "outputId": "81bef4f4-d30f-43e1-c049-a44dd868d6ac"
      },
      "execution_count": 52,
      "outputs": [
        {
          "output_type": "execute_result",
          "data": {
            "text/plain": [
              "tensor([[1, 2, 3],\n",
              "        [4, 5, 6]])"
            ]
          },
          "metadata": {},
          "execution_count": 52
        }
      ]
    },
    {
      "cell_type": "code",
      "source": [
        "# Squeezing a tensor\n",
        "\n",
        "a = torch.zeros(2, 1, 2, 1, 2)\n",
        "b = torch.squeeze(a)\n",
        "print(a.size(), b.size())"
      ],
      "metadata": {
        "colab": {
          "base_uri": "https://localhost:8080/"
        },
        "id": "HTYki4D1FM06",
        "outputId": "4483e47e-58a9-4bc4-ae42-bf78377e51dd"
      },
      "execution_count": 53,
      "outputs": [
        {
          "output_type": "stream",
          "name": "stdout",
          "text": [
            "torch.Size([2, 1, 2, 1, 2]) torch.Size([2, 2, 2])\n"
          ]
        }
      ]
    },
    {
      "cell_type": "code",
      "source": [
        "print(x.shape, x)\n",
        "print(torch.squeeze(x).shape, torch.squeeze(x))"
      ],
      "metadata": {
        "colab": {
          "base_uri": "https://localhost:8080/"
        },
        "id": "JQCNk46vGIZI",
        "outputId": "52265aaa-d56d-4aba-ba33-6df85e907e1b"
      },
      "execution_count": 54,
      "outputs": [
        {
          "output_type": "stream",
          "name": "stdout",
          "text": [
            "torch.Size([10, 1]) tensor([[99],\n",
            "        [ 2],\n",
            "        [ 3],\n",
            "        [ 4],\n",
            "        [ 5],\n",
            "        [ 6],\n",
            "        [ 7],\n",
            "        [ 8],\n",
            "        [ 9],\n",
            "        [10]])\n",
            "torch.Size([10]) tensor([99,  2,  3,  4,  5,  6,  7,  8,  9, 10])\n"
          ]
        }
      ]
    },
    {
      "cell_type": "code",
      "source": [
        "#Unsqueezing tensor\n",
        "squeezed = torch.squeeze(x)\n",
        "print(squeezed.shape, squeezed)\n",
        "unsqueezed = torch.unsqueeze(squeezed, dim=1)\n",
        "print(unsqueezed.shape, unsqueezed)"
      ],
      "metadata": {
        "colab": {
          "base_uri": "https://localhost:8080/"
        },
        "id": "CFGZVAuiHO7M",
        "outputId": "9d93b770-72c3-4af3-db38-1177c5956039"
      },
      "execution_count": 55,
      "outputs": [
        {
          "output_type": "stream",
          "name": "stdout",
          "text": [
            "torch.Size([10]) tensor([99,  2,  3,  4,  5,  6,  7,  8,  9, 10])\n",
            "torch.Size([10, 1]) tensor([[99],\n",
            "        [ 2],\n",
            "        [ 3],\n",
            "        [ 4],\n",
            "        [ 5],\n",
            "        [ 6],\n",
            "        [ 7],\n",
            "        [ 8],\n",
            "        [ 9],\n",
            "        [10]])\n"
          ]
        }
      ]
    },
    {
      "cell_type": "code",
      "source": [
        "#permuting -> changing the dimensions of the tensor it returns the view of the original tensor\n",
        "new = torch.rand(size=(224, 224, 3))\n",
        "\n",
        "permuted_new = torch.permute(new, (2, 0, 1))"
      ],
      "metadata": {
        "id": "5XufTT3xIRV8"
      },
      "execution_count": 56,
      "outputs": []
    },
    {
      "cell_type": "code",
      "source": [
        "permuted_new.size()"
      ],
      "metadata": {
        "colab": {
          "base_uri": "https://localhost:8080/"
        },
        "id": "XR0pqS6tLbF-",
        "outputId": "42362079-af2e-4713-cb68-1ab46d3fa468"
      },
      "execution_count": 57,
      "outputs": [
        {
          "output_type": "execute_result",
          "data": {
            "text/plain": [
              "torch.Size([3, 224, 224])"
            ]
          },
          "metadata": {},
          "execution_count": 57
        }
      ]
    },
    {
      "cell_type": "code",
      "source": [
        "new[0, 0, 0] = 6845"
      ],
      "metadata": {
        "id": "tZHpT6tULdyw"
      },
      "execution_count": 58,
      "outputs": []
    },
    {
      "cell_type": "code",
      "source": [
        "permuted_new[0, 0, 0]"
      ],
      "metadata": {
        "colab": {
          "base_uri": "https://localhost:8080/"
        },
        "id": "Rxi6dBqdMBHn",
        "outputId": "c36b5011-cb1b-4079-c4a2-c6c1c7769d5b"
      },
      "execution_count": 59,
      "outputs": [
        {
          "output_type": "execute_result",
          "data": {
            "text/plain": [
              "tensor(6845.)"
            ]
          },
          "metadata": {},
          "execution_count": 59
        }
      ]
    },
    {
      "cell_type": "markdown",
      "source": [
        "# **Indexing**"
      ],
      "metadata": {
        "id": "dydzg67TMg0j"
      }
    },
    {
      "cell_type": "code",
      "source": [
        "x = torch.arange(1, 241).reshape(1, 60, 4)\n",
        "x.shape"
      ],
      "metadata": {
        "colab": {
          "base_uri": "https://localhost:8080/"
        },
        "collapsed": true,
        "id": "VQpDSOqFMN7m",
        "outputId": "c0e04e86-8251-448b-8b89-ada56756386e"
      },
      "execution_count": 60,
      "outputs": [
        {
          "output_type": "execute_result",
          "data": {
            "text/plain": [
              "torch.Size([1, 60, 4])"
            ]
          },
          "metadata": {},
          "execution_count": 60
        }
      ]
    },
    {
      "cell_type": "code",
      "source": [
        " x[0, :, 0]"
      ],
      "metadata": {
        "colab": {
          "base_uri": "https://localhost:8080/"
        },
        "id": "O4T1BqNeM9th",
        "outputId": "31f4ee05-1341-464f-d994-02ac579a6d01"
      },
      "execution_count": 61,
      "outputs": [
        {
          "output_type": "execute_result",
          "data": {
            "text/plain": [
              "tensor([  1,   5,   9,  13,  17,  21,  25,  29,  33,  37,  41,  45,  49,  53,\n",
              "         57,  61,  65,  69,  73,  77,  81,  85,  89,  93,  97, 101, 105, 109,\n",
              "        113, 117, 121, 125, 129, 133, 137, 141, 145, 149, 153, 157, 161, 165,\n",
              "        169, 173, 177, 181, 185, 189, 193, 197, 201, 205, 209, 213, 217, 221,\n",
              "        225, 229, 233, 237])"
            ]
          },
          "metadata": {},
          "execution_count": 61
        }
      ]
    },
    {
      "cell_type": "markdown",
      "source": [
        "# **Pytorch tensor and Numpy**"
      ],
      "metadata": {
        "id": "KSYDddFcSS9Y"
      }
    },
    {
      "cell_type": "code",
      "source": [
        "# numpy to tensor\n",
        "a = np.arange(1, 11)\n",
        "tensor_a = torch.from_numpy(a)\n",
        "print(tensor_a)"
      ],
      "metadata": {
        "colab": {
          "base_uri": "https://localhost:8080/"
        },
        "id": "h21blm2GNRBD",
        "outputId": "16bf6e84-751a-4036-9041-85a9746b17a5"
      },
      "execution_count": 62,
      "outputs": [
        {
          "output_type": "stream",
          "name": "stdout",
          "text": [
            "tensor([ 1,  2,  3,  4,  5,  6,  7,  8,  9, 10])\n"
          ]
        }
      ]
    },
    {
      "cell_type": "code",
      "source": [
        "#tensor to numpy\n",
        "b = torch.arange(1, 11)\n",
        "array_b = b.numpy()\n",
        "print(array_b)"
      ],
      "metadata": {
        "colab": {
          "base_uri": "https://localhost:8080/"
        },
        "id": "dXLVP4QzVAAa",
        "outputId": "e87e83df-98d7-41b5-ddfc-0615b068b63e"
      },
      "execution_count": 63,
      "outputs": [
        {
          "output_type": "stream",
          "name": "stdout",
          "text": [
            "[ 1  2  3  4  5  6  7  8  9 10]\n"
          ]
        }
      ]
    },
    {
      "cell_type": "markdown",
      "source": [
        "# **Reproducibility -> used to reduce the randomness across the device**"
      ],
      "metadata": {
        "id": "SR4TEMK1XHX2"
      }
    },
    {
      "cell_type": "code",
      "source": [
        "torch.manual_seed(42)\n",
        "rand_a = torch.rand(3, 4)\n",
        "\n",
        "torch.manual_seed(42)\n",
        "rand_b = torch.rand(3, 4)\n",
        "\n",
        "print(rand_a)\n",
        "print(rand_b)\n",
        "print(rand_a == rand_b)"
      ],
      "metadata": {
        "colab": {
          "base_uri": "https://localhost:8080/"
        },
        "id": "FRokhuPjVQHx",
        "outputId": "a50a2f8b-745f-4d38-f484-88d556e968b6"
      },
      "execution_count": 64,
      "outputs": [
        {
          "output_type": "stream",
          "name": "stdout",
          "text": [
            "tensor([[0.8823, 0.9150, 0.3829, 0.9593],\n",
            "        [0.3904, 0.6009, 0.2566, 0.7936],\n",
            "        [0.9408, 0.1332, 0.9346, 0.5936]])\n",
            "tensor([[0.8823, 0.9150, 0.3829, 0.9593],\n",
            "        [0.3904, 0.6009, 0.2566, 0.7936],\n",
            "        [0.9408, 0.1332, 0.9346, 0.5936]])\n",
            "tensor([[True, True, True, True],\n",
            "        [True, True, True, True],\n",
            "        [True, True, True, True]])\n"
          ]
        }
      ]
    },
    {
      "cell_type": "markdown",
      "source": [
        "# **Running tensors and pytorch objects in GPU**"
      ],
      "metadata": {
        "id": "_o15Fg9PaHJF"
      }
    },
    {
      "cell_type": "code",
      "source": [
        "!nvidia-smi"
      ],
      "metadata": {
        "id": "ixEVa43yY_aj",
        "colab": {
          "base_uri": "https://localhost:8080/"
        },
        "outputId": "b5f13521-c438-4d2c-beec-fd9d3dac189f"
      },
      "execution_count": 65,
      "outputs": [
        {
          "output_type": "stream",
          "name": "stdout",
          "text": [
            "/bin/bash: line 1: nvidia-smi: command not found\n"
          ]
        }
      ]
    },
    {
      "cell_type": "code",
      "source": [
        "device = \"cuda\" if torch.cuda.is_available() else \"cpu\""
      ],
      "metadata": {
        "id": "0J36TMx0buha"
      },
      "execution_count": 66,
      "outputs": []
    },
    {
      "cell_type": "code",
      "source": [
        "device"
      ],
      "metadata": {
        "colab": {
          "base_uri": "https://localhost:8080/",
          "height": 36
        },
        "id": "2hhrKRkbc0oq",
        "outputId": "729c7431-5a1a-42f6-9d1d-cd91db0ca4a2"
      },
      "execution_count": 67,
      "outputs": [
        {
          "output_type": "execute_result",
          "data": {
            "text/plain": [
              "'cpu'"
            ],
            "application/vnd.google.colaboratory.intrinsic+json": {
              "type": "string"
            }
          },
          "metadata": {},
          "execution_count": 67
        }
      ]
    },
    {
      "cell_type": "code",
      "source": [
        "# unable to perform GPU and CPU operations because colab currently does not have any cpu online/avaliable"
      ],
      "metadata": {
        "id": "DRnPZqi1c1oT"
      },
      "execution_count": 68,
      "outputs": []
    },
    {
      "cell_type": "markdown",
      "source": [
        "# **Exercises**"
      ],
      "metadata": {
        "id": "Pv8LyR5zhQJW"
      }
    },
    {
      "cell_type": "code",
      "source": [
        "#Create a random tensor with shape (7, 7)\n",
        "\n",
        "random_tensor = torch.rand(7, 7)\n",
        "print(random_tensor)"
      ],
      "metadata": {
        "colab": {
          "base_uri": "https://localhost:8080/"
        },
        "id": "W9aNMtaZfrA_",
        "outputId": "093be1b4-41ac-4455-ccc0-82898ccde4a5"
      },
      "execution_count": 69,
      "outputs": [
        {
          "output_type": "stream",
          "name": "stdout",
          "text": [
            "tensor([[0.8694, 0.5677, 0.7411, 0.4294, 0.8854, 0.5739, 0.2666],\n",
            "        [0.6274, 0.2696, 0.4414, 0.2969, 0.8317, 0.1053, 0.2695],\n",
            "        [0.3588, 0.1994, 0.5472, 0.0062, 0.9516, 0.0753, 0.8860],\n",
            "        [0.5832, 0.3376, 0.8090, 0.5779, 0.9040, 0.5547, 0.3423],\n",
            "        [0.6343, 0.3644, 0.7104, 0.9464, 0.7890, 0.2814, 0.7886],\n",
            "        [0.5895, 0.7539, 0.1952, 0.0050, 0.3068, 0.1165, 0.9103],\n",
            "        [0.6440, 0.7071, 0.6581, 0.4913, 0.8913, 0.1447, 0.5315]])\n"
          ]
        }
      ]
    },
    {
      "cell_type": "code",
      "source": [
        "#Perform a matrix multiplication on the tensor from 2 with another random tensor with shape (1, 7)\n",
        "random_tensor_1 = torch.rand(1, 7).T\n",
        "torch.matmul(random_tensor, random_tensor_1)"
      ],
      "metadata": {
        "colab": {
          "base_uri": "https://localhost:8080/"
        },
        "id": "aYuVZ78cgSvx",
        "outputId": "05537e72-3c9d-4ef0-b5f0-3fd257d7aec8"
      },
      "execution_count": 70,
      "outputs": [
        {
          "output_type": "execute_result",
          "data": {
            "text/plain": [
              "tensor([[1.9625],\n",
              "        [1.0950],\n",
              "        [0.9967],\n",
              "        [1.8910],\n",
              "        [1.9205],\n",
              "        [1.0674],\n",
              "        [1.6949]])"
            ]
          },
          "metadata": {},
          "execution_count": 70
        }
      ]
    },
    {
      "cell_type": "code",
      "source": [
        "# Set the random seed to 0 and do exercises 2 & 3 over again.\n",
        "torch.manual_seed(0)\n",
        "rt_1 = torch.rand(7, 7)\n",
        "torch.manual_seed(0)\n",
        "rt_2 = torch.rand(1, 7).T\n",
        "torch.matmul(rt_1, rt_2)"
      ],
      "metadata": {
        "id": "0N9Gx46EhuL9",
        "colab": {
          "base_uri": "https://localhost:8080/"
        },
        "outputId": "ce4fa5b7-782f-4b1e-b1d8-b4185f7a458e"
      },
      "execution_count": 71,
      "outputs": [
        {
          "output_type": "execute_result",
          "data": {
            "text/plain": [
              "tensor([[1.5985],\n",
              "        [1.1173],\n",
              "        [1.2741],\n",
              "        [1.6838],\n",
              "        [0.8279],\n",
              "        [1.0347],\n",
              "        [1.2498]])"
            ]
          },
          "metadata": {},
          "execution_count": 71
        }
      ]
    },
    {
      "cell_type": "code",
      "source": [
        "#Create two random tensors of shape (2, 3) and send them both to the GPU (you'll need access to a GPU for this). Set torch.manual_seed(1234) when creating the tensors (this doesn't have to be the GPU random seed).\n",
        "torch.manual_seed(1234)\n",
        "rt_1 = torch.rand(2, 3)\n",
        "torch.manual_seed(1234)\n",
        "rt_2 = torch.rand(2, 3).T\n",
        "resu = torch.matmul(rt_1, rt_2)\n",
        "\n",
        "#Find the maximum and minimum values of the output\n",
        "print(torch.min(resu))\n",
        "print(torch.max(resu))\n",
        "\n",
        "#Find the maximum and minimum index values of the output of 7.\n",
        "print(torch.argmin(resu))\n",
        "print(torch.argmax(resu))"
      ],
      "metadata": {
        "colab": {
          "base_uri": "https://localhost:8080/"
        },
        "id": "JVyJ3OsNTeEP",
        "outputId": "838b0901-8cfc-43e8-ea65-f76d978ebbfe"
      },
      "execution_count": 74,
      "outputs": [
        {
          "output_type": "stream",
          "name": "stdout",
          "text": [
            "tensor(0.2161)\n",
            "tensor(0.6287)\n",
            "tensor(1)\n",
            "tensor(3)\n"
          ]
        }
      ]
    },
    {
      "cell_type": "code",
      "source": [
        "# Make a random tensor with shape (1, 1, 1, 10) and then create a new tensor with all the 1 dimensions removed to be left with a tensor of shape (10).\n",
        "# Set the seed to 7 when you create it and print out the first tensor and it's shape as well as the second tensor and it's shape.\n",
        "\n",
        "torch.manual_seed(7)\n",
        "random_tensor = torch.rand(1, 1, 1, 10)\n",
        "print(random_tensor.shape)\n",
        "new_tensor = torch.squeeze(random_tensor)\n",
        "print(new_tensor.shape)"
      ],
      "metadata": {
        "colab": {
          "base_uri": "https://localhost:8080/"
        },
        "id": "VCOatRvyUFEG",
        "outputId": "a0bb2fc9-d382-42c2-e194-ad0704c465b7"
      },
      "execution_count": 77,
      "outputs": [
        {
          "output_type": "stream",
          "name": "stdout",
          "text": [
            "torch.Size([1, 1, 1, 10])\n",
            "torch.Size([10])\n"
          ]
        }
      ]
    },
    {
      "cell_type": "code",
      "source": [],
      "metadata": {
        "id": "zB53cFHsVMkw"
      },
      "execution_count": null,
      "outputs": []
    }
  ]
}