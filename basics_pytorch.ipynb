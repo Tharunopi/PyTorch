{
  "nbformat": 4,
  "nbformat_minor": 0,
  "metadata": {
    "colab": {
      "provenance": [],
      "gpuType": "T4",
      "authorship_tag": "ABX9TyMAhI/k4q+R5S90kVw8DVAK",
      "include_colab_link": true
    },
    "kernelspec": {
      "name": "python3",
      "display_name": "Python 3"
    },
    "language_info": {
      "name": "python"
    },
    "accelerator": "GPU"
  },
  "cells": [
    {
      "cell_type": "markdown",
      "metadata": {
        "id": "view-in-github",
        "colab_type": "text"
      },
      "source": [
        "<a href=\"https://colab.research.google.com/github/Tharunopi/PyTorch/blob/main/basics_pytorch.ipynb\" target=\"_parent\"><img src=\"https://colab.research.google.com/assets/colab-badge.svg\" alt=\"Open In Colab\"/></a>"
      ]
    },
    {
      "cell_type": "code",
      "execution_count": 1,
      "metadata": {
        "colab": {
          "base_uri": "https://localhost:8080/"
        },
        "id": "YOSfpuFQNq24",
        "outputId": "0dc3bf61-ae7d-4325-b50c-6513267bbb76"
      },
      "outputs": [
        {
          "output_type": "stream",
          "name": "stdout",
          "text": [
            "Thu Jan 23 02:50:04 2025       \n",
            "+---------------------------------------------------------------------------------------+\n",
            "| NVIDIA-SMI 535.104.05             Driver Version: 535.104.05   CUDA Version: 12.2     |\n",
            "|-----------------------------------------+----------------------+----------------------+\n",
            "| GPU  Name                 Persistence-M | Bus-Id        Disp.A | Volatile Uncorr. ECC |\n",
            "| Fan  Temp   Perf          Pwr:Usage/Cap |         Memory-Usage | GPU-Util  Compute M. |\n",
            "|                                         |                      |               MIG M. |\n",
            "|=========================================+======================+======================|\n",
            "|   0  Tesla T4                       Off | 00000000:00:04.0 Off |                    0 |\n",
            "| N/A   40C    P8               9W /  70W |      0MiB / 15360MiB |      0%      Default |\n",
            "|                                         |                      |                  N/A |\n",
            "+-----------------------------------------+----------------------+----------------------+\n",
            "                                                                                         \n",
            "+---------------------------------------------------------------------------------------+\n",
            "| Processes:                                                                            |\n",
            "|  GPU   GI   CI        PID   Type   Process name                            GPU Memory |\n",
            "|        ID   ID                                                             Usage      |\n",
            "|=======================================================================================|\n",
            "|  No running processes found                                                           |\n",
            "+---------------------------------------------------------------------------------------+\n"
          ]
        }
      ],
      "source": [
        "!nvidia-smi"
      ]
    },
    {
      "cell_type": "code",
      "source": [
        "import torch"
      ],
      "metadata": {
        "id": "V5X91W1dOD70"
      },
      "execution_count": 2,
      "outputs": []
    },
    {
      "cell_type": "markdown",
      "source": [
        "**creating a scalar**\n",
        "\n"
      ],
      "metadata": {
        "id": "gXUfCQbCXV0b"
      }
    },
    {
      "cell_type": "code",
      "source": [
        "scalar = torch.tensor(3)"
      ],
      "metadata": {
        "id": "_JA4xfLZXe90"
      },
      "execution_count": 3,
      "outputs": []
    },
    {
      "cell_type": "code",
      "source": [
        "scalar.item() # return tensor back to int"
      ],
      "metadata": {
        "colab": {
          "base_uri": "https://localhost:8080/"
        },
        "id": "io17896qXjZb",
        "outputId": "08ef7b25-4a66-4a0e-8f52-8d49967e00ac"
      },
      "execution_count": 4,
      "outputs": [
        {
          "output_type": "execute_result",
          "data": {
            "text/plain": [
              "3"
            ]
          },
          "metadata": {},
          "execution_count": 4
        }
      ]
    },
    {
      "cell_type": "code",
      "source": [
        "scalar.ndim"
      ],
      "metadata": {
        "colab": {
          "base_uri": "https://localhost:8080/"
        },
        "id": "3FSFgCBvYBaT",
        "outputId": "65fd9761-f87b-46aa-a946-c0c89a2ffaf2"
      },
      "execution_count": 5,
      "outputs": [
        {
          "output_type": "execute_result",
          "data": {
            "text/plain": [
              "0"
            ]
          },
          "metadata": {},
          "execution_count": 5
        }
      ]
    },
    {
      "cell_type": "markdown",
      "source": [
        "**creating a vector**"
      ],
      "metadata": {
        "id": "LNdQg3zRYD4L"
      }
    },
    {
      "cell_type": "code",
      "source": [
        "vector = torch.tensor([7, 7])"
      ],
      "metadata": {
        "id": "gnvB0h6zXsKF"
      },
      "execution_count": 6,
      "outputs": []
    },
    {
      "cell_type": "code",
      "source": [
        "vector.ndim"
      ],
      "metadata": {
        "colab": {
          "base_uri": "https://localhost:8080/"
        },
        "id": "10ZDj7cIYkoS",
        "outputId": "7d4d679f-c299-4ded-963f-d2393df5e19b"
      },
      "execution_count": 7,
      "outputs": [
        {
          "output_type": "execute_result",
          "data": {
            "text/plain": [
              "1"
            ]
          },
          "metadata": {},
          "execution_count": 7
        }
      ]
    },
    {
      "cell_type": "code",
      "source": [
        "vector.shape"
      ],
      "metadata": {
        "colab": {
          "base_uri": "https://localhost:8080/"
        },
        "id": "WdmQTQbfYmjj",
        "outputId": "3ef8ce12-4e28-4574-95c0-09a80ebc7141"
      },
      "execution_count": 8,
      "outputs": [
        {
          "output_type": "execute_result",
          "data": {
            "text/plain": [
              "torch.Size([2])"
            ]
          },
          "metadata": {},
          "execution_count": 8
        }
      ]
    },
    {
      "cell_type": "markdown",
      "source": [
        "**creating a MATRIX**"
      ],
      "metadata": {
        "id": "xnmC_G0FZPCY"
      }
    },
    {
      "cell_type": "code",
      "source": [
        "MATRIX = torch.tensor([[7, 8, 11],\n",
        "                       [9, 10, 12]])\n",
        "MATRIX"
      ],
      "metadata": {
        "colab": {
          "base_uri": "https://localhost:8080/"
        },
        "id": "RMANBoXSYvCA",
        "outputId": "df74b0e8-e806-489a-af5b-4ba5714a7cf8"
      },
      "execution_count": 9,
      "outputs": [
        {
          "output_type": "execute_result",
          "data": {
            "text/plain": [
              "tensor([[ 7,  8, 11],\n",
              "        [ 9, 10, 12]])"
            ]
          },
          "metadata": {},
          "execution_count": 9
        }
      ]
    },
    {
      "cell_type": "code",
      "source": [
        "MATRIX.ndim"
      ],
      "metadata": {
        "colab": {
          "base_uri": "https://localhost:8080/"
        },
        "id": "P_li1srjZc48",
        "outputId": "ecb0fab0-622c-4ac7-cf2b-c103cc37f3a2"
      },
      "execution_count": 10,
      "outputs": [
        {
          "output_type": "execute_result",
          "data": {
            "text/plain": [
              "2"
            ]
          },
          "metadata": {},
          "execution_count": 10
        }
      ]
    },
    {
      "cell_type": "code",
      "source": [
        "MATRIX.shape"
      ],
      "metadata": {
        "colab": {
          "base_uri": "https://localhost:8080/"
        },
        "id": "p_0cID31Zfzn",
        "outputId": "3f5028e7-b831-4be0-fd30-6398265eec58"
      },
      "execution_count": 11,
      "outputs": [
        {
          "output_type": "execute_result",
          "data": {
            "text/plain": [
              "torch.Size([2, 3])"
            ]
          },
          "metadata": {},
          "execution_count": 11
        }
      ]
    },
    {
      "cell_type": "code",
      "source": [
        "MATRIX[1]"
      ],
      "metadata": {
        "colab": {
          "base_uri": "https://localhost:8080/"
        },
        "id": "_E275Yn3Zibt",
        "outputId": "6f8d48d7-aeed-4f06-bed6-86f91599ec29"
      },
      "execution_count": 12,
      "outputs": [
        {
          "output_type": "execute_result",
          "data": {
            "text/plain": [
              "tensor([ 9, 10, 12])"
            ]
          },
          "metadata": {},
          "execution_count": 12
        }
      ]
    },
    {
      "cell_type": "markdown",
      "source": [
        "**creating a TENSOR**"
      ],
      "metadata": {
        "id": "HfDIDaeHZ87d"
      }
    },
    {
      "cell_type": "code",
      "source": [
        "TENSOR = torch.tensor(\n",
        "    [\n",
        "        [\n",
        "            [1, 2, 3],\n",
        "            [4, 5, 6],\n",
        "            [7, 8, 9]\n",
        "        ]\n",
        "    ]\n",
        ")"
      ],
      "metadata": {
        "id": "6C9diHKzZrug"
      },
      "execution_count": 13,
      "outputs": []
    },
    {
      "cell_type": "code",
      "source": [
        "TENSOR"
      ],
      "metadata": {
        "colab": {
          "base_uri": "https://localhost:8080/"
        },
        "id": "F8oWI0pmaQXA",
        "outputId": "aaa7fa1e-ebf8-4d35-af76-729139cf6464"
      },
      "execution_count": 14,
      "outputs": [
        {
          "output_type": "execute_result",
          "data": {
            "text/plain": [
              "tensor([[[1, 2, 3],\n",
              "         [4, 5, 6],\n",
              "         [7, 8, 9]]])"
            ]
          },
          "metadata": {},
          "execution_count": 14
        }
      ]
    },
    {
      "cell_type": "code",
      "source": [
        "TENSOR.ndim"
      ],
      "metadata": {
        "colab": {
          "base_uri": "https://localhost:8080/"
        },
        "id": "UkREi_mAaRtt",
        "outputId": "d0985f55-2f8f-4422-ea90-57c04bbca9d3"
      },
      "execution_count": 15,
      "outputs": [
        {
          "output_type": "execute_result",
          "data": {
            "text/plain": [
              "3"
            ]
          },
          "metadata": {},
          "execution_count": 15
        }
      ]
    },
    {
      "cell_type": "code",
      "source": [
        "TENSOR.shape"
      ],
      "metadata": {
        "colab": {
          "base_uri": "https://localhost:8080/"
        },
        "id": "ajTdz26kau5C",
        "outputId": "9f3cc84a-1335-45dc-f222-14ceee4f8f92"
      },
      "execution_count": 16,
      "outputs": [
        {
          "output_type": "execute_result",
          "data": {
            "text/plain": [
              "torch.Size([1, 3, 3])"
            ]
          },
          "metadata": {},
          "execution_count": 16
        }
      ]
    },
    {
      "cell_type": "markdown",
      "source": [
        "**Random TENSOR**"
      ],
      "metadata": {
        "id": "OuWSFdJ8D18E"
      }
    },
    {
      "cell_type": "code",
      "source": [
        "RANDOM = torch.randint(0, 10, (5, 5), generator=torch.Generator(device='cpu'))"
      ],
      "metadata": {
        "id": "r-PdsG83a3Py"
      },
      "execution_count": 25,
      "outputs": []
    },
    {
      "cell_type": "code",
      "source": [
        "RANDOM"
      ],
      "metadata": {
        "colab": {
          "base_uri": "https://localhost:8080/"
        },
        "id": "Pzd-uwJlEj9-",
        "outputId": "63641495-1734-4119-edf5-2450805d2977"
      },
      "execution_count": 26,
      "outputs": [
        {
          "output_type": "execute_result",
          "data": {
            "text/plain": [
              "tensor([[0, 4, 7, 0, 9],\n",
              "        [9, 4, 4, 9, 9],\n",
              "        [6, 7, 7, 6, 2],\n",
              "        [1, 8, 7, 6, 4],\n",
              "        [2, 9, 5, 0, 0]])"
            ]
          },
          "metadata": {},
          "execution_count": 26
        }
      ]
    },
    {
      "cell_type": "code",
      "source": [
        "# creating a image like tensor\n",
        "image_tensor = torch.randint(0, 255, (224, 224, 3))"
      ],
      "metadata": {
        "id": "kTgNMGmKEq4c"
      },
      "execution_count": 28,
      "outputs": []
    },
    {
      "cell_type": "code",
      "source": [
        "image_tensor.ndim"
      ],
      "metadata": {
        "colab": {
          "base_uri": "https://localhost:8080/"
        },
        "id": "62JBe0tLGTUc",
        "outputId": "7542e7f0-d8e2-43b3-d43f-2530a1d171f1"
      },
      "execution_count": 33,
      "outputs": [
        {
          "output_type": "execute_result",
          "data": {
            "text/plain": [
              "3"
            ]
          },
          "metadata": {},
          "execution_count": 33
        }
      ]
    },
    {
      "cell_type": "markdown",
      "source": [
        "creating TENSORS with zeros and ones"
      ],
      "metadata": {
        "id": "6pFkNON8HcfI"
      }
    },
    {
      "cell_type": "code",
      "source": [
        "# zeroes\n",
        "z0 = torch.zeros(2, 3)\n",
        "z0"
      ],
      "metadata": {
        "colab": {
          "base_uri": "https://localhost:8080/"
        },
        "id": "60uYCpnzGp0D",
        "outputId": "ea713ca8-71ca-43cb-f356-12b770408236"
      },
      "execution_count": 35,
      "outputs": [
        {
          "output_type": "execute_result",
          "data": {
            "text/plain": [
              "tensor([[0., 0., 0.],\n",
              "        [0., 0., 0.]])"
            ]
          },
          "metadata": {},
          "execution_count": 35
        }
      ]
    },
    {
      "cell_type": "code",
      "source": [
        "# ones\n",
        "o0 = torch.ones(2, 3)\n",
        "o0"
      ],
      "metadata": {
        "colab": {
          "base_uri": "https://localhost:8080/"
        },
        "id": "4VNoDyDUIAWn",
        "outputId": "72c0766d-9126-4015-feae-d7e52d68af39"
      },
      "execution_count": 37,
      "outputs": [
        {
          "output_type": "execute_result",
          "data": {
            "text/plain": [
              "tensor([[1., 1., 1.],\n",
              "        [1., 1., 1.]])"
            ]
          },
          "metadata": {},
          "execution_count": 37
        }
      ]
    },
    {
      "cell_type": "markdown",
      "source": [
        "**creating range of tensors and torch-like**"
      ],
      "metadata": {
        "id": "qzr_y6F-ImmC"
      }
    },
    {
      "cell_type": "code",
      "source": [
        "rang = torch.arange(1, 11)"
      ],
      "metadata": {
        "id": "OofLlF-nIG1b"
      },
      "execution_count": 40,
      "outputs": []
    },
    {
      "cell_type": "code",
      "source": [
        "ten_zeros = torch.zeros_like(input = rang)\n",
        "ten_zeros"
      ],
      "metadata": {
        "colab": {
          "base_uri": "https://localhost:8080/"
        },
        "id": "ZAjwPSoHIxTw",
        "outputId": "801720ca-a098-492f-c951-2d04e7109a0f"
      },
      "execution_count": 41,
      "outputs": [
        {
          "output_type": "execute_result",
          "data": {
            "text/plain": [
              "tensor([0, 0, 0, 0, 0, 0, 0, 0, 0, 0])"
            ]
          },
          "metadata": {},
          "execution_count": 41
        }
      ]
    },
    {
      "cell_type": "code",
      "source": [
        "d2 = torch.randint(0, 9, (5, 10))\n",
        "o2 = torch.zeros_like(d2)\n",
        "o2"
      ],
      "metadata": {
        "colab": {
          "base_uri": "https://localhost:8080/"
        },
        "id": "niKmdedEJogG",
        "outputId": "2d424a7a-9733-4c79-fef7-82f2b796b16d"
      },
      "execution_count": 43,
      "outputs": [
        {
          "output_type": "execute_result",
          "data": {
            "text/plain": [
              "tensor([[0, 0, 0, 0, 0, 0, 0, 0, 0, 0],\n",
              "        [0, 0, 0, 0, 0, 0, 0, 0, 0, 0],\n",
              "        [0, 0, 0, 0, 0, 0, 0, 0, 0, 0],\n",
              "        [0, 0, 0, 0, 0, 0, 0, 0, 0, 0],\n",
              "        [0, 0, 0, 0, 0, 0, 0, 0, 0, 0]])"
            ]
          },
          "metadata": {},
          "execution_count": 43
        }
      ]
    },
    {
      "cell_type": "markdown",
      "source": [
        "##**tensor datatypes**"
      ],
      "metadata": {
        "id": "LY0nu3DRKDqG"
      }
    },
    {
      "cell_type": "code",
      "source": [
        "test_tensor = torch.tensor([1, 2, 3],\n",
        "                           dtype=torch.half,\n",
        "                           device='cuda',\n",
        "                           requires_grad=False\n",
        "                           )"
      ],
      "metadata": {
        "id": "Pl3wyptmJ9lq"
      },
      "execution_count": 47,
      "outputs": []
    },
    {
      "cell_type": "code",
      "source": [
        "float64_tensor = test_tensor.type(torch.double)\n",
        "float64_tensor"
      ],
      "metadata": {
        "colab": {
          "base_uri": "https://localhost:8080/"
        },
        "id": "q-Rw6LQXMbZD",
        "outputId": "4a13916e-0f66-42a2-ecc4-489fdda04d76"
      },
      "execution_count": 48,
      "outputs": [
        {
          "output_type": "execute_result",
          "data": {
            "text/plain": [
              "tensor([1., 2., 3.], device='cuda:0', dtype=torch.float64)"
            ]
          },
          "metadata": {},
          "execution_count": 48
        }
      ]
    },
    {
      "cell_type": "code",
      "source": [
        "test_tensor * float64_tensor"
      ],
      "metadata": {
        "colab": {
          "base_uri": "https://localhost:8080/"
        },
        "id": "YNTIlQiAMvpn",
        "outputId": "34e2b78b-c35f-4d54-db36-0ba397c13d56"
      },
      "execution_count": 49,
      "outputs": [
        {
          "output_type": "execute_result",
          "data": {
            "text/plain": [
              "tensor([1., 4., 9.], device='cuda:0', dtype=torch.float64)"
            ]
          },
          "metadata": {},
          "execution_count": 49
        }
      ]
    },
    {
      "cell_type": "code",
      "source": [
        "test_tensor.device"
      ],
      "metadata": {
        "colab": {
          "base_uri": "https://localhost:8080/"
        },
        "id": "FakW44ZeM4wh",
        "outputId": "7e4105ec-6b71-456d-de64-d4c27e44d316"
      },
      "execution_count": 50,
      "outputs": [
        {
          "output_type": "execute_result",
          "data": {
            "text/plain": [
              "device(type='cuda', index=0)"
            ]
          },
          "metadata": {},
          "execution_count": 50
        }
      ]
    },
    {
      "cell_type": "code",
      "source": [
        "image_tensor.device"
      ],
      "metadata": {
        "colab": {
          "base_uri": "https://localhost:8080/"
        },
        "id": "UZekUWDxOhDw",
        "outputId": "c19ec02a-f960-4b73-f0d9-b5947193d2fc"
      },
      "execution_count": 51,
      "outputs": [
        {
          "output_type": "execute_result",
          "data": {
            "text/plain": [
              "device(type='cpu')"
            ]
          },
          "metadata": {},
          "execution_count": 51
        }
      ]
    },
    {
      "cell_type": "markdown",
      "source": [
        "### **manipulating tensors**"
      ],
      "metadata": {
        "id": "EdH-cy91O2Ik"
      }
    },
    {
      "cell_type": "code",
      "source": [
        "mani_tensor = torch.tensor([[1, 2, 3],\n",
        "                            [4, 5, 6]])\n",
        "\n",
        "mani_tensor + 10"
      ],
      "metadata": {
        "colab": {
          "base_uri": "https://localhost:8080/"
        },
        "id": "yrB4-mQrOltx",
        "outputId": "69aa645e-514f-485f-80b7-7ced3f684909"
      },
      "execution_count": 52,
      "outputs": [
        {
          "output_type": "execute_result",
          "data": {
            "text/plain": [
              "tensor([[11, 12, 13],\n",
              "        [14, 15, 16]])"
            ]
          },
          "metadata": {},
          "execution_count": 52
        }
      ]
    },
    {
      "cell_type": "code",
      "source": [
        "mani_tensor - 10"
      ],
      "metadata": {
        "colab": {
          "base_uri": "https://localhost:8080/"
        },
        "id": "MOL48i_HQaSk",
        "outputId": "0476a526-3fe7-40cf-f767-7040926f2783"
      },
      "execution_count": 53,
      "outputs": [
        {
          "output_type": "execute_result",
          "data": {
            "text/plain": [
              "tensor([[-9, -8, -7],\n",
              "        [-6, -5, -4]])"
            ]
          },
          "metadata": {},
          "execution_count": 53
        }
      ]
    },
    {
      "cell_type": "code",
      "source": [
        "mani_tensor * 10"
      ],
      "metadata": {
        "colab": {
          "base_uri": "https://localhost:8080/"
        },
        "id": "vUQUq6soQdio",
        "outputId": "25f0033a-4a23-41d6-8861-d625feac8f50"
      },
      "execution_count": 54,
      "outputs": [
        {
          "output_type": "execute_result",
          "data": {
            "text/plain": [
              "tensor([[10, 20, 30],\n",
              "        [40, 50, 60]])"
            ]
          },
          "metadata": {},
          "execution_count": 54
        }
      ]
    },
    {
      "cell_type": "code",
      "source": [
        "mani_tensor / 10"
      ],
      "metadata": {
        "colab": {
          "base_uri": "https://localhost:8080/"
        },
        "id": "65MMtF5YQf2U",
        "outputId": "b454ca63-0445-4f2e-de8e-a6148787b467"
      },
      "execution_count": 55,
      "outputs": [
        {
          "output_type": "execute_result",
          "data": {
            "text/plain": [
              "tensor([[0.1000, 0.2000, 0.3000],\n",
              "        [0.4000, 0.5000, 0.6000]])"
            ]
          },
          "metadata": {},
          "execution_count": 55
        }
      ]
    },
    {
      "cell_type": "markdown",
      "source": [
        "**matrix multiplication **"
      ],
      "metadata": {
        "id": "cENC2MeiSISR"
      }
    },
    {
      "cell_type": "code",
      "source": [
        "# matrix multiplication by hand\n",
        "\n",
        "a = [[1, 2, 3], [4, 5, 6]]\n",
        "b = [[1, 2], [3, 4], [5, 6]]\n",
        "\n",
        "a_cols = len(a[0])\n",
        "a_rows = len(a)\n",
        "b_cols = len(b[0])\n",
        "b_rows = len(b)\n",
        "\n",
        "result = [[0 for j in range(b_cols)] for i in range(a_rows)]\n",
        "\n",
        "for i in range(a_rows):\n",
        "  for j in range(b_cols):\n",
        "    for k in range(a_cols):\n",
        "      result[i][j] += a[i][k] * b[k][j]"
      ],
      "metadata": {
        "id": "q8HezOnNQj6Z"
      },
      "execution_count": 77,
      "outputs": []
    },
    {
      "cell_type": "code",
      "source": [
        "result"
      ],
      "metadata": {
        "colab": {
          "base_uri": "https://localhost:8080/"
        },
        "id": "HqaaPnIcSjli",
        "outputId": "16aecf08-e6b2-402b-fcf3-1b52b135fd80"
      },
      "execution_count": 78,
      "outputs": [
        {
          "output_type": "execute_result",
          "data": {
            "text/plain": [
              "[[22, 28], [49, 64]]"
            ]
          },
          "metadata": {},
          "execution_count": 78
        }
      ]
    },
    {
      "cell_type": "code",
      "source": [],
      "metadata": {
        "id": "2MaIBV58TEOO"
      },
      "execution_count": null,
      "outputs": []
    }
  ]
}