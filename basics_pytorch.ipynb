{
  "nbformat": 4,
  "nbformat_minor": 0,
  "metadata": {
    "colab": {
      "provenance": [],
      "gpuType": "V28",
      "authorship_tag": "ABX9TyON8L57vhyZ2FsBNIBCjcnj",
      "include_colab_link": true
    },
    "kernelspec": {
      "name": "python3",
      "display_name": "Python 3"
    },
    "language_info": {
      "name": "python"
    },
    "accelerator": "TPU"
  },
  "cells": [
    {
      "cell_type": "markdown",
      "metadata": {
        "id": "view-in-github",
        "colab_type": "text"
      },
      "source": [
        "<a href=\"https://colab.research.google.com/github/Tharunopi/PyTorch/blob/main/basics_pytorch.ipynb\" target=\"_parent\"><img src=\"https://colab.research.google.com/assets/colab-badge.svg\" alt=\"Open In Colab\"/></a>"
      ]
    },
    {
      "cell_type": "code",
      "execution_count": 240,
      "metadata": {
        "colab": {
          "base_uri": "https://localhost:8080/"
        },
        "id": "YOSfpuFQNq24",
        "outputId": "9374cd08-b856-45e9-fd2a-d8e71561df7e"
      },
      "outputs": [
        {
          "output_type": "stream",
          "name": "stdout",
          "text": [
            "/bin/bash: line 1: nvidia-smi: command not found\n"
          ]
        }
      ],
      "source": [
        "!nvidia-smi"
      ]
    },
    {
      "cell_type": "code",
      "source": [
        "import torch\n",
        "import numpy as np"
      ],
      "metadata": {
        "id": "V5X91W1dOD70"
      },
      "execution_count": 241,
      "outputs": []
    },
    {
      "cell_type": "markdown",
      "source": [
        "**creating a scalar**\n",
        "\n"
      ],
      "metadata": {
        "id": "gXUfCQbCXV0b"
      }
    },
    {
      "cell_type": "code",
      "source": [
        "scalar = torch.tensor(3)"
      ],
      "metadata": {
        "id": "_JA4xfLZXe90"
      },
      "execution_count": 242,
      "outputs": []
    },
    {
      "cell_type": "code",
      "source": [
        "scalar.item() # return tensor back to int"
      ],
      "metadata": {
        "colab": {
          "base_uri": "https://localhost:8080/"
        },
        "id": "io17896qXjZb",
        "outputId": "ea0210f7-3451-4708-8117-97e8445321f0"
      },
      "execution_count": 243,
      "outputs": [
        {
          "output_type": "execute_result",
          "data": {
            "text/plain": [
              "3"
            ]
          },
          "metadata": {},
          "execution_count": 243
        }
      ]
    },
    {
      "cell_type": "code",
      "source": [
        "scalar.ndim"
      ],
      "metadata": {
        "colab": {
          "base_uri": "https://localhost:8080/"
        },
        "id": "3FSFgCBvYBaT",
        "outputId": "c3017a8d-824a-4048-8678-f94312b45d25"
      },
      "execution_count": 244,
      "outputs": [
        {
          "output_type": "execute_result",
          "data": {
            "text/plain": [
              "0"
            ]
          },
          "metadata": {},
          "execution_count": 244
        }
      ]
    },
    {
      "cell_type": "markdown",
      "source": [
        "**creating a vector**"
      ],
      "metadata": {
        "id": "LNdQg3zRYD4L"
      }
    },
    {
      "cell_type": "code",
      "source": [
        "vector = torch.tensor([7, 7])"
      ],
      "metadata": {
        "id": "gnvB0h6zXsKF"
      },
      "execution_count": 245,
      "outputs": []
    },
    {
      "cell_type": "code",
      "source": [
        "vector.ndim"
      ],
      "metadata": {
        "colab": {
          "base_uri": "https://localhost:8080/"
        },
        "id": "10ZDj7cIYkoS",
        "outputId": "51cccad3-4092-479f-8726-00f4f3c995eb"
      },
      "execution_count": 246,
      "outputs": [
        {
          "output_type": "execute_result",
          "data": {
            "text/plain": [
              "1"
            ]
          },
          "metadata": {},
          "execution_count": 246
        }
      ]
    },
    {
      "cell_type": "code",
      "source": [
        "vector.shape"
      ],
      "metadata": {
        "colab": {
          "base_uri": "https://localhost:8080/"
        },
        "id": "WdmQTQbfYmjj",
        "outputId": "52c76b52-cd49-4103-ddca-f564463df6c4"
      },
      "execution_count": 247,
      "outputs": [
        {
          "output_type": "execute_result",
          "data": {
            "text/plain": [
              "torch.Size([2])"
            ]
          },
          "metadata": {},
          "execution_count": 247
        }
      ]
    },
    {
      "cell_type": "markdown",
      "source": [
        "**creating a MATRIX**"
      ],
      "metadata": {
        "id": "xnmC_G0FZPCY"
      }
    },
    {
      "cell_type": "code",
      "source": [
        "MATRIX = torch.tensor([[7, 8, 11],\n",
        "                       [9, 10, 12]])\n",
        "MATRIX"
      ],
      "metadata": {
        "colab": {
          "base_uri": "https://localhost:8080/"
        },
        "id": "RMANBoXSYvCA",
        "outputId": "b867858e-3561-4b54-ed44-36d4424f5d50"
      },
      "execution_count": 248,
      "outputs": [
        {
          "output_type": "execute_result",
          "data": {
            "text/plain": [
              "tensor([[ 7,  8, 11],\n",
              "        [ 9, 10, 12]])"
            ]
          },
          "metadata": {},
          "execution_count": 248
        }
      ]
    },
    {
      "cell_type": "code",
      "source": [
        "MATRIX.ndim"
      ],
      "metadata": {
        "colab": {
          "base_uri": "https://localhost:8080/"
        },
        "id": "P_li1srjZc48",
        "outputId": "4ac90e97-bdd6-4e6f-a390-2c648fee6a13"
      },
      "execution_count": 249,
      "outputs": [
        {
          "output_type": "execute_result",
          "data": {
            "text/plain": [
              "2"
            ]
          },
          "metadata": {},
          "execution_count": 249
        }
      ]
    },
    {
      "cell_type": "code",
      "source": [
        "MATRIX.shape"
      ],
      "metadata": {
        "colab": {
          "base_uri": "https://localhost:8080/"
        },
        "id": "p_0cID31Zfzn",
        "outputId": "aa12d6ab-5756-430f-c5f3-0dbc1fe6694c"
      },
      "execution_count": 250,
      "outputs": [
        {
          "output_type": "execute_result",
          "data": {
            "text/plain": [
              "torch.Size([2, 3])"
            ]
          },
          "metadata": {},
          "execution_count": 250
        }
      ]
    },
    {
      "cell_type": "code",
      "source": [
        "MATRIX[1]"
      ],
      "metadata": {
        "colab": {
          "base_uri": "https://localhost:8080/"
        },
        "id": "_E275Yn3Zibt",
        "outputId": "d5119abf-8ca3-426d-9dd2-67445165f006"
      },
      "execution_count": 251,
      "outputs": [
        {
          "output_type": "execute_result",
          "data": {
            "text/plain": [
              "tensor([ 9, 10, 12])"
            ]
          },
          "metadata": {},
          "execution_count": 251
        }
      ]
    },
    {
      "cell_type": "markdown",
      "source": [
        "**creating a TENSOR**"
      ],
      "metadata": {
        "id": "HfDIDaeHZ87d"
      }
    },
    {
      "cell_type": "code",
      "source": [
        "TENSOR = torch.tensor(\n",
        "    [\n",
        "        [\n",
        "            [1, 2, 3],\n",
        "            [4, 5, 6],\n",
        "            [7, 8, 9]\n",
        "        ]\n",
        "    ]\n",
        ")"
      ],
      "metadata": {
        "id": "6C9diHKzZrug"
      },
      "execution_count": 252,
      "outputs": []
    },
    {
      "cell_type": "code",
      "source": [
        "TENSOR"
      ],
      "metadata": {
        "colab": {
          "base_uri": "https://localhost:8080/"
        },
        "id": "F8oWI0pmaQXA",
        "outputId": "6c6621dc-c458-4a54-f82e-40ee7d809476"
      },
      "execution_count": 253,
      "outputs": [
        {
          "output_type": "execute_result",
          "data": {
            "text/plain": [
              "tensor([[[1, 2, 3],\n",
              "         [4, 5, 6],\n",
              "         [7, 8, 9]]])"
            ]
          },
          "metadata": {},
          "execution_count": 253
        }
      ]
    },
    {
      "cell_type": "code",
      "source": [
        "TENSOR.ndim"
      ],
      "metadata": {
        "colab": {
          "base_uri": "https://localhost:8080/"
        },
        "id": "UkREi_mAaRtt",
        "outputId": "8a390797-a758-4e62-d8cd-6043f13af8c5"
      },
      "execution_count": 254,
      "outputs": [
        {
          "output_type": "execute_result",
          "data": {
            "text/plain": [
              "3"
            ]
          },
          "metadata": {},
          "execution_count": 254
        }
      ]
    },
    {
      "cell_type": "code",
      "source": [
        "TENSOR.shape"
      ],
      "metadata": {
        "colab": {
          "base_uri": "https://localhost:8080/"
        },
        "id": "ajTdz26kau5C",
        "outputId": "549e6372-6b57-4e99-ad4a-0c0f6cc07aa0"
      },
      "execution_count": 255,
      "outputs": [
        {
          "output_type": "execute_result",
          "data": {
            "text/plain": [
              "torch.Size([1, 3, 3])"
            ]
          },
          "metadata": {},
          "execution_count": 255
        }
      ]
    },
    {
      "cell_type": "markdown",
      "source": [
        "**Random TENSOR**"
      ],
      "metadata": {
        "id": "OuWSFdJ8D18E"
      }
    },
    {
      "cell_type": "code",
      "source": [
        "RANDOM = torch.randint(0, 10, (5, 5), generator=torch.Generator(device='cpu'))"
      ],
      "metadata": {
        "id": "r-PdsG83a3Py"
      },
      "execution_count": 256,
      "outputs": []
    },
    {
      "cell_type": "code",
      "source": [
        "RANDOM"
      ],
      "metadata": {
        "colab": {
          "base_uri": "https://localhost:8080/"
        },
        "id": "Pzd-uwJlEj9-",
        "outputId": "52b24ac4-f020-437a-bf59-38f58b05395d"
      },
      "execution_count": 257,
      "outputs": [
        {
          "output_type": "execute_result",
          "data": {
            "text/plain": [
              "tensor([[0, 4, 7, 0, 9],\n",
              "        [9, 4, 4, 9, 9],\n",
              "        [6, 7, 7, 6, 2],\n",
              "        [1, 8, 7, 6, 4],\n",
              "        [2, 9, 5, 0, 0]])"
            ]
          },
          "metadata": {},
          "execution_count": 257
        }
      ]
    },
    {
      "cell_type": "code",
      "source": [
        "# creating a image like tensor\n",
        "image_tensor = torch.randint(0, 255, (224, 224, 3))"
      ],
      "metadata": {
        "id": "kTgNMGmKEq4c"
      },
      "execution_count": 258,
      "outputs": []
    },
    {
      "cell_type": "code",
      "source": [
        "image_tensor.ndim"
      ],
      "metadata": {
        "colab": {
          "base_uri": "https://localhost:8080/"
        },
        "id": "62JBe0tLGTUc",
        "outputId": "c239ae72-c155-4fa6-9e1c-d96ef746c505"
      },
      "execution_count": 259,
      "outputs": [
        {
          "output_type": "execute_result",
          "data": {
            "text/plain": [
              "3"
            ]
          },
          "metadata": {},
          "execution_count": 259
        }
      ]
    },
    {
      "cell_type": "markdown",
      "source": [
        "creating TENSORS with zeros and ones"
      ],
      "metadata": {
        "id": "6pFkNON8HcfI"
      }
    },
    {
      "cell_type": "code",
      "source": [
        "# zeroes\n",
        "z0 = torch.zeros(2, 3)\n",
        "z0"
      ],
      "metadata": {
        "colab": {
          "base_uri": "https://localhost:8080/"
        },
        "id": "60uYCpnzGp0D",
        "outputId": "a4c15e38-e3b7-4175-8daf-5efa59a9b11b"
      },
      "execution_count": 260,
      "outputs": [
        {
          "output_type": "execute_result",
          "data": {
            "text/plain": [
              "tensor([[0., 0., 0.],\n",
              "        [0., 0., 0.]])"
            ]
          },
          "metadata": {},
          "execution_count": 260
        }
      ]
    },
    {
      "cell_type": "code",
      "source": [
        "# ones\n",
        "o0 = torch.ones(2, 3)\n",
        "o0"
      ],
      "metadata": {
        "colab": {
          "base_uri": "https://localhost:8080/"
        },
        "id": "4VNoDyDUIAWn",
        "outputId": "92282501-ce50-48d2-9924-faa8616acf61"
      },
      "execution_count": 261,
      "outputs": [
        {
          "output_type": "execute_result",
          "data": {
            "text/plain": [
              "tensor([[1., 1., 1.],\n",
              "        [1., 1., 1.]])"
            ]
          },
          "metadata": {},
          "execution_count": 261
        }
      ]
    },
    {
      "cell_type": "markdown",
      "source": [
        "**creating range of tensors and torch-like**"
      ],
      "metadata": {
        "id": "qzr_y6F-ImmC"
      }
    },
    {
      "cell_type": "code",
      "source": [
        "rang = torch.arange(1, 11)"
      ],
      "metadata": {
        "id": "OofLlF-nIG1b"
      },
      "execution_count": 262,
      "outputs": []
    },
    {
      "cell_type": "code",
      "source": [
        "ten_zeros = torch.zeros_like(input = rang)\n",
        "ten_zeros"
      ],
      "metadata": {
        "colab": {
          "base_uri": "https://localhost:8080/"
        },
        "id": "ZAjwPSoHIxTw",
        "outputId": "bb6f2a48-ed9d-46de-e747-b8c8d43fb8ac"
      },
      "execution_count": 263,
      "outputs": [
        {
          "output_type": "execute_result",
          "data": {
            "text/plain": [
              "tensor([0, 0, 0, 0, 0, 0, 0, 0, 0, 0])"
            ]
          },
          "metadata": {},
          "execution_count": 263
        }
      ]
    },
    {
      "cell_type": "code",
      "source": [
        "d2 = torch.randint(0, 9, (5, 10))\n",
        "o2 = torch.zeros_like(d2)\n",
        "o2"
      ],
      "metadata": {
        "colab": {
          "base_uri": "https://localhost:8080/"
        },
        "id": "niKmdedEJogG",
        "outputId": "99670dc9-f6d5-47da-d982-012869159b35"
      },
      "execution_count": 264,
      "outputs": [
        {
          "output_type": "execute_result",
          "data": {
            "text/plain": [
              "tensor([[0, 0, 0, 0, 0, 0, 0, 0, 0, 0],\n",
              "        [0, 0, 0, 0, 0, 0, 0, 0, 0, 0],\n",
              "        [0, 0, 0, 0, 0, 0, 0, 0, 0, 0],\n",
              "        [0, 0, 0, 0, 0, 0, 0, 0, 0, 0],\n",
              "        [0, 0, 0, 0, 0, 0, 0, 0, 0, 0]])"
            ]
          },
          "metadata": {},
          "execution_count": 264
        }
      ]
    },
    {
      "cell_type": "markdown",
      "source": [
        "##**tensor datatypes**"
      ],
      "metadata": {
        "id": "LY0nu3DRKDqG"
      }
    },
    {
      "cell_type": "code",
      "source": [
        "test_tensor = torch.tensor([1, 2, 3],\n",
        "                           dtype=torch.half,\n",
        "                           requires_grad=False\n",
        "                           )"
      ],
      "metadata": {
        "id": "Pl3wyptmJ9lq"
      },
      "execution_count": 265,
      "outputs": []
    },
    {
      "cell_type": "code",
      "source": [
        "float64_tensor = test_tensor.type(torch.double)\n",
        "float64_tensor"
      ],
      "metadata": {
        "colab": {
          "base_uri": "https://localhost:8080/"
        },
        "id": "q-Rw6LQXMbZD",
        "outputId": "a579bc5a-bf69-41f6-a910-6908561faa71"
      },
      "execution_count": 266,
      "outputs": [
        {
          "output_type": "execute_result",
          "data": {
            "text/plain": [
              "tensor([1., 2., 3.], dtype=torch.float64)"
            ]
          },
          "metadata": {},
          "execution_count": 266
        }
      ]
    },
    {
      "cell_type": "code",
      "source": [
        "test_tensor * float64_tensor"
      ],
      "metadata": {
        "colab": {
          "base_uri": "https://localhost:8080/"
        },
        "id": "YNTIlQiAMvpn",
        "outputId": "f4b17788-06cd-49f0-8924-a4b4bc101af6"
      },
      "execution_count": 267,
      "outputs": [
        {
          "output_type": "execute_result",
          "data": {
            "text/plain": [
              "tensor([1., 4., 9.], dtype=torch.float64)"
            ]
          },
          "metadata": {},
          "execution_count": 267
        }
      ]
    },
    {
      "cell_type": "code",
      "source": [
        "test_tensor.device"
      ],
      "metadata": {
        "colab": {
          "base_uri": "https://localhost:8080/"
        },
        "id": "FakW44ZeM4wh",
        "outputId": "6b2b6ed2-0806-4210-90f0-be7594d373e6"
      },
      "execution_count": 268,
      "outputs": [
        {
          "output_type": "execute_result",
          "data": {
            "text/plain": [
              "device(type='cpu')"
            ]
          },
          "metadata": {},
          "execution_count": 268
        }
      ]
    },
    {
      "cell_type": "code",
      "source": [
        "image_tensor.device"
      ],
      "metadata": {
        "colab": {
          "base_uri": "https://localhost:8080/"
        },
        "id": "UZekUWDxOhDw",
        "outputId": "18f82450-d13d-4d7b-a5af-9478794baa59"
      },
      "execution_count": 269,
      "outputs": [
        {
          "output_type": "execute_result",
          "data": {
            "text/plain": [
              "device(type='cpu')"
            ]
          },
          "metadata": {},
          "execution_count": 269
        }
      ]
    },
    {
      "cell_type": "markdown",
      "source": [
        "### **manipulating tensors**"
      ],
      "metadata": {
        "id": "EdH-cy91O2Ik"
      }
    },
    {
      "cell_type": "code",
      "source": [
        "mani_tensor = torch.tensor([[1, 2, 3],\n",
        "                            [4, 5, 6]])\n",
        "\n",
        "mani_tensor + 10"
      ],
      "metadata": {
        "colab": {
          "base_uri": "https://localhost:8080/"
        },
        "id": "yrB4-mQrOltx",
        "outputId": "c27d4f91-0d88-457c-f662-522bbd9fe80f"
      },
      "execution_count": 270,
      "outputs": [
        {
          "output_type": "execute_result",
          "data": {
            "text/plain": [
              "tensor([[11, 12, 13],\n",
              "        [14, 15, 16]])"
            ]
          },
          "metadata": {},
          "execution_count": 270
        }
      ]
    },
    {
      "cell_type": "code",
      "source": [
        "mani_tensor - 10"
      ],
      "metadata": {
        "colab": {
          "base_uri": "https://localhost:8080/"
        },
        "id": "MOL48i_HQaSk",
        "outputId": "2772def4-56bb-45f1-f1f6-eeb55c9b0e87"
      },
      "execution_count": 271,
      "outputs": [
        {
          "output_type": "execute_result",
          "data": {
            "text/plain": [
              "tensor([[-9, -8, -7],\n",
              "        [-6, -5, -4]])"
            ]
          },
          "metadata": {},
          "execution_count": 271
        }
      ]
    },
    {
      "cell_type": "code",
      "source": [
        "mani_tensor * 10"
      ],
      "metadata": {
        "colab": {
          "base_uri": "https://localhost:8080/"
        },
        "id": "vUQUq6soQdio",
        "outputId": "8a7922ed-7273-465e-a5db-ce31398e04f4"
      },
      "execution_count": 272,
      "outputs": [
        {
          "output_type": "execute_result",
          "data": {
            "text/plain": [
              "tensor([[10, 20, 30],\n",
              "        [40, 50, 60]])"
            ]
          },
          "metadata": {},
          "execution_count": 272
        }
      ]
    },
    {
      "cell_type": "code",
      "source": [
        "mani_tensor / 10"
      ],
      "metadata": {
        "colab": {
          "base_uri": "https://localhost:8080/"
        },
        "id": "65MMtF5YQf2U",
        "outputId": "a3896440-69a6-4873-d5dd-100e5f0a665f"
      },
      "execution_count": 273,
      "outputs": [
        {
          "output_type": "execute_result",
          "data": {
            "text/plain": [
              "tensor([[0.1000, 0.2000, 0.3000],\n",
              "        [0.4000, 0.5000, 0.6000]])"
            ]
          },
          "metadata": {},
          "execution_count": 273
        }
      ]
    },
    {
      "cell_type": "markdown",
      "source": [
        "# **matrix multiplication**"
      ],
      "metadata": {
        "id": "cENC2MeiSISR"
      }
    },
    {
      "cell_type": "code",
      "source": [
        "# matrix multiplication by hand\n",
        "%%time\n",
        "a = [[1, 2, 3], [4, 5, 6]]\n",
        "b = [[1, 2], [3, 4], [5, 6]]\n",
        "\n",
        "a_cols = len(a[0])\n",
        "a_rows = len(a)\n",
        "b_cols = len(b[0])\n",
        "b_rows = len(b)\n",
        "\n",
        "result = [[0 for j in range(b_cols)] for i in range(a_rows)]\n",
        "\n",
        "for i in range(a_rows):\n",
        "  for j in range(b_cols):\n",
        "    for k in range(a_cols):\n",
        "      result[i][j] += a[i][k] * b[k][j]"
      ],
      "metadata": {
        "id": "q8HezOnNQj6Z",
        "colab": {
          "base_uri": "https://localhost:8080/"
        },
        "outputId": "469d54bf-7dd4-4aa2-cdfd-c60673f17078"
      },
      "execution_count": 274,
      "outputs": [
        {
          "output_type": "stream",
          "name": "stdout",
          "text": [
            "CPU times: user 30 µs, sys: 0 ns, total: 30 µs\n",
            "Wall time: 34.1 µs\n"
          ]
        }
      ]
    },
    {
      "cell_type": "code",
      "source": [
        "# using pytorch matmul function\n",
        "\n",
        "tensor_a = torch.tensor(a)\n",
        "tensor_b = torch.tensor(b)\n"
      ],
      "metadata": {
        "id": "HqaaPnIcSjli"
      },
      "execution_count": 275,
      "outputs": []
    },
    {
      "cell_type": "code",
      "source": [
        "%%time\n",
        "tensor_mul = torch.matmul(tensor_a, tensor_b)"
      ],
      "metadata": {
        "colab": {
          "base_uri": "https://localhost:8080/"
        },
        "id": "L8f_wX8UKWoL",
        "outputId": "d050b625-ef52-4bfe-f1b0-91ce7d467f3a"
      },
      "execution_count": 276,
      "outputs": [
        {
          "output_type": "stream",
          "name": "stdout",
          "text": [
            "CPU times: user 83 µs, sys: 4 µs, total: 87 µs\n",
            "Wall time: 90.8 µs\n"
          ]
        }
      ]
    },
    {
      "cell_type": "code",
      "source": [
        "%%time\n",
        "tensor_a @ tensor_b"
      ],
      "metadata": {
        "colab": {
          "base_uri": "https://localhost:8080/"
        },
        "id": "hy8hnqYBSpRZ",
        "outputId": "aea5c266-eb69-48ed-c68e-f39cda314d83"
      },
      "execution_count": 277,
      "outputs": [
        {
          "output_type": "stream",
          "name": "stdout",
          "text": [
            "CPU times: user 77 µs, sys: 4 µs, total: 81 µs\n",
            "Wall time: 84.4 µs\n"
          ]
        },
        {
          "output_type": "execute_result",
          "data": {
            "text/plain": [
              "tensor([[22, 28],\n",
              "        [49, 64]])"
            ]
          },
          "metadata": {},
          "execution_count": 277
        }
      ]
    },
    {
      "cell_type": "code",
      "source": [
        "# checking rules to satisfy for matmul\n",
        "\n",
        "def check(a:torch.tensor, b:torch.tensor):\n",
        "  if a.shape[1] == b.T.shape[0]:\n",
        "    return torch.matmul(a, b.T)\n",
        "  if a.T.shape[1] == b.shape[0]:\n",
        "    return torch.matmul(a.T, b)\n",
        "  if a.T.shape[1] == b.T.shape[0]:\n",
        "    return torch.matmul(a.T, b.T)\n",
        "  if a.shape[1] != b.shape[0]:\n",
        "    return print(f\"Invalid shape {a.shape} @ {b.shape}\")\n",
        "  return torch.matmul(a, b)\n",
        "\n",
        "check(torch.rand(3, 2), torch.rand(5, 3))"
      ],
      "metadata": {
        "colab": {
          "base_uri": "https://localhost:8080/"
        },
        "id": "WbzqzmkAStkk",
        "outputId": "47eb87a3-cb81-45dd-8d7d-9a81a94aff2a"
      },
      "execution_count": 278,
      "outputs": [
        {
          "output_type": "execute_result",
          "data": {
            "text/plain": [
              "tensor([[0.5723, 0.8154, 0.4003, 0.7849, 0.5778],\n",
              "        [0.3689, 0.6642, 0.3941, 0.7467, 0.5547]])"
            ]
          },
          "metadata": {},
          "execution_count": 278
        }
      ]
    },
    {
      "cell_type": "markdown",
      "source": [
        "# **Tensor Aggregation**"
      ],
      "metadata": {
        "id": "RDXqu89pXgt_"
      }
    },
    {
      "cell_type": "code",
      "source": [
        "tril = torch.randint(1, 983, (6, 6), dtype=torch.half)\n",
        "tril"
      ],
      "metadata": {
        "colab": {
          "base_uri": "https://localhost:8080/"
        },
        "id": "j1-kSILEUSUD",
        "outputId": "4636b2bc-05eb-4bae-ae47-b76d120e53ac"
      },
      "execution_count": 279,
      "outputs": [
        {
          "output_type": "execute_result",
          "data": {
            "text/plain": [
              "tensor([[221., 748., 980., 545., 764., 855.],\n",
              "        [894., 871., 608., 193., 459., 120.],\n",
              "        [ 83., 286., 458., 699., 835., 604.],\n",
              "        [333., 696., 550., 881., 583., 623.],\n",
              "        [  3., 922., 320., 473., 348., 503.],\n",
              "        [632., 558., 608., 924., 356., 907.]], dtype=torch.float16)"
            ]
          },
          "metadata": {},
          "execution_count": 279
        }
      ]
    },
    {
      "cell_type": "code",
      "source": [
        "#min\n",
        "print(torch.min(tril), torch.argmin(tril))"
      ],
      "metadata": {
        "colab": {
          "base_uri": "https://localhost:8080/"
        },
        "id": "fwD26IlaYwLN",
        "outputId": "3c9fcc3f-7517-4d8a-ede8-73f62e92edad"
      },
      "execution_count": 280,
      "outputs": [
        {
          "output_type": "stream",
          "name": "stdout",
          "text": [
            "tensor(3., dtype=torch.float16) tensor(24)\n"
          ]
        }
      ]
    },
    {
      "cell_type": "code",
      "source": [
        "#max\n",
        "print(torch.max(tril), torch.argmax(tril))"
      ],
      "metadata": {
        "colab": {
          "base_uri": "https://localhost:8080/"
        },
        "id": "oMAKPqBmY1SO",
        "outputId": "e570c097-98a7-4d06-9875-c9dcbf01116a"
      },
      "execution_count": 281,
      "outputs": [
        {
          "output_type": "stream",
          "name": "stdout",
          "text": [
            "tensor(980., dtype=torch.float16) tensor(2)\n"
          ]
        }
      ]
    },
    {
      "cell_type": "code",
      "source": [
        "#average\n",
        "torch.mean(tril)"
      ],
      "metadata": {
        "colab": {
          "base_uri": "https://localhost:8080/"
        },
        "id": "uxBX_9cjY43S",
        "outputId": "d3fb0620-debc-4d79-be2e-0b20028c94c3"
      },
      "execution_count": 282,
      "outputs": [
        {
          "output_type": "execute_result",
          "data": {
            "text/plain": [
              "tensor(568., dtype=torch.float16)"
            ]
          },
          "metadata": {},
          "execution_count": 282
        }
      ]
    },
    {
      "cell_type": "code",
      "source": [
        "#sum\n",
        "torch.sum(tril)"
      ],
      "metadata": {
        "colab": {
          "base_uri": "https://localhost:8080/"
        },
        "id": "HbH5VAvVY9cN",
        "outputId": "3ccbeb77-f23f-4ff2-9cac-701312a6463f"
      },
      "execution_count": 283,
      "outputs": [
        {
          "output_type": "execute_result",
          "data": {
            "text/plain": [
              "tensor(20448., dtype=torch.float16)"
            ]
          },
          "metadata": {},
          "execution_count": 283
        }
      ]
    },
    {
      "cell_type": "markdown",
      "source": [
        "# **Reshaping, View, Stack, Squeezing, Unsqueezing, Permute**"
      ],
      "metadata": {
        "id": "fy0p-6_pCQfV"
      }
    },
    {
      "cell_type": "code",
      "source": [
        "tensor = torch.arange(1, 11)\n",
        "tensor"
      ],
      "metadata": {
        "id": "t26CBybYaBMP",
        "colab": {
          "base_uri": "https://localhost:8080/"
        },
        "outputId": "41405e0b-ea8c-436c-e805-2b34cc92ac4e"
      },
      "execution_count": 284,
      "outputs": [
        {
          "output_type": "execute_result",
          "data": {
            "text/plain": [
              "tensor([ 1,  2,  3,  4,  5,  6,  7,  8,  9, 10])"
            ]
          },
          "metadata": {},
          "execution_count": 284
        }
      ]
    },
    {
      "cell_type": "code",
      "source": [
        "x = tensor.reshape(10, 1)"
      ],
      "metadata": {
        "id": "hk3UL_K-DSPO"
      },
      "execution_count": 285,
      "outputs": []
    },
    {
      "cell_type": "code",
      "source": [
        "#change view\n",
        "z = x.view(10, 1)\n",
        "z [0, 0] = 99"
      ],
      "metadata": {
        "id": "KZLzzydjDVzv"
      },
      "execution_count": 286,
      "outputs": []
    },
    {
      "cell_type": "code",
      "source": [
        "print(x, z)"
      ],
      "metadata": {
        "colab": {
          "base_uri": "https://localhost:8080/"
        },
        "id": "TNho4cqWDh6w",
        "outputId": "a6c8eaa9-db4a-4347-e688-89f675d94820"
      },
      "execution_count": 287,
      "outputs": [
        {
          "output_type": "stream",
          "name": "stdout",
          "text": [
            "tensor([[99],\n",
            "        [ 2],\n",
            "        [ 3],\n",
            "        [ 4],\n",
            "        [ 5],\n",
            "        [ 6],\n",
            "        [ 7],\n",
            "        [ 8],\n",
            "        [ 9],\n",
            "        [10]]) tensor([[99],\n",
            "        [ 2],\n",
            "        [ 3],\n",
            "        [ 4],\n",
            "        [ 5],\n",
            "        [ 6],\n",
            "        [ 7],\n",
            "        [ 8],\n",
            "        [ 9],\n",
            "        [10]])\n"
          ]
        }
      ]
    },
    {
      "cell_type": "code",
      "source": [
        "#stacking\n",
        "a = torch.tensor([1, 2, 3])\n",
        "b = torch.tensor([4, 5, 6])"
      ],
      "metadata": {
        "id": "1Sob9X6_ETOF"
      },
      "execution_count": 288,
      "outputs": []
    },
    {
      "cell_type": "code",
      "source": [
        "torch.stack([a, b] )"
      ],
      "metadata": {
        "colab": {
          "base_uri": "https://localhost:8080/"
        },
        "id": "-f3jhmobEw1l",
        "outputId": "7e7d21cc-b191-4821-991f-12505be92be7"
      },
      "execution_count": 289,
      "outputs": [
        {
          "output_type": "execute_result",
          "data": {
            "text/plain": [
              "tensor([[1, 2, 3],\n",
              "        [4, 5, 6]])"
            ]
          },
          "metadata": {},
          "execution_count": 289
        }
      ]
    },
    {
      "cell_type": "code",
      "source": [
        "torch.hstack([a, b])"
      ],
      "metadata": {
        "colab": {
          "base_uri": "https://localhost:8080/"
        },
        "id": "kwLl_cPCE-qn",
        "outputId": "8c83ed98-8f1a-4508-8e10-19e06d66e513"
      },
      "execution_count": 290,
      "outputs": [
        {
          "output_type": "execute_result",
          "data": {
            "text/plain": [
              "tensor([1, 2, 3, 4, 5, 6])"
            ]
          },
          "metadata": {},
          "execution_count": 290
        }
      ]
    },
    {
      "cell_type": "code",
      "source": [
        "torch.vstack([a, b])"
      ],
      "metadata": {
        "colab": {
          "base_uri": "https://localhost:8080/"
        },
        "id": "voOVEZ5gFJEw",
        "outputId": "9e7fea76-5892-4646-b4af-d0977e5ed9f5"
      },
      "execution_count": 291,
      "outputs": [
        {
          "output_type": "execute_result",
          "data": {
            "text/plain": [
              "tensor([[1, 2, 3],\n",
              "        [4, 5, 6]])"
            ]
          },
          "metadata": {},
          "execution_count": 291
        }
      ]
    },
    {
      "cell_type": "code",
      "source": [
        "# Squeezing a tensor\n",
        "\n",
        "a = torch.zeros(2, 1, 2, 1, 2)\n",
        "b = torch.squeeze(a)\n",
        "print(a.size(), b.size())"
      ],
      "metadata": {
        "colab": {
          "base_uri": "https://localhost:8080/"
        },
        "id": "HTYki4D1FM06",
        "outputId": "7980f69b-40a3-42ab-b4ad-a491e9e458c4"
      },
      "execution_count": 292,
      "outputs": [
        {
          "output_type": "stream",
          "name": "stdout",
          "text": [
            "torch.Size([2, 1, 2, 1, 2]) torch.Size([2, 2, 2])\n"
          ]
        }
      ]
    },
    {
      "cell_type": "code",
      "source": [
        "print(x.shape, x)\n",
        "print(torch.squeeze(x).shape, torch.squeeze(x))"
      ],
      "metadata": {
        "colab": {
          "base_uri": "https://localhost:8080/"
        },
        "id": "JQCNk46vGIZI",
        "outputId": "b9c1bb0d-cebf-4643-d86d-aee45dae6826"
      },
      "execution_count": 293,
      "outputs": [
        {
          "output_type": "stream",
          "name": "stdout",
          "text": [
            "torch.Size([10, 1]) tensor([[99],\n",
            "        [ 2],\n",
            "        [ 3],\n",
            "        [ 4],\n",
            "        [ 5],\n",
            "        [ 6],\n",
            "        [ 7],\n",
            "        [ 8],\n",
            "        [ 9],\n",
            "        [10]])\n",
            "torch.Size([10]) tensor([99,  2,  3,  4,  5,  6,  7,  8,  9, 10])\n"
          ]
        }
      ]
    },
    {
      "cell_type": "code",
      "source": [
        "#Unsqueezing tensor\n",
        "squeezed = torch.squeeze(x)\n",
        "print(squeezed.shape, squeezed)\n",
        "unsqueezed = torch.unsqueeze(squeezed, dim=1)\n",
        "print(unsqueezed.shape, unsqueezed)"
      ],
      "metadata": {
        "colab": {
          "base_uri": "https://localhost:8080/"
        },
        "id": "CFGZVAuiHO7M",
        "outputId": "202a8cb4-bb06-4705-b1e1-44ddf76d26a6"
      },
      "execution_count": 294,
      "outputs": [
        {
          "output_type": "stream",
          "name": "stdout",
          "text": [
            "torch.Size([10]) tensor([99,  2,  3,  4,  5,  6,  7,  8,  9, 10])\n",
            "torch.Size([10, 1]) tensor([[99],\n",
            "        [ 2],\n",
            "        [ 3],\n",
            "        [ 4],\n",
            "        [ 5],\n",
            "        [ 6],\n",
            "        [ 7],\n",
            "        [ 8],\n",
            "        [ 9],\n",
            "        [10]])\n"
          ]
        }
      ]
    },
    {
      "cell_type": "code",
      "source": [
        "#permuting -> changing the dimensions of the tensor it returns the view of the original tensor\n",
        "new = torch.rand(size=(224, 224, 3))\n",
        "\n",
        "permuted_new = torch.permute(new, (2, 0, 1))"
      ],
      "metadata": {
        "id": "5XufTT3xIRV8"
      },
      "execution_count": 295,
      "outputs": []
    },
    {
      "cell_type": "code",
      "source": [
        "permuted_new.size()"
      ],
      "metadata": {
        "colab": {
          "base_uri": "https://localhost:8080/"
        },
        "id": "XR0pqS6tLbF-",
        "outputId": "c82cbb18-7165-4e5e-ec7c-1323a7126d94"
      },
      "execution_count": 296,
      "outputs": [
        {
          "output_type": "execute_result",
          "data": {
            "text/plain": [
              "torch.Size([3, 224, 224])"
            ]
          },
          "metadata": {},
          "execution_count": 296
        }
      ]
    },
    {
      "cell_type": "code",
      "source": [
        "new[0, 0, 0] = 6845"
      ],
      "metadata": {
        "id": "tZHpT6tULdyw"
      },
      "execution_count": 297,
      "outputs": []
    },
    {
      "cell_type": "code",
      "source": [
        "permuted_new[0, 0, 0]"
      ],
      "metadata": {
        "colab": {
          "base_uri": "https://localhost:8080/"
        },
        "id": "Rxi6dBqdMBHn",
        "outputId": "ad38d84e-f1bd-4d15-df50-4fffa5c923bb"
      },
      "execution_count": 298,
      "outputs": [
        {
          "output_type": "execute_result",
          "data": {
            "text/plain": [
              "tensor(6845.)"
            ]
          },
          "metadata": {},
          "execution_count": 298
        }
      ]
    },
    {
      "cell_type": "markdown",
      "source": [
        "# **Indexing**"
      ],
      "metadata": {
        "id": "dydzg67TMg0j"
      }
    },
    {
      "cell_type": "code",
      "source": [
        "x = torch.arange(1, 241).reshape(1, 60, 4)\n",
        "x.shape"
      ],
      "metadata": {
        "colab": {
          "base_uri": "https://localhost:8080/"
        },
        "collapsed": true,
        "id": "VQpDSOqFMN7m",
        "outputId": "0b667fb5-6293-44d8-8f3e-33433ff21405"
      },
      "execution_count": 299,
      "outputs": [
        {
          "output_type": "execute_result",
          "data": {
            "text/plain": [
              "torch.Size([1, 60, 4])"
            ]
          },
          "metadata": {},
          "execution_count": 299
        }
      ]
    },
    {
      "cell_type": "code",
      "source": [
        " x[0, :, 0]"
      ],
      "metadata": {
        "colab": {
          "base_uri": "https://localhost:8080/"
        },
        "id": "O4T1BqNeM9th",
        "outputId": "85e0afe7-e633-48a5-bae8-3999fac316cc"
      },
      "execution_count": 300,
      "outputs": [
        {
          "output_type": "execute_result",
          "data": {
            "text/plain": [
              "tensor([  1,   5,   9,  13,  17,  21,  25,  29,  33,  37,  41,  45,  49,  53,\n",
              "         57,  61,  65,  69,  73,  77,  81,  85,  89,  93,  97, 101, 105, 109,\n",
              "        113, 117, 121, 125, 129, 133, 137, 141, 145, 149, 153, 157, 161, 165,\n",
              "        169, 173, 177, 181, 185, 189, 193, 197, 201, 205, 209, 213, 217, 221,\n",
              "        225, 229, 233, 237])"
            ]
          },
          "metadata": {},
          "execution_count": 300
        }
      ]
    },
    {
      "cell_type": "markdown",
      "source": [
        "# **Pytorch tensor and Numpy**"
      ],
      "metadata": {
        "id": "KSYDddFcSS9Y"
      }
    },
    {
      "cell_type": "code",
      "source": [
        "# numpy to tensor\n",
        "a = np.arange(1, 11)\n",
        "tensor_a = torch.from_numpy(a)\n",
        "print(tensor_a)"
      ],
      "metadata": {
        "colab": {
          "base_uri": "https://localhost:8080/"
        },
        "id": "h21blm2GNRBD",
        "outputId": "5e7d8b67-c0fb-4092-f245-cb036bcd4cb2"
      },
      "execution_count": 301,
      "outputs": [
        {
          "output_type": "stream",
          "name": "stdout",
          "text": [
            "tensor([ 1,  2,  3,  4,  5,  6,  7,  8,  9, 10])\n"
          ]
        }
      ]
    },
    {
      "cell_type": "code",
      "source": [
        "#tensor to numpy\n",
        "b = torch.arange(1, 11)\n",
        "array_b = b.numpy()\n",
        "print(array_b)"
      ],
      "metadata": {
        "colab": {
          "base_uri": "https://localhost:8080/"
        },
        "id": "dXLVP4QzVAAa",
        "outputId": "c4c0d30d-3a48-40a0-82ab-4de8b3198f2c"
      },
      "execution_count": 302,
      "outputs": [
        {
          "output_type": "stream",
          "name": "stdout",
          "text": [
            "[ 1  2  3  4  5  6  7  8  9 10]\n"
          ]
        }
      ]
    },
    {
      "cell_type": "markdown",
      "source": [
        "# **Reproducibility -> used to reduce the randomness across the device**"
      ],
      "metadata": {
        "id": "SR4TEMK1XHX2"
      }
    },
    {
      "cell_type": "code",
      "source": [
        "torch.manual_seed(42)\n",
        "rand_a = torch.rand(3, 4)\n",
        "\n",
        "torch.manual_seed(42)\n",
        "rand_b = torch.rand(3, 4)\n",
        "\n",
        "print(rand_a)\n",
        "print(rand_b)\n",
        "print(rand_a == rand_b)"
      ],
      "metadata": {
        "colab": {
          "base_uri": "https://localhost:8080/"
        },
        "id": "FRokhuPjVQHx",
        "outputId": "e274ce4c-fada-480b-e4c2-3a434b9ea513"
      },
      "execution_count": 303,
      "outputs": [
        {
          "output_type": "stream",
          "name": "stdout",
          "text": [
            "tensor([[0.8823, 0.9150, 0.3829, 0.9593],\n",
            "        [0.3904, 0.6009, 0.2566, 0.7936],\n",
            "        [0.9408, 0.1332, 0.9346, 0.5936]])\n",
            "tensor([[0.8823, 0.9150, 0.3829, 0.9593],\n",
            "        [0.3904, 0.6009, 0.2566, 0.7936],\n",
            "        [0.9408, 0.1332, 0.9346, 0.5936]])\n",
            "tensor([[True, True, True, True],\n",
            "        [True, True, True, True],\n",
            "        [True, True, True, True]])\n"
          ]
        }
      ]
    },
    {
      "cell_type": "markdown",
      "source": [
        "# **Running tensors and pytorch objects in GPU**"
      ],
      "metadata": {
        "id": "_o15Fg9PaHJF"
      }
    },
    {
      "cell_type": "code",
      "source": [
        "!nvidia-smi"
      ],
      "metadata": {
        "id": "ixEVa43yY_aj",
        "colab": {
          "base_uri": "https://localhost:8080/"
        },
        "outputId": "b4f7f95a-e1ad-483f-d246-351b9f941a18"
      },
      "execution_count": 305,
      "outputs": [
        {
          "output_type": "stream",
          "name": "stdout",
          "text": [
            "/bin/bash: line 1: nvidia-smi: command not found\n"
          ]
        }
      ]
    },
    {
      "cell_type": "code",
      "source": [
        "device = \"cuda\" if torch.cuda.is_available() else \"cpu\""
      ],
      "metadata": {
        "id": "0J36TMx0buha"
      },
      "execution_count": 306,
      "outputs": []
    },
    {
      "cell_type": "code",
      "source": [
        "device"
      ],
      "metadata": {
        "colab": {
          "base_uri": "https://localhost:8080/",
          "height": 36
        },
        "id": "2hhrKRkbc0oq",
        "outputId": "48093e1c-ff88-4e8a-eff5-41a3d40a6219"
      },
      "execution_count": 307,
      "outputs": [
        {
          "output_type": "execute_result",
          "data": {
            "text/plain": [
              "'cpu'"
            ],
            "application/vnd.google.colaboratory.intrinsic+json": {
              "type": "string"
            }
          },
          "metadata": {},
          "execution_count": 307
        }
      ]
    },
    {
      "cell_type": "code",
      "source": [
        "# unable to perform GPU and CPU operations because colab currently does not have any cpu online/avaliable"
      ],
      "metadata": {
        "id": "DRnPZqi1c1oT"
      },
      "execution_count": 308,
      "outputs": []
    },
    {
      "cell_type": "markdown",
      "source": [
        "# **Exercises**"
      ],
      "metadata": {
        "id": "Pv8LyR5zhQJW"
      }
    },
    {
      "cell_type": "code",
      "source": [
        "#Create a random tensor with shape (7, 7)\n",
        "\n",
        "random_tensor = torch.rand(7, 7)\n",
        "print(random_tensor)"
      ],
      "metadata": {
        "colab": {
          "base_uri": "https://localhost:8080/"
        },
        "id": "W9aNMtaZfrA_",
        "outputId": "b4cfdda3-e5e8-49de-ed55-bf6f8d331c42"
      },
      "execution_count": 310,
      "outputs": [
        {
          "output_type": "stream",
          "name": "stdout",
          "text": [
            "tensor([[0.8694, 0.5677, 0.7411, 0.4294, 0.8854, 0.5739, 0.2666],\n",
            "        [0.6274, 0.2696, 0.4414, 0.2969, 0.8317, 0.1053, 0.2695],\n",
            "        [0.3588, 0.1994, 0.5472, 0.0062, 0.9516, 0.0753, 0.8860],\n",
            "        [0.5832, 0.3376, 0.8090, 0.5779, 0.9040, 0.5547, 0.3423],\n",
            "        [0.6343, 0.3644, 0.7104, 0.9464, 0.7890, 0.2814, 0.7886],\n",
            "        [0.5895, 0.7539, 0.1952, 0.0050, 0.3068, 0.1165, 0.9103],\n",
            "        [0.6440, 0.7071, 0.6581, 0.4913, 0.8913, 0.1447, 0.5315]])\n"
          ]
        }
      ]
    },
    {
      "cell_type": "code",
      "source": [
        "#Perform a matrix multiplication on the tensor from 2 with another random tensor with shape (1, 7)\n",
        "random_tensor_1 = torch.rand(1, 7).T\n",
        "torch.matmul(random_tensor, random_tensor_1)"
      ],
      "metadata": {
        "colab": {
          "base_uri": "https://localhost:8080/"
        },
        "id": "aYuVZ78cgSvx",
        "outputId": "f18496e1-394b-4407-9243-01a8802674b9"
      },
      "execution_count": 311,
      "outputs": [
        {
          "output_type": "execute_result",
          "data": {
            "text/plain": [
              "tensor([[1.9625],\n",
              "        [1.0950],\n",
              "        [0.9967],\n",
              "        [1.8910],\n",
              "        [1.9205],\n",
              "        [1.0674],\n",
              "        [1.6949]])"
            ]
          },
          "metadata": {},
          "execution_count": 311
        }
      ]
    },
    {
      "cell_type": "code",
      "source": [],
      "metadata": {
        "id": "0N9Gx46EhuL9"
      },
      "execution_count": null,
      "outputs": []
    }
  ]
}