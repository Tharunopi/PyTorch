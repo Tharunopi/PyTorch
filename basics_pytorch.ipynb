{
  "nbformat": 4,
  "nbformat_minor": 0,
  "metadata": {
    "colab": {
      "provenance": [],
      "gpuType": "T4",
      "authorship_tag": "ABX9TyNShaB1ssRbM/BQ7aT/rCs+",
      "include_colab_link": true
    },
    "kernelspec": {
      "name": "python3",
      "display_name": "Python 3"
    },
    "language_info": {
      "name": "python"
    },
    "accelerator": "GPU"
  },
  "cells": [
    {
      "cell_type": "markdown",
      "metadata": {
        "id": "view-in-github",
        "colab_type": "text"
      },
      "source": [
        "<a href=\"https://colab.research.google.com/github/Tharunopi/PyTorch/blob/main/basics_pytorch.ipynb\" target=\"_parent\"><img src=\"https://colab.research.google.com/assets/colab-badge.svg\" alt=\"Open In Colab\"/></a>"
      ]
    },
    {
      "cell_type": "code",
      "execution_count": 105,
      "metadata": {
        "colab": {
          "base_uri": "https://localhost:8080/"
        },
        "id": "YOSfpuFQNq24",
        "outputId": "01cecdee-6742-4794-f199-b290abe08393"
      },
      "outputs": [
        {
          "output_type": "stream",
          "name": "stdout",
          "text": [
            "/bin/bash: line 1: nvidia-smi: command not found\n"
          ]
        }
      ],
      "source": [
        "!nvidia-smi"
      ]
    },
    {
      "cell_type": "code",
      "source": [
        "import torch"
      ],
      "metadata": {
        "id": "V5X91W1dOD70"
      },
      "execution_count": 106,
      "outputs": []
    },
    {
      "cell_type": "markdown",
      "source": [
        "**creating a scalar**\n",
        "\n"
      ],
      "metadata": {
        "id": "gXUfCQbCXV0b"
      }
    },
    {
      "cell_type": "code",
      "source": [
        "scalar = torch.tensor(3)"
      ],
      "metadata": {
        "id": "_JA4xfLZXe90"
      },
      "execution_count": 107,
      "outputs": []
    },
    {
      "cell_type": "code",
      "source": [
        "scalar.item() # return tensor back to int"
      ],
      "metadata": {
        "colab": {
          "base_uri": "https://localhost:8080/"
        },
        "id": "io17896qXjZb",
        "outputId": "8cb91483-39a1-4409-d52c-c32c3b78a33e"
      },
      "execution_count": 108,
      "outputs": [
        {
          "output_type": "execute_result",
          "data": {
            "text/plain": [
              "3"
            ]
          },
          "metadata": {},
          "execution_count": 108
        }
      ]
    },
    {
      "cell_type": "code",
      "source": [
        "scalar.ndim"
      ],
      "metadata": {
        "colab": {
          "base_uri": "https://localhost:8080/"
        },
        "id": "3FSFgCBvYBaT",
        "outputId": "db4902a6-aa62-4216-e64b-905dc0119198"
      },
      "execution_count": 109,
      "outputs": [
        {
          "output_type": "execute_result",
          "data": {
            "text/plain": [
              "0"
            ]
          },
          "metadata": {},
          "execution_count": 109
        }
      ]
    },
    {
      "cell_type": "markdown",
      "source": [
        "**creating a vector**"
      ],
      "metadata": {
        "id": "LNdQg3zRYD4L"
      }
    },
    {
      "cell_type": "code",
      "source": [
        "vector = torch.tensor([7, 7])"
      ],
      "metadata": {
        "id": "gnvB0h6zXsKF"
      },
      "execution_count": 110,
      "outputs": []
    },
    {
      "cell_type": "code",
      "source": [
        "vector.ndim"
      ],
      "metadata": {
        "colab": {
          "base_uri": "https://localhost:8080/"
        },
        "id": "10ZDj7cIYkoS",
        "outputId": "914c92e6-be96-4aae-943a-be0b29f6f33b"
      },
      "execution_count": 111,
      "outputs": [
        {
          "output_type": "execute_result",
          "data": {
            "text/plain": [
              "1"
            ]
          },
          "metadata": {},
          "execution_count": 111
        }
      ]
    },
    {
      "cell_type": "code",
      "source": [
        "vector.shape"
      ],
      "metadata": {
        "colab": {
          "base_uri": "https://localhost:8080/"
        },
        "id": "WdmQTQbfYmjj",
        "outputId": "e59e3369-fdcb-4136-92d9-f4ffb9c18007"
      },
      "execution_count": 112,
      "outputs": [
        {
          "output_type": "execute_result",
          "data": {
            "text/plain": [
              "torch.Size([2])"
            ]
          },
          "metadata": {},
          "execution_count": 112
        }
      ]
    },
    {
      "cell_type": "markdown",
      "source": [
        "**creating a MATRIX**"
      ],
      "metadata": {
        "id": "xnmC_G0FZPCY"
      }
    },
    {
      "cell_type": "code",
      "source": [
        "MATRIX = torch.tensor([[7, 8, 11],\n",
        "                       [9, 10, 12]])\n",
        "MATRIX"
      ],
      "metadata": {
        "colab": {
          "base_uri": "https://localhost:8080/"
        },
        "id": "RMANBoXSYvCA",
        "outputId": "f8202c1b-1029-4190-b686-1cd5ebd60115"
      },
      "execution_count": 113,
      "outputs": [
        {
          "output_type": "execute_result",
          "data": {
            "text/plain": [
              "tensor([[ 7,  8, 11],\n",
              "        [ 9, 10, 12]])"
            ]
          },
          "metadata": {},
          "execution_count": 113
        }
      ]
    },
    {
      "cell_type": "code",
      "source": [
        "MATRIX.ndim"
      ],
      "metadata": {
        "colab": {
          "base_uri": "https://localhost:8080/"
        },
        "id": "P_li1srjZc48",
        "outputId": "fc6ae1b0-07a6-4c21-9fa5-901585cc26a6"
      },
      "execution_count": 114,
      "outputs": [
        {
          "output_type": "execute_result",
          "data": {
            "text/plain": [
              "2"
            ]
          },
          "metadata": {},
          "execution_count": 114
        }
      ]
    },
    {
      "cell_type": "code",
      "source": [
        "MATRIX.shape"
      ],
      "metadata": {
        "colab": {
          "base_uri": "https://localhost:8080/"
        },
        "id": "p_0cID31Zfzn",
        "outputId": "1b85bc13-a0ec-4d98-e8f7-e3b49d54b473"
      },
      "execution_count": 115,
      "outputs": [
        {
          "output_type": "execute_result",
          "data": {
            "text/plain": [
              "torch.Size([2, 3])"
            ]
          },
          "metadata": {},
          "execution_count": 115
        }
      ]
    },
    {
      "cell_type": "code",
      "source": [
        "MATRIX[1]"
      ],
      "metadata": {
        "colab": {
          "base_uri": "https://localhost:8080/"
        },
        "id": "_E275Yn3Zibt",
        "outputId": "3c8e8cda-b101-4bf9-8757-9b6bf0a4cb21"
      },
      "execution_count": 116,
      "outputs": [
        {
          "output_type": "execute_result",
          "data": {
            "text/plain": [
              "tensor([ 9, 10, 12])"
            ]
          },
          "metadata": {},
          "execution_count": 116
        }
      ]
    },
    {
      "cell_type": "markdown",
      "source": [
        "**creating a TENSOR**"
      ],
      "metadata": {
        "id": "HfDIDaeHZ87d"
      }
    },
    {
      "cell_type": "code",
      "source": [
        "TENSOR = torch.tensor(\n",
        "    [\n",
        "        [\n",
        "            [1, 2, 3],\n",
        "            [4, 5, 6],\n",
        "            [7, 8, 9]\n",
        "        ]\n",
        "    ]\n",
        ")"
      ],
      "metadata": {
        "id": "6C9diHKzZrug"
      },
      "execution_count": 117,
      "outputs": []
    },
    {
      "cell_type": "code",
      "source": [
        "TENSOR"
      ],
      "metadata": {
        "colab": {
          "base_uri": "https://localhost:8080/"
        },
        "id": "F8oWI0pmaQXA",
        "outputId": "1bab8dd8-8c1f-4490-ebfa-4bff67c6b23a"
      },
      "execution_count": 118,
      "outputs": [
        {
          "output_type": "execute_result",
          "data": {
            "text/plain": [
              "tensor([[[1, 2, 3],\n",
              "         [4, 5, 6],\n",
              "         [7, 8, 9]]])"
            ]
          },
          "metadata": {},
          "execution_count": 118
        }
      ]
    },
    {
      "cell_type": "code",
      "source": [
        "TENSOR.ndim"
      ],
      "metadata": {
        "colab": {
          "base_uri": "https://localhost:8080/"
        },
        "id": "UkREi_mAaRtt",
        "outputId": "28ef1c3f-1689-4e84-89d8-f1560bbc1bc1"
      },
      "execution_count": 119,
      "outputs": [
        {
          "output_type": "execute_result",
          "data": {
            "text/plain": [
              "3"
            ]
          },
          "metadata": {},
          "execution_count": 119
        }
      ]
    },
    {
      "cell_type": "code",
      "source": [
        "TENSOR.shape"
      ],
      "metadata": {
        "colab": {
          "base_uri": "https://localhost:8080/"
        },
        "id": "ajTdz26kau5C",
        "outputId": "8975d492-2508-4359-8045-665d3d392b37"
      },
      "execution_count": 120,
      "outputs": [
        {
          "output_type": "execute_result",
          "data": {
            "text/plain": [
              "torch.Size([1, 3, 3])"
            ]
          },
          "metadata": {},
          "execution_count": 120
        }
      ]
    },
    {
      "cell_type": "markdown",
      "source": [
        "**Random TENSOR**"
      ],
      "metadata": {
        "id": "OuWSFdJ8D18E"
      }
    },
    {
      "cell_type": "code",
      "source": [
        "RANDOM = torch.randint(0, 10, (5, 5), generator=torch.Generator(device='cpu'))"
      ],
      "metadata": {
        "id": "r-PdsG83a3Py"
      },
      "execution_count": 121,
      "outputs": []
    },
    {
      "cell_type": "code",
      "source": [
        "RANDOM"
      ],
      "metadata": {
        "colab": {
          "base_uri": "https://localhost:8080/"
        },
        "id": "Pzd-uwJlEj9-",
        "outputId": "da6e3a1d-bd67-4fea-f017-bbcbf970cdb8"
      },
      "execution_count": 122,
      "outputs": [
        {
          "output_type": "execute_result",
          "data": {
            "text/plain": [
              "tensor([[0, 4, 7, 0, 9],\n",
              "        [9, 4, 4, 9, 9],\n",
              "        [6, 7, 7, 6, 2],\n",
              "        [1, 8, 7, 6, 4],\n",
              "        [2, 9, 5, 0, 0]])"
            ]
          },
          "metadata": {},
          "execution_count": 122
        }
      ]
    },
    {
      "cell_type": "code",
      "source": [
        "# creating a image like tensor\n",
        "image_tensor = torch.randint(0, 255, (224, 224, 3))"
      ],
      "metadata": {
        "id": "kTgNMGmKEq4c"
      },
      "execution_count": 123,
      "outputs": []
    },
    {
      "cell_type": "code",
      "source": [
        "image_tensor.ndim"
      ],
      "metadata": {
        "colab": {
          "base_uri": "https://localhost:8080/"
        },
        "id": "62JBe0tLGTUc",
        "outputId": "c7a04838-c485-4459-dd52-3abe2bf3f1aa"
      },
      "execution_count": 124,
      "outputs": [
        {
          "output_type": "execute_result",
          "data": {
            "text/plain": [
              "3"
            ]
          },
          "metadata": {},
          "execution_count": 124
        }
      ]
    },
    {
      "cell_type": "markdown",
      "source": [
        "creating TENSORS with zeros and ones"
      ],
      "metadata": {
        "id": "6pFkNON8HcfI"
      }
    },
    {
      "cell_type": "code",
      "source": [
        "# zeroes\n",
        "z0 = torch.zeros(2, 3)\n",
        "z0"
      ],
      "metadata": {
        "colab": {
          "base_uri": "https://localhost:8080/"
        },
        "id": "60uYCpnzGp0D",
        "outputId": "291b3959-1ab8-48b6-f828-74dbfbe60647"
      },
      "execution_count": 125,
      "outputs": [
        {
          "output_type": "execute_result",
          "data": {
            "text/plain": [
              "tensor([[0., 0., 0.],\n",
              "        [0., 0., 0.]])"
            ]
          },
          "metadata": {},
          "execution_count": 125
        }
      ]
    },
    {
      "cell_type": "code",
      "source": [
        "# ones\n",
        "o0 = torch.ones(2, 3)\n",
        "o0"
      ],
      "metadata": {
        "colab": {
          "base_uri": "https://localhost:8080/"
        },
        "id": "4VNoDyDUIAWn",
        "outputId": "87e06174-16b6-4d6d-94dc-c040c8fea1e6"
      },
      "execution_count": 126,
      "outputs": [
        {
          "output_type": "execute_result",
          "data": {
            "text/plain": [
              "tensor([[1., 1., 1.],\n",
              "        [1., 1., 1.]])"
            ]
          },
          "metadata": {},
          "execution_count": 126
        }
      ]
    },
    {
      "cell_type": "markdown",
      "source": [
        "**creating range of tensors and torch-like**"
      ],
      "metadata": {
        "id": "qzr_y6F-ImmC"
      }
    },
    {
      "cell_type": "code",
      "source": [
        "rang = torch.arange(1, 11)"
      ],
      "metadata": {
        "id": "OofLlF-nIG1b"
      },
      "execution_count": 127,
      "outputs": []
    },
    {
      "cell_type": "code",
      "source": [
        "ten_zeros = torch.zeros_like(input = rang)\n",
        "ten_zeros"
      ],
      "metadata": {
        "colab": {
          "base_uri": "https://localhost:8080/"
        },
        "id": "ZAjwPSoHIxTw",
        "outputId": "764ee242-d626-4353-f053-1126450a6ddc"
      },
      "execution_count": 128,
      "outputs": [
        {
          "output_type": "execute_result",
          "data": {
            "text/plain": [
              "tensor([0, 0, 0, 0, 0, 0, 0, 0, 0, 0])"
            ]
          },
          "metadata": {},
          "execution_count": 128
        }
      ]
    },
    {
      "cell_type": "code",
      "source": [
        "d2 = torch.randint(0, 9, (5, 10))\n",
        "o2 = torch.zeros_like(d2)\n",
        "o2"
      ],
      "metadata": {
        "colab": {
          "base_uri": "https://localhost:8080/"
        },
        "id": "niKmdedEJogG",
        "outputId": "4696d720-abdf-476b-c151-92188b4181cf"
      },
      "execution_count": 129,
      "outputs": [
        {
          "output_type": "execute_result",
          "data": {
            "text/plain": [
              "tensor([[0, 0, 0, 0, 0, 0, 0, 0, 0, 0],\n",
              "        [0, 0, 0, 0, 0, 0, 0, 0, 0, 0],\n",
              "        [0, 0, 0, 0, 0, 0, 0, 0, 0, 0],\n",
              "        [0, 0, 0, 0, 0, 0, 0, 0, 0, 0],\n",
              "        [0, 0, 0, 0, 0, 0, 0, 0, 0, 0]])"
            ]
          },
          "metadata": {},
          "execution_count": 129
        }
      ]
    },
    {
      "cell_type": "markdown",
      "source": [
        "##**tensor datatypes**"
      ],
      "metadata": {
        "id": "LY0nu3DRKDqG"
      }
    },
    {
      "cell_type": "code",
      "source": [
        "test_tensor = torch.tensor([1, 2, 3],\n",
        "                           dtype=torch.half,\n",
        "                           requires_grad=False\n",
        "                           )"
      ],
      "metadata": {
        "id": "Pl3wyptmJ9lq"
      },
      "execution_count": 130,
      "outputs": []
    },
    {
      "cell_type": "code",
      "source": [
        "float64_tensor = test_tensor.type(torch.double)\n",
        "float64_tensor"
      ],
      "metadata": {
        "colab": {
          "base_uri": "https://localhost:8080/"
        },
        "id": "q-Rw6LQXMbZD",
        "outputId": "50c53292-7b85-459a-a7a8-9cc29219632e"
      },
      "execution_count": 131,
      "outputs": [
        {
          "output_type": "execute_result",
          "data": {
            "text/plain": [
              "tensor([1., 2., 3.], dtype=torch.float64)"
            ]
          },
          "metadata": {},
          "execution_count": 131
        }
      ]
    },
    {
      "cell_type": "code",
      "source": [
        "test_tensor * float64_tensor"
      ],
      "metadata": {
        "colab": {
          "base_uri": "https://localhost:8080/"
        },
        "id": "YNTIlQiAMvpn",
        "outputId": "70b9b5bc-f11b-49ff-a79a-f0accb00b915"
      },
      "execution_count": 132,
      "outputs": [
        {
          "output_type": "execute_result",
          "data": {
            "text/plain": [
              "tensor([1., 4., 9.], dtype=torch.float64)"
            ]
          },
          "metadata": {},
          "execution_count": 132
        }
      ]
    },
    {
      "cell_type": "code",
      "source": [
        "test_tensor.device"
      ],
      "metadata": {
        "colab": {
          "base_uri": "https://localhost:8080/"
        },
        "id": "FakW44ZeM4wh",
        "outputId": "a97d219f-8429-485b-c47e-706c0180050a"
      },
      "execution_count": 133,
      "outputs": [
        {
          "output_type": "execute_result",
          "data": {
            "text/plain": [
              "device(type='cpu')"
            ]
          },
          "metadata": {},
          "execution_count": 133
        }
      ]
    },
    {
      "cell_type": "code",
      "source": [
        "image_tensor.device"
      ],
      "metadata": {
        "colab": {
          "base_uri": "https://localhost:8080/"
        },
        "id": "UZekUWDxOhDw",
        "outputId": "e8e460bc-b860-4e72-df26-f2ac266a9e46"
      },
      "execution_count": 134,
      "outputs": [
        {
          "output_type": "execute_result",
          "data": {
            "text/plain": [
              "device(type='cpu')"
            ]
          },
          "metadata": {},
          "execution_count": 134
        }
      ]
    },
    {
      "cell_type": "markdown",
      "source": [
        "### **manipulating tensors**"
      ],
      "metadata": {
        "id": "EdH-cy91O2Ik"
      }
    },
    {
      "cell_type": "code",
      "source": [
        "mani_tensor = torch.tensor([[1, 2, 3],\n",
        "                            [4, 5, 6]])\n",
        "\n",
        "mani_tensor + 10"
      ],
      "metadata": {
        "colab": {
          "base_uri": "https://localhost:8080/"
        },
        "id": "yrB4-mQrOltx",
        "outputId": "1f192e4e-7e48-4a8f-c3b0-dfa5f2641c06"
      },
      "execution_count": 135,
      "outputs": [
        {
          "output_type": "execute_result",
          "data": {
            "text/plain": [
              "tensor([[11, 12, 13],\n",
              "        [14, 15, 16]])"
            ]
          },
          "metadata": {},
          "execution_count": 135
        }
      ]
    },
    {
      "cell_type": "code",
      "source": [
        "mani_tensor - 10"
      ],
      "metadata": {
        "colab": {
          "base_uri": "https://localhost:8080/"
        },
        "id": "MOL48i_HQaSk",
        "outputId": "6487100b-7751-4a67-ab31-69fa6cf6c2b2"
      },
      "execution_count": 136,
      "outputs": [
        {
          "output_type": "execute_result",
          "data": {
            "text/plain": [
              "tensor([[-9, -8, -7],\n",
              "        [-6, -5, -4]])"
            ]
          },
          "metadata": {},
          "execution_count": 136
        }
      ]
    },
    {
      "cell_type": "code",
      "source": [
        "mani_tensor * 10"
      ],
      "metadata": {
        "colab": {
          "base_uri": "https://localhost:8080/"
        },
        "id": "vUQUq6soQdio",
        "outputId": "e5bf9089-1944-4d79-ad75-b8c3e643ba55"
      },
      "execution_count": 137,
      "outputs": [
        {
          "output_type": "execute_result",
          "data": {
            "text/plain": [
              "tensor([[10, 20, 30],\n",
              "        [40, 50, 60]])"
            ]
          },
          "metadata": {},
          "execution_count": 137
        }
      ]
    },
    {
      "cell_type": "code",
      "source": [
        "mani_tensor / 10"
      ],
      "metadata": {
        "colab": {
          "base_uri": "https://localhost:8080/"
        },
        "id": "65MMtF5YQf2U",
        "outputId": "e5d5fd71-edad-4241-873a-d1ecd9a2a8bd"
      },
      "execution_count": 138,
      "outputs": [
        {
          "output_type": "execute_result",
          "data": {
            "text/plain": [
              "tensor([[0.1000, 0.2000, 0.3000],\n",
              "        [0.4000, 0.5000, 0.6000]])"
            ]
          },
          "metadata": {},
          "execution_count": 138
        }
      ]
    },
    {
      "cell_type": "markdown",
      "source": [
        "# **matrix multiplication**"
      ],
      "metadata": {
        "id": "cENC2MeiSISR"
      }
    },
    {
      "cell_type": "code",
      "source": [
        "# matrix multiplication by hand\n",
        "%%time\n",
        "a = [[1, 2, 3], [4, 5, 6]]\n",
        "b = [[1, 2], [3, 4], [5, 6]]\n",
        "\n",
        "a_cols = len(a[0])\n",
        "a_rows = len(a)\n",
        "b_cols = len(b[0])\n",
        "b_rows = len(b)\n",
        "\n",
        "result = [[0 for j in range(b_cols)] for i in range(a_rows)]\n",
        "\n",
        "for i in range(a_rows):\n",
        "  for j in range(b_cols):\n",
        "    for k in range(a_cols):\n",
        "      result[i][j] += a[i][k] * b[k][j]"
      ],
      "metadata": {
        "id": "q8HezOnNQj6Z",
        "colab": {
          "base_uri": "https://localhost:8080/"
        },
        "outputId": "d7362f0a-06c8-4867-afaa-da1057ef7dbe"
      },
      "execution_count": 139,
      "outputs": [
        {
          "output_type": "stream",
          "name": "stdout",
          "text": [
            "CPU times: user 28 µs, sys: 0 ns, total: 28 µs\n",
            "Wall time: 43.9 µs\n"
          ]
        }
      ]
    },
    {
      "cell_type": "code",
      "source": [
        "# using pytorch matmul function\n",
        "\n",
        "tensor_a = torch.tensor(a)\n",
        "tensor_b = torch.tensor(b)\n"
      ],
      "metadata": {
        "id": "HqaaPnIcSjli"
      },
      "execution_count": 140,
      "outputs": []
    },
    {
      "cell_type": "code",
      "source": [
        "%%time\n",
        "tensor_mul = torch.matmul(tensor_a, tensor_b)"
      ],
      "metadata": {
        "colab": {
          "base_uri": "https://localhost:8080/"
        },
        "id": "L8f_wX8UKWoL",
        "outputId": "2dfdc711-e650-4571-dc32-9a68f2a26fe2"
      },
      "execution_count": 141,
      "outputs": [
        {
          "output_type": "stream",
          "name": "stdout",
          "text": [
            "CPU times: user 329 µs, sys: 0 ns, total: 329 µs\n",
            "Wall time: 338 µs\n"
          ]
        }
      ]
    },
    {
      "cell_type": "code",
      "source": [
        "%%time\n",
        "tensor_a @ tensor_b"
      ],
      "metadata": {
        "colab": {
          "base_uri": "https://localhost:8080/"
        },
        "id": "hy8hnqYBSpRZ",
        "outputId": "19399401-e2bd-41d1-cf82-3eab3e47e0e1"
      },
      "execution_count": 142,
      "outputs": [
        {
          "output_type": "stream",
          "name": "stdout",
          "text": [
            "CPU times: user 174 µs, sys: 0 ns, total: 174 µs\n",
            "Wall time: 127 µs\n"
          ]
        },
        {
          "output_type": "execute_result",
          "data": {
            "text/plain": [
              "tensor([[22, 28],\n",
              "        [49, 64]])"
            ]
          },
          "metadata": {},
          "execution_count": 142
        }
      ]
    },
    {
      "cell_type": "code",
      "source": [
        "# checking rules to satisfy for matmul\n",
        "\n",
        "def check(a:torch.tensor, b:torch.tensor):\n",
        "  if a.shape[1] == b.T.shape[0]:\n",
        "    return torch.matmul(a, b.T)\n",
        "  if a.T.shape[1] == b.shape[0]:\n",
        "    return torch.matmul(a.T, b)\n",
        "  if a.T.shape[1] == b.T.shape[0]:\n",
        "    return torch.matmul(a.T, b.T)\n",
        "  if a.shape[1] != b.shape[0]:\n",
        "    return print(f\"Invalid shape {a.shape} @ {b.shape}\")\n",
        "  return torch.matmul(a, b)\n",
        "\n",
        "check(torch.rand(3, 2), torch.rand(5, 3))"
      ],
      "metadata": {
        "colab": {
          "base_uri": "https://localhost:8080/"
        },
        "id": "WbzqzmkAStkk",
        "outputId": "bc392201-edde-4d72-a691-b35b38051c4f"
      },
      "execution_count": 143,
      "outputs": [
        {
          "output_type": "execute_result",
          "data": {
            "text/plain": [
              "tensor([[1.0173, 0.5739, 0.7382, 0.3266, 0.3989],\n",
              "        [1.3555, 0.6580, 0.7225, 0.7638, 0.7585]])"
            ]
          },
          "metadata": {},
          "execution_count": 143
        }
      ]
    },
    {
      "cell_type": "markdown",
      "source": [
        "# **Tensor Aggregation**"
      ],
      "metadata": {
        "id": "RDXqu89pXgt_"
      }
    },
    {
      "cell_type": "code",
      "source": [
        "tril = torch.randint(1, 983, (6, 6), dtype=torch.half)\n",
        "tril"
      ],
      "metadata": {
        "colab": {
          "base_uri": "https://localhost:8080/"
        },
        "id": "j1-kSILEUSUD",
        "outputId": "0016b338-363e-42f0-d2bd-506f174df45d"
      },
      "execution_count": 144,
      "outputs": [
        {
          "output_type": "execute_result",
          "data": {
            "text/plain": [
              "tensor([[ 56.,  56., 722., 280., 607., 298.],\n",
              "        [879., 655., 203., 197.,  90., 598.],\n",
              "        [544., 611.,  83., 390., 797., 538.],\n",
              "        [ 73., 117.,  71., 637.,  81., 207.],\n",
              "        [115., 880., 828., 215., 912.,  70.],\n",
              "        [606., 250.,  29., 799., 343., 146.]], dtype=torch.float16)"
            ]
          },
          "metadata": {},
          "execution_count": 144
        }
      ]
    },
    {
      "cell_type": "code",
      "source": [
        "#min\n",
        "print(torch.min(tril), torch.argmin(tril))"
      ],
      "metadata": {
        "colab": {
          "base_uri": "https://localhost:8080/"
        },
        "id": "fwD26IlaYwLN",
        "outputId": "dffaf4f8-bbbe-4e2e-93cb-60aaee5f788e"
      },
      "execution_count": 145,
      "outputs": [
        {
          "output_type": "stream",
          "name": "stdout",
          "text": [
            "tensor(29., dtype=torch.float16) tensor(32)\n"
          ]
        }
      ]
    },
    {
      "cell_type": "code",
      "source": [
        "#max\n",
        "print(torch.max(tril), torch.argmax(tril))"
      ],
      "metadata": {
        "colab": {
          "base_uri": "https://localhost:8080/"
        },
        "id": "oMAKPqBmY1SO",
        "outputId": "222ae08f-211e-461c-ad98-a318993dfdb4"
      },
      "execution_count": 146,
      "outputs": [
        {
          "output_type": "stream",
          "name": "stdout",
          "text": [
            "tensor(912., dtype=torch.float16) tensor(28)\n"
          ]
        }
      ]
    },
    {
      "cell_type": "code",
      "source": [
        "#average\n",
        "torch.mean(tril)"
      ],
      "metadata": {
        "colab": {
          "base_uri": "https://localhost:8080/"
        },
        "id": "uxBX_9cjY43S",
        "outputId": "83107857-db8d-4b49-87f0-86df0d39b5b9"
      },
      "execution_count": 147,
      "outputs": [
        {
          "output_type": "execute_result",
          "data": {
            "text/plain": [
              "tensor(388.5000, dtype=torch.float16)"
            ]
          },
          "metadata": {},
          "execution_count": 147
        }
      ]
    },
    {
      "cell_type": "code",
      "source": [
        "#sum\n",
        "torch.sum(tril)"
      ],
      "metadata": {
        "colab": {
          "base_uri": "https://localhost:8080/"
        },
        "id": "HbH5VAvVY9cN",
        "outputId": "4a9256c6-c9fb-4f4e-c8fe-7c054b24300a"
      },
      "execution_count": 148,
      "outputs": [
        {
          "output_type": "execute_result",
          "data": {
            "text/plain": [
              "tensor(13984., dtype=torch.float16)"
            ]
          },
          "metadata": {},
          "execution_count": 148
        }
      ]
    },
    {
      "cell_type": "markdown",
      "source": [
        "# **Reshaping, View, Stack, Squeezing, Unsqueezing, Permute**"
      ],
      "metadata": {
        "id": "fy0p-6_pCQfV"
      }
    },
    {
      "cell_type": "code",
      "source": [
        "tensor = torch.arange(1, 11)\n",
        "tensor"
      ],
      "metadata": {
        "id": "t26CBybYaBMP",
        "colab": {
          "base_uri": "https://localhost:8080/"
        },
        "outputId": "6299f000-fb23-4261-ec64-9e7a60a45923"
      },
      "execution_count": 149,
      "outputs": [
        {
          "output_type": "execute_result",
          "data": {
            "text/plain": [
              "tensor([ 1,  2,  3,  4,  5,  6,  7,  8,  9, 10])"
            ]
          },
          "metadata": {},
          "execution_count": 149
        }
      ]
    },
    {
      "cell_type": "code",
      "source": [
        "x = tensor.reshape(10, 1)"
      ],
      "metadata": {
        "id": "hk3UL_K-DSPO"
      },
      "execution_count": 150,
      "outputs": []
    },
    {
      "cell_type": "code",
      "source": [
        "#change view\n",
        "z = x.view(10, 1)\n",
        "z [0, 0] = 99"
      ],
      "metadata": {
        "id": "KZLzzydjDVzv"
      },
      "execution_count": 151,
      "outputs": []
    },
    {
      "cell_type": "code",
      "source": [
        "print(x, z)"
      ],
      "metadata": {
        "colab": {
          "base_uri": "https://localhost:8080/"
        },
        "id": "TNho4cqWDh6w",
        "outputId": "779526d4-d690-43a3-fb35-fc9835ea80c7"
      },
      "execution_count": 152,
      "outputs": [
        {
          "output_type": "stream",
          "name": "stdout",
          "text": [
            "tensor([[99],\n",
            "        [ 2],\n",
            "        [ 3],\n",
            "        [ 4],\n",
            "        [ 5],\n",
            "        [ 6],\n",
            "        [ 7],\n",
            "        [ 8],\n",
            "        [ 9],\n",
            "        [10]]) tensor([[99],\n",
            "        [ 2],\n",
            "        [ 3],\n",
            "        [ 4],\n",
            "        [ 5],\n",
            "        [ 6],\n",
            "        [ 7],\n",
            "        [ 8],\n",
            "        [ 9],\n",
            "        [10]])\n"
          ]
        }
      ]
    },
    {
      "cell_type": "code",
      "source": [
        "#stacking\n",
        "a = torch.tensor([1, 2, 3])\n",
        "b = torch.tensor([4, 5, 6])"
      ],
      "metadata": {
        "id": "1Sob9X6_ETOF"
      },
      "execution_count": 153,
      "outputs": []
    },
    {
      "cell_type": "code",
      "source": [
        "torch.stack([a, b] )"
      ],
      "metadata": {
        "colab": {
          "base_uri": "https://localhost:8080/"
        },
        "id": "-f3jhmobEw1l",
        "outputId": "b566dcf0-8940-4b1e-aa60-f56f70241496"
      },
      "execution_count": 154,
      "outputs": [
        {
          "output_type": "execute_result",
          "data": {
            "text/plain": [
              "tensor([[1, 2, 3],\n",
              "        [4, 5, 6]])"
            ]
          },
          "metadata": {},
          "execution_count": 154
        }
      ]
    },
    {
      "cell_type": "code",
      "source": [
        "torch.hstack([a, b])"
      ],
      "metadata": {
        "colab": {
          "base_uri": "https://localhost:8080/"
        },
        "id": "kwLl_cPCE-qn",
        "outputId": "5d3174f8-1439-4775-913e-aad6ec191b9f"
      },
      "execution_count": 155,
      "outputs": [
        {
          "output_type": "execute_result",
          "data": {
            "text/plain": [
              "tensor([1, 2, 3, 4, 5, 6])"
            ]
          },
          "metadata": {},
          "execution_count": 155
        }
      ]
    },
    {
      "cell_type": "code",
      "source": [
        "torch.vstack([a, b])"
      ],
      "metadata": {
        "colab": {
          "base_uri": "https://localhost:8080/"
        },
        "id": "voOVEZ5gFJEw",
        "outputId": "db25e510-2ac4-4606-8c42-31216feb39c8"
      },
      "execution_count": 156,
      "outputs": [
        {
          "output_type": "execute_result",
          "data": {
            "text/plain": [
              "tensor([[1, 2, 3],\n",
              "        [4, 5, 6]])"
            ]
          },
          "metadata": {},
          "execution_count": 156
        }
      ]
    },
    {
      "cell_type": "code",
      "source": [
        "# Squeezing a tensor\n",
        "\n",
        "a = torch.zeros(2, 1, 2, 1, 2)\n",
        "b = torch.squeeze(a)\n",
        "print(a.size(), b.size())"
      ],
      "metadata": {
        "colab": {
          "base_uri": "https://localhost:8080/"
        },
        "id": "HTYki4D1FM06",
        "outputId": "64d58d84-0a7e-4d64-f701-7228728c61f3"
      },
      "execution_count": 157,
      "outputs": [
        {
          "output_type": "stream",
          "name": "stdout",
          "text": [
            "torch.Size([2, 1, 2, 1, 2]) torch.Size([2, 2, 2])\n"
          ]
        }
      ]
    },
    {
      "cell_type": "code",
      "source": [
        "print(x.shape, x)\n",
        "print(torch.squeeze(x).shape, torch.squeeze(x))"
      ],
      "metadata": {
        "colab": {
          "base_uri": "https://localhost:8080/"
        },
        "id": "JQCNk46vGIZI",
        "outputId": "972ded88-2fff-47a5-a94a-4eeaddb80f3e"
      },
      "execution_count": 158,
      "outputs": [
        {
          "output_type": "stream",
          "name": "stdout",
          "text": [
            "torch.Size([10, 1]) tensor([[99],\n",
            "        [ 2],\n",
            "        [ 3],\n",
            "        [ 4],\n",
            "        [ 5],\n",
            "        [ 6],\n",
            "        [ 7],\n",
            "        [ 8],\n",
            "        [ 9],\n",
            "        [10]])\n",
            "torch.Size([10]) tensor([99,  2,  3,  4,  5,  6,  7,  8,  9, 10])\n"
          ]
        }
      ]
    },
    {
      "cell_type": "code",
      "source": [
        "#Unsqueezing tensor\n",
        "squeezed = torch.squeeze(x)\n",
        "print(squeezed.shape, squeezed)\n",
        "unsqueezed = torch.unsqueeze(squeezed, dim=1)\n",
        "print(unsqueezed.shape, unsqueezed)"
      ],
      "metadata": {
        "colab": {
          "base_uri": "https://localhost:8080/"
        },
        "id": "CFGZVAuiHO7M",
        "outputId": "b5faa047-3d9d-46e4-8463-880c63ec14ff"
      },
      "execution_count": 159,
      "outputs": [
        {
          "output_type": "stream",
          "name": "stdout",
          "text": [
            "torch.Size([10]) tensor([99,  2,  3,  4,  5,  6,  7,  8,  9, 10])\n",
            "torch.Size([10, 1]) tensor([[99],\n",
            "        [ 2],\n",
            "        [ 3],\n",
            "        [ 4],\n",
            "        [ 5],\n",
            "        [ 6],\n",
            "        [ 7],\n",
            "        [ 8],\n",
            "        [ 9],\n",
            "        [10]])\n"
          ]
        }
      ]
    },
    {
      "cell_type": "code",
      "source": [
        "#permuting -> changing the dimensions of the tensor it returns the view of the original tensor\n",
        "new = torch.rand(size=(224, 224, 3))\n",
        "\n",
        "permuted_new = torch.permute(new, (2, 0, 1))"
      ],
      "metadata": {
        "id": "5XufTT3xIRV8"
      },
      "execution_count": 160,
      "outputs": []
    },
    {
      "cell_type": "code",
      "source": [
        "permuted_new.size()"
      ],
      "metadata": {
        "colab": {
          "base_uri": "https://localhost:8080/"
        },
        "id": "XR0pqS6tLbF-",
        "outputId": "c4c5eed0-770f-4357-e704-fd70e1aca311"
      },
      "execution_count": 161,
      "outputs": [
        {
          "output_type": "execute_result",
          "data": {
            "text/plain": [
              "torch.Size([3, 224, 224])"
            ]
          },
          "metadata": {},
          "execution_count": 161
        }
      ]
    },
    {
      "cell_type": "code",
      "source": [
        "new[0, 0, 0] = 6845"
      ],
      "metadata": {
        "id": "tZHpT6tULdyw"
      },
      "execution_count": 162,
      "outputs": []
    },
    {
      "cell_type": "code",
      "source": [
        "permuted_new[0, 0, 0]"
      ],
      "metadata": {
        "colab": {
          "base_uri": "https://localhost:8080/"
        },
        "id": "Rxi6dBqdMBHn",
        "outputId": "646ac1d3-57f1-4616-e8a3-6eade2832de3"
      },
      "execution_count": 163,
      "outputs": [
        {
          "output_type": "execute_result",
          "data": {
            "text/plain": [
              "tensor(6845.)"
            ]
          },
          "metadata": {},
          "execution_count": 163
        }
      ]
    },
    {
      "cell_type": "markdown",
      "source": [
        "# **Indexing**"
      ],
      "metadata": {
        "id": "dydzg67TMg0j"
      }
    },
    {
      "cell_type": "code",
      "source": [
        "x = torch.arange(1, 241).reshape(1, 60, 4)\n",
        "x.shape"
      ],
      "metadata": {
        "colab": {
          "base_uri": "https://localhost:8080/"
        },
        "collapsed": true,
        "id": "VQpDSOqFMN7m",
        "outputId": "d6b11c95-92aa-41e8-9b42-ef581f01d788"
      },
      "execution_count": 164,
      "outputs": [
        {
          "output_type": "execute_result",
          "data": {
            "text/plain": [
              "torch.Size([1, 60, 4])"
            ]
          },
          "metadata": {},
          "execution_count": 164
        }
      ]
    },
    {
      "cell_type": "code",
      "source": [
        " x[0, :, 0]"
      ],
      "metadata": {
        "colab": {
          "base_uri": "https://localhost:8080/"
        },
        "id": "O4T1BqNeM9th",
        "outputId": "c3921331-4c9c-4757-8a8a-5f1655043bda"
      },
      "execution_count": 166,
      "outputs": [
        {
          "output_type": "execute_result",
          "data": {
            "text/plain": [
              "tensor([  1,   5,   9,  13,  17,  21,  25,  29,  33,  37,  41,  45,  49,  53,\n",
              "         57,  61,  65,  69,  73,  77,  81,  85,  89,  93,  97, 101, 105, 109,\n",
              "        113, 117, 121, 125, 129, 133, 137, 141, 145, 149, 153, 157, 161, 165,\n",
              "        169, 173, 177, 181, 185, 189, 193, 197, 201, 205, 209, 213, 217, 221,\n",
              "        225, 229, 233, 237])"
            ]
          },
          "metadata": {},
          "execution_count": 166
        }
      ]
    },
    {
      "cell_type": "code",
      "source": [],
      "metadata": {
        "id": "h21blm2GNRBD"
      },
      "execution_count": 165,
      "outputs": []
    }
  ]
}