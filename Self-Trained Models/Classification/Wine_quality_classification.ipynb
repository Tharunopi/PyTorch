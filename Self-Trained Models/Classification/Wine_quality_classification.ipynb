{
 "cells": [
  {
   "cell_type": "code",
   "execution_count": 1,
   "id": "7bfdccc4",
   "metadata": {},
   "outputs": [],
   "source": [
    "import pandas as pd\n",
    "import torch\n",
    "import torch.nn as nn\n",
    "import numpy as np\n",
    "from sklearn.model_selection import train_test_split\n",
    "from sklearn.metrics import accuracy_score\n",
    "import matplotlib.pyplot as plt"
   ]
  },
  {
   "cell_type": "markdown",
   "id": "e7fa38ee",
   "metadata": {},
   "source": [
    "Device dignostics code"
   ]
  },
  {
   "cell_type": "code",
   "execution_count": 2,
   "id": "4d284dbb",
   "metadata": {},
   "outputs": [],
   "source": [
    "device = 'cuda' if torch.cuda.is_available() else 'cpu'"
   ]
  },
  {
   "cell_type": "markdown",
   "id": "018cb9c6",
   "metadata": {},
   "source": [
    "Importing dataset"
   ]
  },
  {
   "cell_type": "code",
   "execution_count": 3,
   "id": "c9c7ea9e",
   "metadata": {},
   "outputs": [],
   "source": [
    "df = pd.read_csv(r\"E:\\Pytorch Datasets\\Classification\\wine+quality\\winequality-white.csv\", delimiter=';')"
   ]
  },
  {
   "cell_type": "code",
   "execution_count": 4,
   "id": "200b77bd",
   "metadata": {},
   "outputs": [
    {
     "data": {
      "text/html": [
       "<div>\n",
       "<style scoped>\n",
       "    .dataframe tbody tr th:only-of-type {\n",
       "        vertical-align: middle;\n",
       "    }\n",
       "\n",
       "    .dataframe tbody tr th {\n",
       "        vertical-align: top;\n",
       "    }\n",
       "\n",
       "    .dataframe thead th {\n",
       "        text-align: right;\n",
       "    }\n",
       "</style>\n",
       "<table border=\"1\" class=\"dataframe\">\n",
       "  <thead>\n",
       "    <tr style=\"text-align: right;\">\n",
       "      <th></th>\n",
       "      <th>fixed acidity</th>\n",
       "      <th>volatile acidity</th>\n",
       "      <th>citric acid</th>\n",
       "      <th>residual sugar</th>\n",
       "      <th>chlorides</th>\n",
       "      <th>free sulfur dioxide</th>\n",
       "      <th>total sulfur dioxide</th>\n",
       "      <th>density</th>\n",
       "      <th>pH</th>\n",
       "      <th>sulphates</th>\n",
       "      <th>alcohol</th>\n",
       "      <th>quality</th>\n",
       "    </tr>\n",
       "  </thead>\n",
       "  <tbody>\n",
       "    <tr>\n",
       "      <th>0</th>\n",
       "      <td>7.0</td>\n",
       "      <td>0.27</td>\n",
       "      <td>0.36</td>\n",
       "      <td>20.7</td>\n",
       "      <td>0.045</td>\n",
       "      <td>45.0</td>\n",
       "      <td>170.0</td>\n",
       "      <td>1.0010</td>\n",
       "      <td>3.00</td>\n",
       "      <td>0.45</td>\n",
       "      <td>8.8</td>\n",
       "      <td>6</td>\n",
       "    </tr>\n",
       "    <tr>\n",
       "      <th>1</th>\n",
       "      <td>6.3</td>\n",
       "      <td>0.30</td>\n",
       "      <td>0.34</td>\n",
       "      <td>1.6</td>\n",
       "      <td>0.049</td>\n",
       "      <td>14.0</td>\n",
       "      <td>132.0</td>\n",
       "      <td>0.9940</td>\n",
       "      <td>3.30</td>\n",
       "      <td>0.49</td>\n",
       "      <td>9.5</td>\n",
       "      <td>6</td>\n",
       "    </tr>\n",
       "    <tr>\n",
       "      <th>2</th>\n",
       "      <td>8.1</td>\n",
       "      <td>0.28</td>\n",
       "      <td>0.40</td>\n",
       "      <td>6.9</td>\n",
       "      <td>0.050</td>\n",
       "      <td>30.0</td>\n",
       "      <td>97.0</td>\n",
       "      <td>0.9951</td>\n",
       "      <td>3.26</td>\n",
       "      <td>0.44</td>\n",
       "      <td>10.1</td>\n",
       "      <td>6</td>\n",
       "    </tr>\n",
       "    <tr>\n",
       "      <th>3</th>\n",
       "      <td>7.2</td>\n",
       "      <td>0.23</td>\n",
       "      <td>0.32</td>\n",
       "      <td>8.5</td>\n",
       "      <td>0.058</td>\n",
       "      <td>47.0</td>\n",
       "      <td>186.0</td>\n",
       "      <td>0.9956</td>\n",
       "      <td>3.19</td>\n",
       "      <td>0.40</td>\n",
       "      <td>9.9</td>\n",
       "      <td>6</td>\n",
       "    </tr>\n",
       "    <tr>\n",
       "      <th>4</th>\n",
       "      <td>7.2</td>\n",
       "      <td>0.23</td>\n",
       "      <td>0.32</td>\n",
       "      <td>8.5</td>\n",
       "      <td>0.058</td>\n",
       "      <td>47.0</td>\n",
       "      <td>186.0</td>\n",
       "      <td>0.9956</td>\n",
       "      <td>3.19</td>\n",
       "      <td>0.40</td>\n",
       "      <td>9.9</td>\n",
       "      <td>6</td>\n",
       "    </tr>\n",
       "  </tbody>\n",
       "</table>\n",
       "</div>"
      ],
      "text/plain": [
       "   fixed acidity  volatile acidity  citric acid  residual sugar  chlorides  \\\n",
       "0            7.0              0.27         0.36            20.7      0.045   \n",
       "1            6.3              0.30         0.34             1.6      0.049   \n",
       "2            8.1              0.28         0.40             6.9      0.050   \n",
       "3            7.2              0.23         0.32             8.5      0.058   \n",
       "4            7.2              0.23         0.32             8.5      0.058   \n",
       "\n",
       "   free sulfur dioxide  total sulfur dioxide  density    pH  sulphates  \\\n",
       "0                 45.0                 170.0   1.0010  3.00       0.45   \n",
       "1                 14.0                 132.0   0.9940  3.30       0.49   \n",
       "2                 30.0                  97.0   0.9951  3.26       0.44   \n",
       "3                 47.0                 186.0   0.9956  3.19       0.40   \n",
       "4                 47.0                 186.0   0.9956  3.19       0.40   \n",
       "\n",
       "   alcohol  quality  \n",
       "0      8.8        6  \n",
       "1      9.5        6  \n",
       "2     10.1        6  \n",
       "3      9.9        6  \n",
       "4      9.9        6  "
      ]
     },
     "execution_count": 4,
     "metadata": {},
     "output_type": "execute_result"
    }
   ],
   "source": [
    "df.head()"
   ]
  },
  {
   "cell_type": "markdown",
   "id": "74e3cae3",
   "metadata": {},
   "source": [
    "Filtering Data"
   ]
  },
  {
   "cell_type": "code",
   "execution_count": 5,
   "id": "01dafd2c",
   "metadata": {},
   "outputs": [],
   "source": [
    "X = np.array(df.iloc[:, :-1])\n",
    "y = np.array(df.iloc[:, -1])"
   ]
  },
  {
   "cell_type": "code",
   "execution_count": 6,
   "id": "369c4851",
   "metadata": {},
   "outputs": [
    {
     "data": {
      "text/plain": [
       "(numpy.ndarray, numpy.ndarray)"
      ]
     },
     "execution_count": 6,
     "metadata": {},
     "output_type": "execute_result"
    }
   ],
   "source": [
    "type(X), type(y)"
   ]
  },
  {
   "cell_type": "markdown",
   "id": "5726d8e8",
   "metadata": {},
   "source": [
    "Converting numpy to tensor"
   ]
  },
  {
   "cell_type": "code",
   "execution_count": 7,
   "id": "7efb6167",
   "metadata": {},
   "outputs": [],
   "source": [
    "X = torch.from_numpy(X).type(torch.float)\n",
    "y = torch.from_numpy(y).type(torch.float)"
   ]
  },
  {
   "cell_type": "code",
   "execution_count": 8,
   "id": "c7e032e4",
   "metadata": {},
   "outputs": [
    {
     "data": {
      "text/plain": [
       "(torch.Tensor, torch.Tensor)"
      ]
     },
     "execution_count": 8,
     "metadata": {},
     "output_type": "execute_result"
    }
   ],
   "source": [
    "type(X), type(y)"
   ]
  },
  {
   "cell_type": "code",
   "execution_count": 9,
   "id": "f85637ea",
   "metadata": {},
   "outputs": [
    {
     "data": {
      "text/plain": [
       "(torch.Size([4898, 11]), torch.Size([4898]))"
      ]
     },
     "execution_count": 9,
     "metadata": {},
     "output_type": "execute_result"
    }
   ],
   "source": [
    "X.shape, y.shape"
   ]
  },
  {
   "cell_type": "markdown",
   "id": "bbc92b72",
   "metadata": {},
   "source": [
    "Spliting training and testing data"
   ]
  },
  {
   "cell_type": "code",
   "execution_count": 10,
   "id": "e6700faf",
   "metadata": {},
   "outputs": [],
   "source": [
    "X_train, X_test, y_train, y_test = train_test_split(X, y, test_size=0.2)"
   ]
  },
  {
   "cell_type": "code",
   "execution_count": 11,
   "id": "c5261c94",
   "metadata": {},
   "outputs": [
    {
     "data": {
      "text/plain": [
       "(torch.Size([3918, 11]),\n",
       " torch.Size([980, 11]),\n",
       " torch.Size([3918]),\n",
       " torch.Size([980]))"
      ]
     },
     "execution_count": 11,
     "metadata": {},
     "output_type": "execute_result"
    }
   ],
   "source": [
    "X_train.shape, X_test.shape, y_train.shape, y_test.shape"
   ]
  },
  {
   "cell_type": "code",
   "execution_count": 12,
   "id": "7a648eef",
   "metadata": {},
   "outputs": [],
   "source": [
    "X_train, X_test, y_train, y_test = X_train.to(device), X_test.to(device), y_train.to(device), y_test.to(device)"
   ]
  },
  {
   "cell_type": "markdown",
   "id": "b02449f6",
   "metadata": {},
   "source": [
    "Build a Linear model by inheriting nn.Module"
   ]
  },
  {
   "cell_type": "code",
   "execution_count": 13,
   "id": "18b92be3",
   "metadata": {},
   "outputs": [],
   "source": [
    "class Model(nn.Module):\n",
    "    def __init__(self):\n",
    "        super().__init__()\n",
    "        self.layer1 = nn.Linear(in_features=11, out_features=128)\n",
    "        self.layer2 = nn.Linear(in_features=128, out_features=256)\n",
    "        self.layer3 = nn.Linear(in_features=256, out_features=512)\n",
    "        self.layer4 = nn.Linear(in_features=512, out_features=10)\n",
    "\n",
    "    def forward(self, x):\n",
    "        x = self.layer1(x)\n",
    "        x = self.layer2(x)\n",
    "        x = self.layer3(x)\n",
    "        x = self.layer4(x)\n",
    "        return x\n",
    "    \n",
    "model = Model().to(device)"
   ]
  },
  {
   "cell_type": "code",
   "execution_count": 14,
   "id": "ca28fd0a",
   "metadata": {},
   "outputs": [
    {
     "data": {
      "text/plain": [
       "OrderedDict([('layer1.weight',\n",
       "              tensor([[-0.2319, -0.1943, -0.0149,  ..., -0.1029,  0.0196, -0.2279],\n",
       "                      [-0.0317,  0.1683, -0.1722,  ...,  0.0015, -0.1720, -0.2500],\n",
       "                      [-0.1589,  0.2182, -0.0194,  ..., -0.1231,  0.1058, -0.1237],\n",
       "                      ...,\n",
       "                      [-0.0744,  0.1220,  0.1641,  ..., -0.0699, -0.1357,  0.0897],\n",
       "                      [ 0.1077, -0.0468,  0.1491,  ..., -0.0498, -0.0599,  0.0766],\n",
       "                      [ 0.2349, -0.1220, -0.1470,  ..., -0.2167,  0.1084,  0.2602]])),\n",
       "             ('layer1.bias',\n",
       "              tensor([-3.0323e-02,  2.3695e-01,  2.9633e-01, -5.1952e-02,  3.6070e-02,\n",
       "                      -2.2347e-01,  1.6354e-01,  2.4711e-01,  2.7964e-01, -2.8024e-01,\n",
       "                      -2.0365e-01, -2.1766e-01, -2.1862e-01, -1.8477e-01, -1.6141e-04,\n",
       "                       1.7406e-01, -6.8942e-02, -1.7870e-01, -2.1153e-01,  1.6013e-01,\n",
       "                       2.5461e-01, -5.0715e-02,  1.1666e-02, -8.9629e-02, -8.1342e-02,\n",
       "                       2.5299e-01, -8.6935e-02,  2.5739e-01, -1.5094e-01,  5.9223e-02,\n",
       "                       2.5591e-02,  2.3940e-01, -2.3195e-01, -7.9569e-02, -8.3176e-02,\n",
       "                      -1.1439e-01, -2.0882e-02,  2.2399e-01,  8.0321e-02,  3.5917e-02,\n",
       "                      -1.0381e-01, -2.1713e-01,  2.4002e-02,  2.7942e-01, -1.1602e-01,\n",
       "                       2.3559e-01,  2.5029e-01,  2.5468e-01,  1.9957e-02, -9.0481e-02,\n",
       "                      -3.0642e-03, -1.9835e-01, -1.7698e-01, -1.0419e-01,  1.9739e-01,\n",
       "                      -2.7907e-01,  2.7152e-02,  1.3033e-01, -2.8960e-01, -2.0786e-02,\n",
       "                      -1.8251e-01,  2.7595e-01,  5.4806e-02,  2.5345e-01,  2.6733e-01,\n",
       "                       2.8683e-01,  1.5571e-01, -1.8303e-01, -8.2390e-02, -2.4889e-01,\n",
       "                       2.0091e-01, -1.3020e-01, -6.4342e-02,  1.6937e-01, -2.7712e-03,\n",
       "                       2.0398e-01,  5.6527e-02,  1.2630e-01, -6.1904e-02,  1.7856e-01,\n",
       "                      -1.8120e-01,  8.2750e-02, -1.1466e-01, -7.9087e-02, -1.2723e-01,\n",
       "                       3.4550e-02,  1.5112e-01,  2.0719e-01, -7.8414e-02,  2.6829e-01,\n",
       "                      -1.4587e-01, -1.4909e-01,  1.6484e-01,  1.9532e-01, -2.9044e-01,\n",
       "                       6.0724e-02, -1.7977e-01,  1.7455e-01,  1.4786e-01,  1.6741e-01,\n",
       "                       1.1237e-01,  1.2145e-01,  9.6819e-04, -2.7923e-01, -1.4833e-01,\n",
       "                       1.4768e-01,  7.8575e-02, -7.1686e-02, -3.4005e-02,  2.0452e-01,\n",
       "                      -2.9374e-01,  7.3713e-02, -2.0780e-01,  7.8749e-02, -1.6478e-01,\n",
       "                      -2.8886e-01,  1.6734e-01, -7.4937e-02, -3.0026e-01,  2.0814e-01,\n",
       "                       2.6345e-01, -2.7151e-01,  1.5959e-01, -2.6214e-01,  9.7127e-02,\n",
       "                      -2.0297e-01, -1.7160e-01, -2.0212e-01])),\n",
       "             ('layer2.weight',\n",
       "              tensor([[-0.0629, -0.0695,  0.0827,  ...,  0.0354, -0.0031,  0.0449],\n",
       "                      [-0.0338, -0.0674, -0.0241,  ...,  0.0211, -0.0306,  0.0839],\n",
       "                      [-0.0351,  0.0803,  0.0372,  ..., -0.0243,  0.0339, -0.0875],\n",
       "                      ...,\n",
       "                      [ 0.0763, -0.0588, -0.0763,  ...,  0.0783,  0.0601, -0.0362],\n",
       "                      [ 0.0298,  0.0659, -0.0291,  ...,  0.0157,  0.0516,  0.0677],\n",
       "                      [ 0.0643,  0.0706, -0.0769,  ...,  0.0432,  0.0690, -0.0613]])),\n",
       "             ('layer2.bias',\n",
       "              tensor([ 0.0147, -0.0568,  0.0765, -0.0187,  0.0614, -0.0350, -0.0699,  0.0336,\n",
       "                      -0.0834,  0.0410, -0.0136,  0.0240, -0.0627,  0.0052, -0.0341, -0.0774,\n",
       "                      -0.0736, -0.0064,  0.0545, -0.0610,  0.0554, -0.0653,  0.0712,  0.0109,\n",
       "                       0.0400, -0.0400, -0.0343,  0.0351,  0.0328,  0.0247,  0.0696,  0.0137,\n",
       "                      -0.0264, -0.0095,  0.0735,  0.0419,  0.0206,  0.0078, -0.0813, -0.0141,\n",
       "                       0.0431, -0.0599, -0.0003,  0.0232, -0.0859, -0.0518, -0.0640,  0.0594,\n",
       "                      -0.0591, -0.0762, -0.0190,  0.0308, -0.0460,  0.0362, -0.0326, -0.0439,\n",
       "                      -0.0228,  0.0249,  0.0464, -0.0581, -0.0382, -0.0461, -0.0520,  0.0614,\n",
       "                      -0.0210,  0.0261,  0.0193, -0.0383, -0.0676, -0.0217,  0.0313, -0.0746,\n",
       "                      -0.0400, -0.0627,  0.0190, -0.0391, -0.0228,  0.0210, -0.0315, -0.0809,\n",
       "                      -0.0820, -0.0615, -0.0740,  0.0794,  0.0482,  0.0552,  0.0868,  0.0338,\n",
       "                       0.0141,  0.0619, -0.0335,  0.0865, -0.0733, -0.0256, -0.0182,  0.0826,\n",
       "                      -0.0501,  0.0352, -0.0435, -0.0132,  0.0406, -0.0863, -0.0342, -0.0154,\n",
       "                       0.0648,  0.0006, -0.0207, -0.0204, -0.0103,  0.0816, -0.0570,  0.0392,\n",
       "                       0.0211,  0.0084, -0.0803, -0.0505, -0.0075,  0.0703,  0.0063,  0.0004,\n",
       "                      -0.0058,  0.0364,  0.0003,  0.0636, -0.0235,  0.0036, -0.0685,  0.0592,\n",
       "                       0.0437,  0.0348, -0.0727,  0.0637, -0.0531,  0.0407,  0.0627, -0.0184,\n",
       "                      -0.0163, -0.0498,  0.0150,  0.0130, -0.0128,  0.0801, -0.0171, -0.0758,\n",
       "                       0.0104, -0.0299,  0.0242, -0.0699, -0.0096,  0.0109, -0.0614,  0.0828,\n",
       "                       0.0182,  0.0047, -0.0701, -0.0871,  0.0193, -0.0310, -0.0873, -0.0269,\n",
       "                       0.0758,  0.0535,  0.0049,  0.0170, -0.0592,  0.0290, -0.0719,  0.0166,\n",
       "                       0.0392,  0.0773, -0.0808, -0.0269,  0.0691,  0.0638,  0.0700, -0.0129,\n",
       "                      -0.0734, -0.0699, -0.0162,  0.0227,  0.0253, -0.0574, -0.0330, -0.0513,\n",
       "                       0.0841, -0.0829, -0.0776,  0.0792, -0.0074,  0.0103,  0.0683,  0.0673,\n",
       "                      -0.0490,  0.0538, -0.0653,  0.0314, -0.0760,  0.0748, -0.0390, -0.0385,\n",
       "                      -0.0738,  0.0168,  0.0442, -0.0765, -0.0185,  0.0868, -0.0155,  0.0849,\n",
       "                       0.0232,  0.0718, -0.0162, -0.0880, -0.0827,  0.0475,  0.0215, -0.0405,\n",
       "                       0.0245,  0.0316,  0.0835,  0.0013, -0.0185,  0.0298,  0.0012,  0.0600,\n",
       "                       0.0391,  0.0646,  0.0247,  0.0856,  0.0050,  0.0184, -0.0863,  0.0501,\n",
       "                       0.0524, -0.0087, -0.0670, -0.0238, -0.0085,  0.0127,  0.0114,  0.0094,\n",
       "                       0.0880,  0.0706, -0.0261, -0.0525,  0.0625, -0.0126, -0.0521, -0.0781,\n",
       "                      -0.0505,  0.0192,  0.0031,  0.0167,  0.0727, -0.0344,  0.0440, -0.0712])),\n",
       "             ('layer3.weight',\n",
       "              tensor([[ 0.0339, -0.0623, -0.0237,  ..., -0.0030,  0.0291, -0.0200],\n",
       "                      [-0.0416,  0.0070,  0.0384,  ..., -0.0369,  0.0503,  0.0370],\n",
       "                      [-0.0275, -0.0333,  0.0483,  ..., -0.0065, -0.0353,  0.0435],\n",
       "                      ...,\n",
       "                      [ 0.0176,  0.0463, -0.0110,  ..., -0.0533, -0.0395, -0.0329],\n",
       "                      [-0.0549, -0.0008, -0.0166,  ...,  0.0196,  0.0451, -0.0149],\n",
       "                      [-0.0527, -0.0546, -0.0287,  ...,  0.0607,  0.0507,  0.0422]])),\n",
       "             ('layer3.bias',\n",
       "              tensor([ 0.0575, -0.0126, -0.0035, -0.0217,  0.0329,  0.0382,  0.0077,  0.0230,\n",
       "                       0.0170,  0.0571,  0.0223, -0.0330, -0.0049, -0.0516, -0.0180, -0.0201,\n",
       "                       0.0559, -0.0548, -0.0022,  0.0511,  0.0134, -0.0539,  0.0093,  0.0188,\n",
       "                       0.0079,  0.0176, -0.0354, -0.0280, -0.0076, -0.0528,  0.0088, -0.0355,\n",
       "                      -0.0362,  0.0568, -0.0049, -0.0366,  0.0567, -0.0057, -0.0226,  0.0521,\n",
       "                       0.0535, -0.0374,  0.0278, -0.0551, -0.0357, -0.0007,  0.0542, -0.0446,\n",
       "                       0.0616, -0.0294, -0.0467,  0.0607, -0.0322, -0.0195, -0.0063,  0.0167,\n",
       "                      -0.0325, -0.0587,  0.0169, -0.0268,  0.0597,  0.0400, -0.0345,  0.0447,\n",
       "                       0.0442, -0.0439,  0.0244,  0.0577,  0.0378, -0.0191, -0.0420,  0.0337,\n",
       "                       0.0465,  0.0524, -0.0119, -0.0342,  0.0062,  0.0446,  0.0273, -0.0055,\n",
       "                      -0.0471,  0.0147,  0.0142,  0.0395, -0.0417,  0.0230,  0.0198,  0.0222,\n",
       "                      -0.0444, -0.0089, -0.0509, -0.0468, -0.0468, -0.0337,  0.0066,  0.0483,\n",
       "                       0.0306, -0.0153, -0.0497,  0.0225, -0.0398, -0.0143, -0.0508, -0.0045,\n",
       "                       0.0349, -0.0058, -0.0137, -0.0451,  0.0376, -0.0011, -0.0585,  0.0314,\n",
       "                       0.0256, -0.0439,  0.0502,  0.0476, -0.0460, -0.0495, -0.0155, -0.0143,\n",
       "                       0.0395,  0.0260, -0.0224, -0.0377,  0.0067, -0.0115,  0.0617, -0.0152,\n",
       "                      -0.0508, -0.0115, -0.0062,  0.0498, -0.0124, -0.0568,  0.0377,  0.0424,\n",
       "                      -0.0262, -0.0465, -0.0118,  0.0009,  0.0519,  0.0180, -0.0225, -0.0510,\n",
       "                       0.0124, -0.0267,  0.0561,  0.0371, -0.0397,  0.0243,  0.0041,  0.0034,\n",
       "                       0.0320, -0.0080,  0.0541, -0.0084, -0.0438,  0.0276, -0.0284,  0.0418,\n",
       "                      -0.0318, -0.0348,  0.0417, -0.0039, -0.0417, -0.0274,  0.0302, -0.0291,\n",
       "                       0.0546, -0.0377, -0.0194, -0.0582, -0.0590,  0.0596, -0.0490,  0.0406,\n",
       "                      -0.0473,  0.0315, -0.0226,  0.0375,  0.0477,  0.0474, -0.0382,  0.0164,\n",
       "                       0.0603, -0.0600,  0.0545,  0.0254,  0.0307,  0.0318,  0.0103,  0.0393,\n",
       "                      -0.0570,  0.0520, -0.0234,  0.0601, -0.0586, -0.0457,  0.0603,  0.0589,\n",
       "                       0.0505, -0.0181,  0.0586, -0.0600,  0.0581,  0.0120,  0.0259,  0.0381,\n",
       "                       0.0130, -0.0259,  0.0518,  0.0354, -0.0614,  0.0270, -0.0188, -0.0418,\n",
       "                      -0.0422, -0.0070,  0.0175, -0.0173,  0.0297,  0.0063,  0.0422, -0.0556,\n",
       "                      -0.0465, -0.0410,  0.0319,  0.0041,  0.0348,  0.0452, -0.0028,  0.0548,\n",
       "                      -0.0120,  0.0450, -0.0412,  0.0253, -0.0464,  0.0340,  0.0454, -0.0077,\n",
       "                      -0.0490, -0.0538, -0.0500,  0.0462,  0.0326, -0.0477, -0.0422,  0.0078,\n",
       "                       0.0383,  0.0169, -0.0230,  0.0511, -0.0566, -0.0207, -0.0382,  0.0093,\n",
       "                       0.0345, -0.0530,  0.0150,  0.0589, -0.0020, -0.0172, -0.0356,  0.0054,\n",
       "                       0.0409, -0.0404, -0.0185,  0.0378, -0.0505,  0.0008,  0.0369, -0.0094,\n",
       "                       0.0493, -0.0505, -0.0416,  0.0348,  0.0534, -0.0411,  0.0249,  0.0013,\n",
       "                       0.0241,  0.0428,  0.0397, -0.0354, -0.0073,  0.0429,  0.0254,  0.0030,\n",
       "                       0.0568, -0.0018, -0.0417,  0.0121, -0.0400, -0.0196, -0.0573, -0.0120,\n",
       "                       0.0441, -0.0557,  0.0021,  0.0437, -0.0093, -0.0135,  0.0602, -0.0473,\n",
       "                       0.0207,  0.0368,  0.0486,  0.0366, -0.0348, -0.0519, -0.0384,  0.0013,\n",
       "                       0.0094, -0.0615,  0.0445, -0.0293,  0.0605, -0.0079, -0.0004, -0.0356,\n",
       "                       0.0548, -0.0244, -0.0426, -0.0121,  0.0384,  0.0543,  0.0552, -0.0479,\n",
       "                       0.0043,  0.0534,  0.0255, -0.0266, -0.0482,  0.0086,  0.0100, -0.0166,\n",
       "                       0.0374, -0.0454, -0.0327, -0.0360,  0.0546, -0.0541,  0.0518,  0.0251,\n",
       "                       0.0546,  0.0207,  0.0259, -0.0001,  0.0471,  0.0100,  0.0586, -0.0053,\n",
       "                      -0.0535, -0.0355,  0.0074,  0.0092,  0.0251,  0.0355, -0.0215, -0.0552,\n",
       "                      -0.0070, -0.0465, -0.0414, -0.0147,  0.0440,  0.0171, -0.0452,  0.0418,\n",
       "                       0.0075, -0.0048,  0.0066, -0.0051,  0.0096, -0.0449,  0.0276,  0.0342,\n",
       "                      -0.0135,  0.0548, -0.0297,  0.0565,  0.0263,  0.0489,  0.0594, -0.0524,\n",
       "                       0.0475,  0.0228, -0.0607, -0.0563,  0.0171, -0.0055, -0.0586, -0.0088,\n",
       "                      -0.0395,  0.0124, -0.0125,  0.0382, -0.0083, -0.0170,  0.0070, -0.0296,\n",
       "                       0.0006, -0.0463, -0.0150,  0.0587,  0.0075,  0.0192, -0.0427,  0.0481,\n",
       "                       0.0101,  0.0063,  0.0412,  0.0282,  0.0187, -0.0278,  0.0574,  0.0597,\n",
       "                      -0.0472,  0.0222,  0.0417, -0.0395, -0.0296, -0.0188,  0.0567,  0.0298,\n",
       "                      -0.0536, -0.0618,  0.0109,  0.0155, -0.0137,  0.0612, -0.0061,  0.0185,\n",
       "                      -0.0496, -0.0033,  0.0519, -0.0512, -0.0450, -0.0431,  0.0141, -0.0265,\n",
       "                      -0.0166,  0.0184, -0.0527,  0.0229,  0.0517,  0.0524,  0.0307,  0.0369,\n",
       "                       0.0244,  0.0296,  0.0506,  0.0110,  0.0597, -0.0047, -0.0020,  0.0183,\n",
       "                      -0.0423, -0.0281, -0.0298,  0.0054, -0.0382, -0.0075, -0.0239, -0.0427,\n",
       "                       0.0021,  0.0056, -0.0436,  0.0449, -0.0041,  0.0537,  0.0329, -0.0244,\n",
       "                      -0.0135, -0.0197, -0.0260, -0.0393, -0.0603,  0.0007, -0.0341,  0.0201,\n",
       "                      -0.0455, -0.0069,  0.0171,  0.0044, -0.0615,  0.0168, -0.0099, -0.0391,\n",
       "                       0.0067,  0.0617, -0.0244, -0.0083, -0.0474,  0.0124,  0.0052,  0.0517,\n",
       "                       0.0446, -0.0354, -0.0142, -0.0448,  0.0335,  0.0262,  0.0457, -0.0588,\n",
       "                      -0.0416,  0.0616, -0.0526, -0.0234, -0.0597, -0.0478, -0.0507,  0.0255])),\n",
       "             ('layer4.weight',\n",
       "              tensor([[-0.0038,  0.0201, -0.0179,  ..., -0.0241, -0.0354,  0.0175],\n",
       "                      [ 0.0360,  0.0224,  0.0135,  ...,  0.0258, -0.0043, -0.0428],\n",
       "                      [ 0.0093,  0.0317,  0.0082,  ..., -0.0185, -0.0111,  0.0412],\n",
       "                      ...,\n",
       "                      [-0.0317, -0.0287, -0.0147,  ...,  0.0395, -0.0106,  0.0107],\n",
       "                      [ 0.0397, -0.0104, -0.0077,  ..., -0.0070,  0.0291, -0.0147],\n",
       "                      [ 0.0069, -0.0156, -0.0304,  ..., -0.0345, -0.0351,  0.0355]])),\n",
       "             ('layer4.bias',\n",
       "              tensor([ 0.0401, -0.0057,  0.0330, -0.0069, -0.0304,  0.0167, -0.0418, -0.0223,\n",
       "                      -0.0367, -0.0086]))])"
      ]
     },
     "execution_count": 14,
     "metadata": {},
     "output_type": "execute_result"
    }
   ],
   "source": [
    "model.state_dict()"
   ]
  },
  {
   "cell_type": "markdown",
   "id": "dbdede71",
   "metadata": {},
   "source": [
    "Testing everything is fine using dummy values"
   ]
  },
  {
   "cell_type": "code",
   "execution_count": 15,
   "id": "dd344a3e",
   "metadata": {},
   "outputs": [],
   "source": [
    "model.eval()\n",
    "\n",
    "with torch.inference_mode():\n",
    "    y_logits = model(X_test)"
   ]
  },
  {
   "cell_type": "code",
   "execution_count": 16,
   "id": "3b4ecc69",
   "metadata": {},
   "outputs": [
    {
     "data": {
      "text/plain": [
       "torch.Size([980, 10])"
      ]
     },
     "execution_count": 16,
     "metadata": {},
     "output_type": "execute_result"
    }
   ],
   "source": [
    "y_logits.shape"
   ]
  },
  {
   "cell_type": "code",
   "execution_count": 17,
   "id": "6dcceef7",
   "metadata": {},
   "outputs": [],
   "source": [
    "y_pred = torch.argmax(y_logits, dim=1)"
   ]
  },
  {
   "cell_type": "markdown",
   "id": "3a5ac93b",
   "metadata": {},
   "source": [
    "Choosing Loss and Optimizer"
   ]
  },
  {
   "cell_type": "code",
   "execution_count": 18,
   "id": "4f8aeffe",
   "metadata": {},
   "outputs": [],
   "source": [
    "loss_fn = nn.CrossEntropyLoss()\n",
    "optimizer = torch.optim.Adam(\n",
    "    params=model.parameters()\n",
    ")"
   ]
  },
  {
   "cell_type": "markdown",
   "id": "7cef7e9b",
   "metadata": {},
   "source": [
    "Writing Training and Test loops"
   ]
  },
  {
   "cell_type": "code",
   "execution_count": 19,
   "id": "fc34c685",
   "metadata": {},
   "outputs": [],
   "source": [
    "y_train = y_train.long()\n",
    "y_test = y_test.long()"
   ]
  },
  {
   "cell_type": "code",
   "execution_count": 20,
   "id": "1d5c4c7a",
   "metadata": {},
   "outputs": [],
   "source": [
    "trainLoss, testLoss = [], []\n",
    "trainAccuracy, testAccuracy = [], []"
   ]
  },
  {
   "cell_type": "code",
   "execution_count": 21,
   "id": "7922a318",
   "metadata": {},
   "outputs": [
    {
     "name": "stdout",
     "output_type": "stream",
     "text": [
      "Epoch: 10 | Train Loss: 4.95140 | Train Accuracy: 0.4556 | Test Loss: 6.44115 | Test Accuracy: 0.3102\n",
      "Epoch: 20 | Train Loss: 5.48863 | Train Accuracy: 0.4558 | Test Loss: 5.23269 | Test Accuracy: 0.4214\n",
      "Epoch: 30 | Train Loss: 2.12466 | Train Accuracy: 0.4033 | Test Loss: 2.31976 | Test Accuracy: 0.4082\n",
      "Epoch: 40 | Train Loss: 1.52965 | Train Accuracy: 0.4553 | Test Loss: 1.51719 | Test Accuracy: 0.4612\n",
      "Epoch: 50 | Train Loss: 1.38019 | Train Accuracy: 0.3762 | Test Loss: 1.27640 | Test Accuracy: 0.4500\n",
      "Epoch: 60 | Train Loss: 1.30052 | Train Accuracy: 0.4566 | Test Loss: 1.28417 | Test Accuracy: 0.4622\n",
      "Epoch: 70 | Train Loss: 1.24807 | Train Accuracy: 0.4607 | Test Loss: 1.24592 | Test Accuracy: 0.4571\n",
      "Epoch: 80 | Train Loss: 1.23284 | Train Accuracy: 0.4620 | Test Loss: 1.22979 | Test Accuracy: 0.4633\n",
      "Epoch: 90 | Train Loss: 1.22761 | Train Accuracy: 0.4602 | Test Loss: 1.22621 | Test Accuracy: 0.4551\n",
      "Epoch: 100 | Train Loss: 1.22455 | Train Accuracy: 0.4617 | Test Loss: 1.22526 | Test Accuracy: 0.4622\n",
      "Epoch: 110 | Train Loss: 1.22175 | Train Accuracy: 0.4594 | Test Loss: 1.22069 | Test Accuracy: 0.4571\n",
      "Epoch: 120 | Train Loss: 1.21948 | Train Accuracy: 0.4615 | Test Loss: 1.21799 | Test Accuracy: 0.4602\n",
      "Epoch: 130 | Train Loss: 1.21734 | Train Accuracy: 0.4609 | Test Loss: 1.21570 | Test Accuracy: 0.4582\n",
      "Epoch: 140 | Train Loss: 1.21526 | Train Accuracy: 0.4615 | Test Loss: 1.21339 | Test Accuracy: 0.4541\n",
      "Epoch: 150 | Train Loss: 1.21322 | Train Accuracy: 0.4604 | Test Loss: 1.21121 | Test Accuracy: 0.4551\n",
      "Epoch: 160 | Train Loss: 1.21121 | Train Accuracy: 0.4607 | Test Loss: 1.20914 | Test Accuracy: 0.4520\n",
      "Epoch: 170 | Train Loss: 1.20922 | Train Accuracy: 0.4607 | Test Loss: 1.20686 | Test Accuracy: 0.4510\n",
      "Epoch: 180 | Train Loss: 1.20724 | Train Accuracy: 0.4594 | Test Loss: 1.20467 | Test Accuracy: 0.4500\n",
      "Epoch: 190 | Train Loss: 1.20527 | Train Accuracy: 0.4584 | Test Loss: 1.20265 | Test Accuracy: 0.4510\n",
      "Epoch: 200 | Train Loss: 1.20331 | Train Accuracy: 0.4561 | Test Loss: 1.20068 | Test Accuracy: 0.4531\n",
      "Epoch: 210 | Train Loss: 1.20137 | Train Accuracy: 0.4592 | Test Loss: 1.19875 | Test Accuracy: 0.4612\n",
      "Epoch: 220 | Train Loss: 1.19944 | Train Accuracy: 0.4609 | Test Loss: 1.19690 | Test Accuracy: 0.4622\n",
      "Epoch: 230 | Train Loss: 1.19752 | Train Accuracy: 0.4645 | Test Loss: 1.19511 | Test Accuracy: 0.4633\n",
      "Epoch: 240 | Train Loss: 1.19562 | Train Accuracy: 0.4663 | Test Loss: 1.19338 | Test Accuracy: 0.4663\n",
      "Epoch: 250 | Train Loss: 1.19373 | Train Accuracy: 0.4661 | Test Loss: 1.19171 | Test Accuracy: 0.4694\n",
      "Epoch: 260 | Train Loss: 1.19186 | Train Accuracy: 0.4661 | Test Loss: 1.19010 | Test Accuracy: 0.4714\n",
      "Epoch: 270 | Train Loss: 1.19001 | Train Accuracy: 0.4666 | Test Loss: 1.18856 | Test Accuracy: 0.4694\n",
      "Epoch: 280 | Train Loss: 1.18818 | Train Accuracy: 0.4696 | Test Loss: 1.18707 | Test Accuracy: 0.4673\n",
      "Epoch: 290 | Train Loss: 1.18637 | Train Accuracy: 0.4722 | Test Loss: 1.18563 | Test Accuracy: 0.4724\n",
      "Epoch: 300 | Train Loss: 1.18458 | Train Accuracy: 0.4773 | Test Loss: 1.18425 | Test Accuracy: 0.4724\n",
      "Epoch: 310 | Train Loss: 1.18280 | Train Accuracy: 0.4763 | Test Loss: 1.18291 | Test Accuracy: 0.4694\n",
      "Epoch: 320 | Train Loss: 1.18105 | Train Accuracy: 0.4819 | Test Loss: 1.18162 | Test Accuracy: 0.4776\n",
      "Epoch: 330 | Train Loss: 1.17931 | Train Accuracy: 0.4819 | Test Loss: 1.18037 | Test Accuracy: 0.4796\n",
      "Epoch: 340 | Train Loss: 1.18227 | Train Accuracy: 0.4681 | Test Loss: 1.20036 | Test Accuracy: 0.4939\n",
      "Epoch: 350 | Train Loss: 1.36796 | Train Accuracy: 0.4592 | Test Loss: 1.21910 | Test Accuracy: 0.4296\n",
      "Epoch: 360 | Train Loss: 1.18393 | Train Accuracy: 0.4941 | Test Loss: 1.25643 | Test Accuracy: 0.4143\n",
      "Epoch: 370 | Train Loss: 1.19589 | Train Accuracy: 0.4604 | Test Loss: 1.19479 | Test Accuracy: 0.5051\n",
      "Epoch: 380 | Train Loss: 1.18937 | Train Accuracy: 0.4908 | Test Loss: 1.19097 | Test Accuracy: 0.4980\n",
      "Epoch: 390 | Train Loss: 1.18117 | Train Accuracy: 0.4709 | Test Loss: 1.18820 | Test Accuracy: 0.4469\n",
      "Epoch: 400 | Train Loss: 1.17948 | Train Accuracy: 0.4645 | Test Loss: 1.18253 | Test Accuracy: 0.4847\n",
      "Epoch: 410 | Train Loss: 1.17667 | Train Accuracy: 0.4788 | Test Loss: 1.17989 | Test Accuracy: 0.4633\n",
      "Epoch: 420 | Train Loss: 1.17446 | Train Accuracy: 0.4819 | Test Loss: 1.17913 | Test Accuracy: 0.4786\n",
      "Epoch: 430 | Train Loss: 1.17227 | Train Accuracy: 0.4824 | Test Loss: 1.17715 | Test Accuracy: 0.4806\n",
      "Epoch: 440 | Train Loss: 1.17033 | Train Accuracy: 0.4852 | Test Loss: 1.17540 | Test Accuracy: 0.4806\n",
      "Epoch: 450 | Train Loss: 1.16849 | Train Accuracy: 0.4875 | Test Loss: 1.17412 | Test Accuracy: 0.4837\n",
      "Epoch: 460 | Train Loss: 1.16677 | Train Accuracy: 0.4885 | Test Loss: 1.17304 | Test Accuracy: 0.4806\n",
      "Epoch: 470 | Train Loss: 1.16514 | Train Accuracy: 0.4903 | Test Loss: 1.17187 | Test Accuracy: 0.4796\n",
      "Epoch: 480 | Train Loss: 1.16356 | Train Accuracy: 0.4898 | Test Loss: 1.17079 | Test Accuracy: 0.4776\n",
      "Epoch: 490 | Train Loss: 1.16203 | Train Accuracy: 0.4900 | Test Loss: 1.16978 | Test Accuracy: 0.4745\n"
     ]
    },
    {
     "ename": "KeyboardInterrupt",
     "evalue": "",
     "output_type": "error",
     "traceback": [
      "\u001b[1;31m---------------------------------------------------------------------------\u001b[0m",
      "\u001b[1;31mKeyboardInterrupt\u001b[0m                         Traceback (most recent call last)",
      "Cell \u001b[1;32mIn[21], line 7\u001b[0m\n\u001b[0;32m      3\u001b[0m \u001b[38;5;28;01mfor\u001b[39;00m i \u001b[38;5;129;01min\u001b[39;00m \u001b[38;5;28mrange\u001b[39m(\u001b[38;5;241m1\u001b[39m, epochs):\n\u001b[0;32m      4\u001b[0m     \u001b[38;5;66;03m#training\u001b[39;00m\n\u001b[0;32m      5\u001b[0m     model\u001b[38;5;241m.\u001b[39mtrain()\n\u001b[1;32m----> 7\u001b[0m     y_logits \u001b[38;5;241m=\u001b[39m \u001b[43mmodel\u001b[49m\u001b[43m(\u001b[49m\u001b[43mX_train\u001b[49m\u001b[43m)\u001b[49m\n\u001b[0;32m      8\u001b[0m     y_pred \u001b[38;5;241m=\u001b[39m torch\u001b[38;5;241m.\u001b[39margmax(y_logits, dim\u001b[38;5;241m=\u001b[39m\u001b[38;5;241m1\u001b[39m)\n\u001b[0;32m     10\u001b[0m     train_loss \u001b[38;5;241m=\u001b[39m loss_fn(y_logits, y_train)\n",
      "File \u001b[1;32mc:\\Users\\tharu\\Lib\\site-packages\\torch\\nn\\modules\\module.py:1736\u001b[0m, in \u001b[0;36mModule._wrapped_call_impl\u001b[1;34m(self, *args, **kwargs)\u001b[0m\n\u001b[0;32m   1734\u001b[0m     \u001b[38;5;28;01mreturn\u001b[39;00m \u001b[38;5;28mself\u001b[39m\u001b[38;5;241m.\u001b[39m_compiled_call_impl(\u001b[38;5;241m*\u001b[39margs, \u001b[38;5;241m*\u001b[39m\u001b[38;5;241m*\u001b[39mkwargs)  \u001b[38;5;66;03m# type: ignore[misc]\u001b[39;00m\n\u001b[0;32m   1735\u001b[0m \u001b[38;5;28;01melse\u001b[39;00m:\n\u001b[1;32m-> 1736\u001b[0m     \u001b[38;5;28;01mreturn\u001b[39;00m \u001b[38;5;28;43mself\u001b[39;49m\u001b[38;5;241;43m.\u001b[39;49m\u001b[43m_call_impl\u001b[49m\u001b[43m(\u001b[49m\u001b[38;5;241;43m*\u001b[39;49m\u001b[43margs\u001b[49m\u001b[43m,\u001b[49m\u001b[43m \u001b[49m\u001b[38;5;241;43m*\u001b[39;49m\u001b[38;5;241;43m*\u001b[39;49m\u001b[43mkwargs\u001b[49m\u001b[43m)\u001b[49m\n",
      "File \u001b[1;32mc:\\Users\\tharu\\Lib\\site-packages\\torch\\nn\\modules\\module.py:1747\u001b[0m, in \u001b[0;36mModule._call_impl\u001b[1;34m(self, *args, **kwargs)\u001b[0m\n\u001b[0;32m   1742\u001b[0m \u001b[38;5;66;03m# If we don't have any hooks, we want to skip the rest of the logic in\u001b[39;00m\n\u001b[0;32m   1743\u001b[0m \u001b[38;5;66;03m# this function, and just call forward.\u001b[39;00m\n\u001b[0;32m   1744\u001b[0m \u001b[38;5;28;01mif\u001b[39;00m \u001b[38;5;129;01mnot\u001b[39;00m (\u001b[38;5;28mself\u001b[39m\u001b[38;5;241m.\u001b[39m_backward_hooks \u001b[38;5;129;01mor\u001b[39;00m \u001b[38;5;28mself\u001b[39m\u001b[38;5;241m.\u001b[39m_backward_pre_hooks \u001b[38;5;129;01mor\u001b[39;00m \u001b[38;5;28mself\u001b[39m\u001b[38;5;241m.\u001b[39m_forward_hooks \u001b[38;5;129;01mor\u001b[39;00m \u001b[38;5;28mself\u001b[39m\u001b[38;5;241m.\u001b[39m_forward_pre_hooks\n\u001b[0;32m   1745\u001b[0m         \u001b[38;5;129;01mor\u001b[39;00m _global_backward_pre_hooks \u001b[38;5;129;01mor\u001b[39;00m _global_backward_hooks\n\u001b[0;32m   1746\u001b[0m         \u001b[38;5;129;01mor\u001b[39;00m _global_forward_hooks \u001b[38;5;129;01mor\u001b[39;00m _global_forward_pre_hooks):\n\u001b[1;32m-> 1747\u001b[0m     \u001b[38;5;28;01mreturn\u001b[39;00m \u001b[43mforward_call\u001b[49m\u001b[43m(\u001b[49m\u001b[38;5;241;43m*\u001b[39;49m\u001b[43margs\u001b[49m\u001b[43m,\u001b[49m\u001b[43m \u001b[49m\u001b[38;5;241;43m*\u001b[39;49m\u001b[38;5;241;43m*\u001b[39;49m\u001b[43mkwargs\u001b[49m\u001b[43m)\u001b[49m\n\u001b[0;32m   1749\u001b[0m result \u001b[38;5;241m=\u001b[39m \u001b[38;5;28;01mNone\u001b[39;00m\n\u001b[0;32m   1750\u001b[0m called_always_called_hooks \u001b[38;5;241m=\u001b[39m \u001b[38;5;28mset\u001b[39m()\n",
      "Cell \u001b[1;32mIn[13], line 12\u001b[0m, in \u001b[0;36mModel.forward\u001b[1;34m(self, x)\u001b[0m\n\u001b[0;32m     10\u001b[0m x \u001b[38;5;241m=\u001b[39m \u001b[38;5;28mself\u001b[39m\u001b[38;5;241m.\u001b[39mlayer1(x)\n\u001b[0;32m     11\u001b[0m x \u001b[38;5;241m=\u001b[39m \u001b[38;5;28mself\u001b[39m\u001b[38;5;241m.\u001b[39mlayer2(x)\n\u001b[1;32m---> 12\u001b[0m x \u001b[38;5;241m=\u001b[39m \u001b[38;5;28;43mself\u001b[39;49m\u001b[38;5;241;43m.\u001b[39;49m\u001b[43mlayer3\u001b[49m\u001b[43m(\u001b[49m\u001b[43mx\u001b[49m\u001b[43m)\u001b[49m\n\u001b[0;32m     13\u001b[0m x \u001b[38;5;241m=\u001b[39m \u001b[38;5;28mself\u001b[39m\u001b[38;5;241m.\u001b[39mlayer4(x)\n\u001b[0;32m     14\u001b[0m \u001b[38;5;28;01mreturn\u001b[39;00m x\n",
      "File \u001b[1;32mc:\\Users\\tharu\\Lib\\site-packages\\torch\\nn\\modules\\module.py:1736\u001b[0m, in \u001b[0;36mModule._wrapped_call_impl\u001b[1;34m(self, *args, **kwargs)\u001b[0m\n\u001b[0;32m   1734\u001b[0m     \u001b[38;5;28;01mreturn\u001b[39;00m \u001b[38;5;28mself\u001b[39m\u001b[38;5;241m.\u001b[39m_compiled_call_impl(\u001b[38;5;241m*\u001b[39margs, \u001b[38;5;241m*\u001b[39m\u001b[38;5;241m*\u001b[39mkwargs)  \u001b[38;5;66;03m# type: ignore[misc]\u001b[39;00m\n\u001b[0;32m   1735\u001b[0m \u001b[38;5;28;01melse\u001b[39;00m:\n\u001b[1;32m-> 1736\u001b[0m     \u001b[38;5;28;01mreturn\u001b[39;00m \u001b[38;5;28;43mself\u001b[39;49m\u001b[38;5;241;43m.\u001b[39;49m\u001b[43m_call_impl\u001b[49m\u001b[43m(\u001b[49m\u001b[38;5;241;43m*\u001b[39;49m\u001b[43margs\u001b[49m\u001b[43m,\u001b[49m\u001b[43m \u001b[49m\u001b[38;5;241;43m*\u001b[39;49m\u001b[38;5;241;43m*\u001b[39;49m\u001b[43mkwargs\u001b[49m\u001b[43m)\u001b[49m\n",
      "File \u001b[1;32mc:\\Users\\tharu\\Lib\\site-packages\\torch\\nn\\modules\\module.py:1747\u001b[0m, in \u001b[0;36mModule._call_impl\u001b[1;34m(self, *args, **kwargs)\u001b[0m\n\u001b[0;32m   1742\u001b[0m \u001b[38;5;66;03m# If we don't have any hooks, we want to skip the rest of the logic in\u001b[39;00m\n\u001b[0;32m   1743\u001b[0m \u001b[38;5;66;03m# this function, and just call forward.\u001b[39;00m\n\u001b[0;32m   1744\u001b[0m \u001b[38;5;28;01mif\u001b[39;00m \u001b[38;5;129;01mnot\u001b[39;00m (\u001b[38;5;28mself\u001b[39m\u001b[38;5;241m.\u001b[39m_backward_hooks \u001b[38;5;129;01mor\u001b[39;00m \u001b[38;5;28mself\u001b[39m\u001b[38;5;241m.\u001b[39m_backward_pre_hooks \u001b[38;5;129;01mor\u001b[39;00m \u001b[38;5;28mself\u001b[39m\u001b[38;5;241m.\u001b[39m_forward_hooks \u001b[38;5;129;01mor\u001b[39;00m \u001b[38;5;28mself\u001b[39m\u001b[38;5;241m.\u001b[39m_forward_pre_hooks\n\u001b[0;32m   1745\u001b[0m         \u001b[38;5;129;01mor\u001b[39;00m _global_backward_pre_hooks \u001b[38;5;129;01mor\u001b[39;00m _global_backward_hooks\n\u001b[0;32m   1746\u001b[0m         \u001b[38;5;129;01mor\u001b[39;00m _global_forward_hooks \u001b[38;5;129;01mor\u001b[39;00m _global_forward_pre_hooks):\n\u001b[1;32m-> 1747\u001b[0m     \u001b[38;5;28;01mreturn\u001b[39;00m \u001b[43mforward_call\u001b[49m\u001b[43m(\u001b[49m\u001b[38;5;241;43m*\u001b[39;49m\u001b[43margs\u001b[49m\u001b[43m,\u001b[49m\u001b[43m \u001b[49m\u001b[38;5;241;43m*\u001b[39;49m\u001b[38;5;241;43m*\u001b[39;49m\u001b[43mkwargs\u001b[49m\u001b[43m)\u001b[49m\n\u001b[0;32m   1749\u001b[0m result \u001b[38;5;241m=\u001b[39m \u001b[38;5;28;01mNone\u001b[39;00m\n\u001b[0;32m   1750\u001b[0m called_always_called_hooks \u001b[38;5;241m=\u001b[39m \u001b[38;5;28mset\u001b[39m()\n",
      "File \u001b[1;32mc:\\Users\\tharu\\Lib\\site-packages\\torch\\nn\\modules\\linear.py:125\u001b[0m, in \u001b[0;36mLinear.forward\u001b[1;34m(self, input)\u001b[0m\n\u001b[0;32m    124\u001b[0m \u001b[38;5;28;01mdef\u001b[39;00m \u001b[38;5;21mforward\u001b[39m(\u001b[38;5;28mself\u001b[39m, \u001b[38;5;28minput\u001b[39m: Tensor) \u001b[38;5;241m-\u001b[39m\u001b[38;5;241m>\u001b[39m Tensor:\n\u001b[1;32m--> 125\u001b[0m     \u001b[38;5;28;01mreturn\u001b[39;00m \u001b[43mF\u001b[49m\u001b[38;5;241;43m.\u001b[39;49m\u001b[43mlinear\u001b[49m\u001b[43m(\u001b[49m\u001b[38;5;28;43minput\u001b[39;49m\u001b[43m,\u001b[49m\u001b[43m \u001b[49m\u001b[38;5;28;43mself\u001b[39;49m\u001b[38;5;241;43m.\u001b[39;49m\u001b[43mweight\u001b[49m\u001b[43m,\u001b[49m\u001b[43m \u001b[49m\u001b[38;5;28;43mself\u001b[39;49m\u001b[38;5;241;43m.\u001b[39;49m\u001b[43mbias\u001b[49m\u001b[43m)\u001b[49m\n",
      "\u001b[1;31mKeyboardInterrupt\u001b[0m: "
     ]
    }
   ],
   "source": [
    "epochs = 751\n",
    "\n",
    "for i in range(1, epochs):\n",
    "    #training\n",
    "    model.train()\n",
    "\n",
    "    y_logits = model(X_train)\n",
    "    y_pred = torch.argmax(y_logits, dim=1)\n",
    "\n",
    "    train_loss = loss_fn(y_logits, y_train)\n",
    "    train_acc = accuracy_score(y_train, y_pred)\n",
    "\n",
    "    trainLoss.append(train_loss)\n",
    "    trainAccuracy.append(train_acc)\n",
    "\n",
    "    optimizer.zero_grad()\n",
    "\n",
    "    train_loss.backward()\n",
    "\n",
    "    optimizer.step()\n",
    "\n",
    "    #testing \n",
    "    model.eval()\n",
    "    with torch.inference_mode():\n",
    "        test_logits = model(X_test)\n",
    "        test_pred = torch.argmax(test_logits, dim=1)\n",
    "\n",
    "        test_loss = loss_fn( test_logits, y_test)\n",
    "        test_acc = accuracy_score(y_test, test_pred)\n",
    "\n",
    "        testLoss.append(test_loss)\n",
    "        testAccuracy.append(test_acc)\n",
    "\n",
    "    if i % 10 == 0:\n",
    "        print(f\"Epoch: {i} | Train Loss: {train_loss:.5f} | Train Accuracy: {train_acc:.4f} | Test Loss: {test_loss:.5f} | Test Accuracy: {test_acc:.4f}\")"
   ]
  },
  {
   "cell_type": "code",
   "execution_count": null,
   "id": "2a86dcac",
   "metadata": {},
   "outputs": [],
   "source": [
    "trainLoss = torch.tensor(trainLoss)\n",
    "testLoss = torch.tensor(testLoss)\n",
    "trainAccuracy = torch.tensor(trainAccuracy)\n",
    "testAccuracy = torch.tensor(testAccuracy)\n",
    "\n",
    "trainLoss = trainLoss.detach().numpy()\n",
    "testLoss = testLoss.detach().numpy()\n",
    "trainAccuracy = trainAccuracy.detach().numpy()\n",
    "testAccuracy = testAccuracy.detach().numpy()"
   ]
  },
  {
   "cell_type": "code",
   "execution_count": null,
   "id": "cab99f89",
   "metadata": {},
   "outputs": [
    {
     "data": {
      "image/png": "[encoded data removed]",
      "text/plain": [
       "<Figure size 640x480 with 1 Axes>"
      ]
     },
     "metadata": {},
     "output_type": "display_data"
    }
   ],
   "source": [
    "plt.plot(range(1, epochs), trainLoss, 'r-', label=\"Training loss\")\n",
    "# plt.plot(range(1, epochs), testLoss, 'b-', label=\"Testing loss\")\n",
    "plt.legend()\n",
    "plt.show()"
   ]
  },
  {
   "cell_type": "code",
   "execution_count": null,
   "id": "2993d1d0",
   "metadata": {},
   "outputs": [],
   "source": []
  }
 ],
 "metadata": {
  "kernelspec": {
   "display_name": "Python 3",
   "language": "python",
   "name": "python3"
  },
  "language_info": {
   "codemirror_mode": {
    "name": "ipython",
    "version": 3
   },
   "file_extension": ".py",
   "mimetype": "text/x-python",
   "name": "python",
   "nbconvert_exporter": "python",
   "pygments_lexer": "ipython3",
   "version": "3.11.4"
  }
 },
 "nbformat": 4,
 "nbformat_minor": 5
}
