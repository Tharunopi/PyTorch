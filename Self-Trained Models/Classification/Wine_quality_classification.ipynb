{
 "cells": [
  {
   "cell_type": "code",
   "execution_count": 1,
   "id": "7bfdccc4",
   "metadata": {},
   "outputs": [],
   "source": [
    "import pandas as pd\n",
    "import torch\n",
    "import torch.nn as nn\n",
    "import numpy as np\n",
    "from sklearn.model_selection import train_test_split\n",
    "from sklearn.metrics import accuracy_score\n",
    "import matplotlib.pyplot as plt"
   ]
  },
  {
   "cell_type": "markdown",
   "id": "e7fa38ee",
   "metadata": {},
   "source": [
    "Device dignostics code"
   ]
  },
  {
   "cell_type": "code",
   "execution_count": 2,
   "id": "4d284dbb",
   "metadata": {},
   "outputs": [],
   "source": [
    "device = 'cuda' if torch.cuda.is_available() else 'cpu'"
   ]
  },
  {
   "cell_type": "markdown",
   "id": "018cb9c6",
   "metadata": {},
   "source": [
    "Importing dataset"
   ]
  },
  {
   "cell_type": "code",
   "execution_count": 3,
   "id": "c9c7ea9e",
   "metadata": {},
   "outputs": [],
   "source": [
    "df = pd.read_csv(r\"E:\\Pytorch Datasets\\Classification\\wine+quality\\winequality-white.csv\", delimiter=';')"
   ]
  },
  {
   "cell_type": "code",
   "execution_count": 4,
   "id": "200b77bd",
   "metadata": {},
   "outputs": [
    {
     "data": {
      "text/html": [
       "<div>\n",
       "<style scoped>\n",
       "    .dataframe tbody tr th:only-of-type {\n",
       "        vertical-align: middle;\n",
       "    }\n",
       "\n",
       "    .dataframe tbody tr th {\n",
       "        vertical-align: top;\n",
       "    }\n",
       "\n",
       "    .dataframe thead th {\n",
       "        text-align: right;\n",
       "    }\n",
       "</style>\n",
       "<table border=\"1\" class=\"dataframe\">\n",
       "  <thead>\n",
       "    <tr style=\"text-align: right;\">\n",
       "      <th></th>\n",
       "      <th>fixed acidity</th>\n",
       "      <th>volatile acidity</th>\n",
       "      <th>citric acid</th>\n",
       "      <th>residual sugar</th>\n",
       "      <th>chlorides</th>\n",
       "      <th>free sulfur dioxide</th>\n",
       "      <th>total sulfur dioxide</th>\n",
       "      <th>density</th>\n",
       "      <th>pH</th>\n",
       "      <th>sulphates</th>\n",
       "      <th>alcohol</th>\n",
       "      <th>quality</th>\n",
       "    </tr>\n",
       "  </thead>\n",
       "  <tbody>\n",
       "    <tr>\n",
       "      <th>0</th>\n",
       "      <td>7.0</td>\n",
       "      <td>0.27</td>\n",
       "      <td>0.36</td>\n",
       "      <td>20.7</td>\n",
       "      <td>0.045</td>\n",
       "      <td>45.0</td>\n",
       "      <td>170.0</td>\n",
       "      <td>1.0010</td>\n",
       "      <td>3.00</td>\n",
       "      <td>0.45</td>\n",
       "      <td>8.8</td>\n",
       "      <td>6</td>\n",
       "    </tr>\n",
       "    <tr>\n",
       "      <th>1</th>\n",
       "      <td>6.3</td>\n",
       "      <td>0.30</td>\n",
       "      <td>0.34</td>\n",
       "      <td>1.6</td>\n",
       "      <td>0.049</td>\n",
       "      <td>14.0</td>\n",
       "      <td>132.0</td>\n",
       "      <td>0.9940</td>\n",
       "      <td>3.30</td>\n",
       "      <td>0.49</td>\n",
       "      <td>9.5</td>\n",
       "      <td>6</td>\n",
       "    </tr>\n",
       "    <tr>\n",
       "      <th>2</th>\n",
       "      <td>8.1</td>\n",
       "      <td>0.28</td>\n",
       "      <td>0.40</td>\n",
       "      <td>6.9</td>\n",
       "      <td>0.050</td>\n",
       "      <td>30.0</td>\n",
       "      <td>97.0</td>\n",
       "      <td>0.9951</td>\n",
       "      <td>3.26</td>\n",
       "      <td>0.44</td>\n",
       "      <td>10.1</td>\n",
       "      <td>6</td>\n",
       "    </tr>\n",
       "    <tr>\n",
       "      <th>3</th>\n",
       "      <td>7.2</td>\n",
       "      <td>0.23</td>\n",
       "      <td>0.32</td>\n",
       "      <td>8.5</td>\n",
       "      <td>0.058</td>\n",
       "      <td>47.0</td>\n",
       "      <td>186.0</td>\n",
       "      <td>0.9956</td>\n",
       "      <td>3.19</td>\n",
       "      <td>0.40</td>\n",
       "      <td>9.9</td>\n",
       "      <td>6</td>\n",
       "    </tr>\n",
       "    <tr>\n",
       "      <th>4</th>\n",
       "      <td>7.2</td>\n",
       "      <td>0.23</td>\n",
       "      <td>0.32</td>\n",
       "      <td>8.5</td>\n",
       "      <td>0.058</td>\n",
       "      <td>47.0</td>\n",
       "      <td>186.0</td>\n",
       "      <td>0.9956</td>\n",
       "      <td>3.19</td>\n",
       "      <td>0.40</td>\n",
       "      <td>9.9</td>\n",
       "      <td>6</td>\n",
       "    </tr>\n",
       "  </tbody>\n",
       "</table>\n",
       "</div>"
      ],
      "text/plain": [
       "   fixed acidity  volatile acidity  citric acid  residual sugar  chlorides  \\\n",
       "0            7.0              0.27         0.36            20.7      0.045   \n",
       "1            6.3              0.30         0.34             1.6      0.049   \n",
       "2            8.1              0.28         0.40             6.9      0.050   \n",
       "3            7.2              0.23         0.32             8.5      0.058   \n",
       "4            7.2              0.23         0.32             8.5      0.058   \n",
       "\n",
       "   free sulfur dioxide  total sulfur dioxide  density    pH  sulphates  \\\n",
       "0                 45.0                 170.0   1.0010  3.00       0.45   \n",
       "1                 14.0                 132.0   0.9940  3.30       0.49   \n",
       "2                 30.0                  97.0   0.9951  3.26       0.44   \n",
       "3                 47.0                 186.0   0.9956  3.19       0.40   \n",
       "4                 47.0                 186.0   0.9956  3.19       0.40   \n",
       "\n",
       "   alcohol  quality  \n",
       "0      8.8        6  \n",
       "1      9.5        6  \n",
       "2     10.1        6  \n",
       "3      9.9        6  \n",
       "4      9.9        6  "
      ]
     },
     "execution_count": 4,
     "metadata": {},
     "output_type": "execute_result"
    }
   ],
   "source": [
    "df.head()"
   ]
  },
  {
   "cell_type": "markdown",
   "id": "74e3cae3",
   "metadata": {},
   "source": [
    "Filtering Data"
   ]
  },
  {
   "cell_type": "code",
   "execution_count": 5,
   "id": "01dafd2c",
   "metadata": {},
   "outputs": [],
   "source": [
    "X = np.array(df.iloc[:, :-1])\n",
    "y = np.array(df.iloc[:, -1] - 3)"
   ]
  },
  {
   "cell_type": "code",
   "execution_count": 6,
   "id": "369c4851",
   "metadata": {},
   "outputs": [
    {
     "data": {
      "text/plain": [
       "(numpy.ndarray, numpy.ndarray)"
      ]
     },
     "execution_count": 6,
     "metadata": {},
     "output_type": "execute_result"
    }
   ],
   "source": [
    "type(X), type(y)"
   ]
  },
  {
   "cell_type": "markdown",
   "id": "5726d8e8",
   "metadata": {},
   "source": [
    "Converting numpy to tensor"
   ]
  },
  {
   "cell_type": "code",
   "execution_count": 7,
   "id": "7efb6167",
   "metadata": {},
   "outputs": [],
   "source": [
    "X = torch.from_numpy(X).type(torch.float)\n",
    "y = torch.from_numpy(y).type(torch.float)"
   ]
  },
  {
   "cell_type": "code",
   "execution_count": 8,
   "id": "c7e032e4",
   "metadata": {},
   "outputs": [
    {
     "data": {
      "text/plain": [
       "(torch.Tensor, torch.Tensor)"
      ]
     },
     "execution_count": 8,
     "metadata": {},
     "output_type": "execute_result"
    }
   ],
   "source": [
    "type(X), type(y)"
   ]
  },
  {
   "cell_type": "code",
   "execution_count": 9,
   "id": "c7731dfe",
   "metadata": {},
   "outputs": [
    {
     "data": {
      "text/plain": [
       "tensor([0., 1., 2., 3., 4., 5., 6.])"
      ]
     },
     "execution_count": 9,
     "metadata": {},
     "output_type": "execute_result"
    }
   ],
   "source": [
    "torch.unique(y)"
   ]
  },
  {
   "cell_type": "code",
   "execution_count": 12,
   "id": "6b159014",
   "metadata": {},
   "outputs": [
    {
     "data": {
      "text/plain": [
       "tensor(3.)"
      ]
     },
     "execution_count": 12,
     "metadata": {},
     "output_type": "execute_result"
    }
   ],
   "source": [
    "y[1]"
   ]
  },
  {
   "cell_type": "code",
   "execution_count": 13,
   "id": "f85637ea",
   "metadata": {},
   "outputs": [
    {
     "data": {
      "text/plain": [
       "(torch.Size([4898, 11]), torch.Size([4898]))"
      ]
     },
     "execution_count": 13,
     "metadata": {},
     "output_type": "execute_result"
    }
   ],
   "source": [
    "X.shape, y.shape"
   ]
  },
  {
   "cell_type": "markdown",
   "id": "bbc92b72",
   "metadata": {},
   "source": [
    "Spliting training and testing data"
   ]
  },
  {
   "cell_type": "code",
   "execution_count": 14,
   "id": "e6700faf",
   "metadata": {},
   "outputs": [],
   "source": [
    "X_train, X_test, y_train, y_test = train_test_split(X, y, test_size=0.2)"
   ]
  },
  {
   "cell_type": "code",
   "execution_count": 15,
   "id": "c5261c94",
   "metadata": {},
   "outputs": [
    {
     "data": {
      "text/plain": [
       "(torch.Size([3918, 11]),\n",
       " torch.Size([980, 11]),\n",
       " torch.Size([3918]),\n",
       " torch.Size([980]))"
      ]
     },
     "execution_count": 15,
     "metadata": {},
     "output_type": "execute_result"
    }
   ],
   "source": [
    "X_train.shape, X_test.shape, y_train.shape, y_test.shape"
   ]
  },
  {
   "cell_type": "code",
   "execution_count": 16,
   "id": "7a648eef",
   "metadata": {},
   "outputs": [],
   "source": [
    "X_train, X_test, y_train, y_test = X_train.to(device), X_test.to(device), y_train.to(device), y_test.to(device)"
   ]
  },
  {
   "cell_type": "markdown",
   "id": "b02449f6",
   "metadata": {},
   "source": [
    "Build a Linear model by inheriting nn.Module"
   ]
  },
  {
   "cell_type": "code",
   "execution_count": 17,
   "id": "18b92be3",
   "metadata": {},
   "outputs": [],
   "source": [
    "class Model(nn.Module):\n",
    "    def __init__(self):\n",
    "        super().__init__()\n",
    "        self.layer1 = nn.Linear(in_features=11, out_features=32)\n",
    "        self.layer2 = nn.Linear(in_features=32, out_features=32)\n",
    "        self.layer4 = nn.Linear(in_features=32, out_features=7)\n",
    "\n",
    "    def forward(self, x):\n",
    "        x = self.layer1(x)\n",
    "        x = self.layer2(x)\n",
    "        x = self.layer4(x)\n",
    "        return x\n",
    "    \n",
    "model = Model().to(device)"
   ]
  },
  {
   "cell_type": "code",
   "execution_count": 18,
   "id": "ca28fd0a",
   "metadata": {},
   "outputs": [
    {
     "data": {
      "text/plain": [
       "OrderedDict([('layer1.weight',\n",
       "              tensor([[-0.2823,  0.1418, -0.1843, -0.0183, -0.2587, -0.1741, -0.0892, -0.0135,\n",
       "                       -0.1070, -0.2259,  0.1754],\n",
       "                      [ 0.0912,  0.0696, -0.1250, -0.2839, -0.2589,  0.1923,  0.1820,  0.1331,\n",
       "                       -0.1187, -0.2316, -0.1502],\n",
       "                      [-0.2194,  0.1876,  0.0965, -0.2218, -0.1100,  0.2547, -0.1022,  0.2634,\n",
       "                        0.2725, -0.1403, -0.1328],\n",
       "                      [ 0.0799, -0.1609, -0.2224, -0.2384,  0.1776, -0.0680, -0.0087, -0.0248,\n",
       "                       -0.0035, -0.1127,  0.0644],\n",
       "                      [-0.2860, -0.2294, -0.0547,  0.0043,  0.0936,  0.0369, -0.0825,  0.1211,\n",
       "                       -0.2530,  0.1914,  0.0751],\n",
       "                      [ 0.2203,  0.2051,  0.0750, -0.2808, -0.1238, -0.0770,  0.0019, -0.1730,\n",
       "                       -0.2130, -0.1571,  0.0143],\n",
       "                      [ 0.0034,  0.1413,  0.1733,  0.2756, -0.2917,  0.1934, -0.1682, -0.0315,\n",
       "                       -0.2895, -0.0624, -0.0249],\n",
       "                      [ 0.0174,  0.1000,  0.2866,  0.0528, -0.2180, -0.0135,  0.1246,  0.0611,\n",
       "                        0.2866,  0.0888, -0.2872],\n",
       "                      [ 0.1447, -0.3009,  0.2978,  0.2058, -0.1627, -0.2468,  0.0563, -0.0907,\n",
       "                        0.1919,  0.0824, -0.0065],\n",
       "                      [-0.2811, -0.0032, -0.0612,  0.1130, -0.2512, -0.1917, -0.2716, -0.0055,\n",
       "                        0.0179,  0.1300,  0.1699],\n",
       "                      [ 0.1080,  0.2265, -0.2386,  0.2723, -0.1053,  0.0747, -0.1575, -0.0729,\n",
       "                       -0.2671, -0.2412,  0.1002],\n",
       "                      [ 0.1597,  0.2442, -0.2889, -0.2928,  0.1045,  0.0948, -0.1840, -0.2278,\n",
       "                        0.1074,  0.1427,  0.2186],\n",
       "                      [ 0.0828, -0.1071, -0.2596,  0.0234,  0.2255,  0.2585,  0.2229,  0.0485,\n",
       "                        0.2503, -0.0128, -0.0035],\n",
       "                      [ 0.0715, -0.1883,  0.1879, -0.2048, -0.1684,  0.0201, -0.2627, -0.1964,\n",
       "                       -0.2143,  0.1206,  0.0753],\n",
       "                      [ 0.1639,  0.0869, -0.1336,  0.0869,  0.2060,  0.0344, -0.2898, -0.0904,\n",
       "                        0.2195, -0.1332, -0.0272],\n",
       "                      [-0.2556,  0.0102, -0.2850,  0.2595, -0.0217,  0.0947, -0.2344,  0.1314,\n",
       "                       -0.2623,  0.0596,  0.2375],\n",
       "                      [ 0.2465, -0.2360,  0.1082, -0.0259, -0.1457,  0.2379,  0.1713,  0.0363,\n",
       "                       -0.2810,  0.2589, -0.1064],\n",
       "                      [-0.0144, -0.0671,  0.0749,  0.2064,  0.1481,  0.0593,  0.0427, -0.0736,\n",
       "                        0.1135, -0.2984, -0.1213],\n",
       "                      [ 0.2542,  0.0266, -0.0992, -0.2722, -0.0503,  0.0114,  0.1892, -0.2565,\n",
       "                        0.0898, -0.0678,  0.0960],\n",
       "                      [ 0.2218, -0.0158,  0.1874, -0.2325, -0.0151, -0.2083,  0.1753,  0.2234,\n",
       "                       -0.2208,  0.2774, -0.1955],\n",
       "                      [ 0.0531, -0.0694,  0.0792,  0.0169,  0.1828,  0.2156,  0.0201, -0.1769,\n",
       "                        0.2871, -0.1896,  0.1290],\n",
       "                      [-0.1036,  0.2146, -0.1077,  0.2335, -0.0088, -0.0222, -0.0154, -0.1804,\n",
       "                        0.1726, -0.0015,  0.2875],\n",
       "                      [ 0.1957, -0.1098, -0.2756, -0.1004,  0.1988,  0.0436,  0.1251, -0.1346,\n",
       "                        0.2742,  0.2125, -0.2199],\n",
       "                      [ 0.2767,  0.0388, -0.0636,  0.0304,  0.1817,  0.2964,  0.1850, -0.1754,\n",
       "                       -0.0879, -0.1222, -0.0523],\n",
       "                      [-0.2495, -0.2848,  0.0094, -0.0700,  0.1731,  0.1469,  0.1429, -0.1496,\n",
       "                       -0.1248,  0.2627,  0.1752],\n",
       "                      [-0.1375,  0.1652, -0.2131, -0.1828,  0.2976,  0.0042, -0.0061, -0.2140,\n",
       "                       -0.0357, -0.2401, -0.0759],\n",
       "                      [-0.0205, -0.1665, -0.2976,  0.0442,  0.2264,  0.1416,  0.1759, -0.0862,\n",
       "                       -0.0750, -0.0914,  0.0230],\n",
       "                      [ 0.2390, -0.0472,  0.0118, -0.0022, -0.1645,  0.0322,  0.2647, -0.0669,\n",
       "                       -0.2329, -0.2863,  0.1954],\n",
       "                      [-0.0759,  0.0379, -0.0468, -0.0697,  0.2289,  0.1482, -0.2045,  0.2371,\n",
       "                        0.0732,  0.0601,  0.2682],\n",
       "                      [ 0.2954,  0.0440,  0.0127,  0.2474, -0.1810,  0.0818,  0.1995,  0.0857,\n",
       "                        0.2124, -0.2902, -0.1108],\n",
       "                      [ 0.0550, -0.1855, -0.2518, -0.1818, -0.2328,  0.0340, -0.0035,  0.2520,\n",
       "                        0.0101,  0.0604, -0.1881],\n",
       "                      [ 0.1570, -0.0016,  0.1514,  0.0556, -0.0382, -0.0454, -0.2372,  0.2228,\n",
       "                       -0.2942, -0.2609, -0.0554]])),\n",
       "             ('layer1.bias',\n",
       "              tensor([ 0.2050,  0.0376,  0.2929,  0.2384, -0.1744,  0.2950, -0.2261, -0.2672,\n",
       "                      -0.2223,  0.2438,  0.0878,  0.0482,  0.2446,  0.2544, -0.1415,  0.1553,\n",
       "                       0.2403,  0.1799, -0.2823,  0.0409,  0.2687, -0.1654,  0.0630, -0.0549,\n",
       "                       0.1972, -0.2832, -0.0298,  0.0946, -0.1355,  0.1820,  0.1065,  0.1823])),\n",
       "             ('layer2.weight',\n",
       "              tensor([[-0.1366, -0.1408,  0.0169,  ..., -0.0329, -0.0736, -0.0494],\n",
       "                      [ 0.0477,  0.1149,  0.0781,  ...,  0.0261, -0.1032,  0.1209],\n",
       "                      [ 0.1715, -0.1308,  0.0030,  ..., -0.1717, -0.0222, -0.0204],\n",
       "                      ...,\n",
       "                      [ 0.0309,  0.0155, -0.0651,  ..., -0.0600,  0.0106, -0.0953],\n",
       "                      [ 0.0569,  0.0104, -0.0652,  ...,  0.0719, -0.1157,  0.0927],\n",
       "                      [-0.1599, -0.0143, -0.0054,  ...,  0.1262,  0.0287,  0.0185]])),\n",
       "             ('layer2.bias',\n",
       "              tensor([ 0.1394, -0.0437, -0.0544, -0.1475, -0.0813,  0.0519, -0.1370,  0.1290,\n",
       "                      -0.0731,  0.0980,  0.1317,  0.1104,  0.1513, -0.0252, -0.0185,  0.1337,\n",
       "                      -0.1057,  0.0245, -0.1075, -0.1654, -0.0004,  0.0291,  0.0114, -0.0770,\n",
       "                      -0.1070,  0.0446, -0.0689,  0.1649,  0.1359,  0.1192, -0.1262, -0.0078])),\n",
       "             ('layer4.weight',\n",
       "              tensor([[ 0.0358, -0.0826,  0.1447,  0.0144,  0.1475, -0.1353,  0.0806,  0.0264,\n",
       "                        0.0694,  0.0923, -0.0430, -0.0500, -0.1454, -0.0042,  0.1628, -0.0041,\n",
       "                       -0.0313, -0.0721,  0.1553, -0.0808, -0.1707,  0.0174, -0.0512,  0.0600,\n",
       "                       -0.1251,  0.1355,  0.0041,  0.0409, -0.1677,  0.1387,  0.0037, -0.0382],\n",
       "                      [-0.1126, -0.1367, -0.0184,  0.1257, -0.0093, -0.1495, -0.0995, -0.0566,\n",
       "                       -0.0101,  0.1021,  0.0051,  0.1663, -0.1514,  0.1759,  0.0508, -0.0510,\n",
       "                        0.0429,  0.0462, -0.1007,  0.0388,  0.0020, -0.0073,  0.0284,  0.0750,\n",
       "                       -0.0428, -0.0786,  0.1559, -0.1702, -0.1105,  0.0072, -0.1655, -0.1153],\n",
       "                      [-0.1183,  0.0683,  0.1604,  0.1081, -0.0773, -0.0569,  0.1178, -0.0643,\n",
       "                       -0.0400, -0.1335,  0.0724,  0.0509, -0.0853, -0.0073,  0.0454,  0.1601,\n",
       "                        0.0579, -0.0098, -0.1324, -0.1025,  0.0428,  0.0478, -0.0020,  0.1459,\n",
       "                       -0.0659, -0.0888,  0.0276,  0.1253,  0.1556,  0.0445, -0.0316, -0.1265],\n",
       "                      [ 0.0966, -0.1233, -0.0122,  0.0839, -0.1180,  0.0778, -0.1738,  0.0071,\n",
       "                       -0.0195,  0.1680, -0.1346, -0.0365,  0.0186,  0.1067,  0.0195, -0.0723,\n",
       "                       -0.1000, -0.0873,  0.0390,  0.0338, -0.0800, -0.0116,  0.0622,  0.0945,\n",
       "                       -0.0931,  0.0147, -0.0769, -0.0547, -0.0592,  0.0615,  0.0076,  0.0948],\n",
       "                      [ 0.1308, -0.1598, -0.0210, -0.1732,  0.0325, -0.0569,  0.1197, -0.1094,\n",
       "                       -0.0492, -0.1399, -0.0135, -0.1290, -0.0890, -0.0408, -0.0799,  0.0916,\n",
       "                       -0.0149, -0.1306, -0.0973, -0.1159, -0.0570,  0.0753, -0.1684,  0.1549,\n",
       "                        0.0818,  0.1519, -0.0282, -0.0314, -0.1766, -0.0635,  0.0560, -0.0525],\n",
       "                      [-0.0905, -0.1199,  0.0381,  0.0428, -0.0976,  0.1561,  0.0473,  0.1706,\n",
       "                        0.0395, -0.0646, -0.0460, -0.0956, -0.0477, -0.1405, -0.0286, -0.1201,\n",
       "                        0.1597, -0.0253, -0.0754, -0.0113, -0.0613, -0.0148, -0.0188,  0.0814,\n",
       "                       -0.0745,  0.1745,  0.1005, -0.0011,  0.0306, -0.0360, -0.0817,  0.0245],\n",
       "                      [-0.1281,  0.1403,  0.0849, -0.1065, -0.1248,  0.0273,  0.1760,  0.1425,\n",
       "                        0.0517,  0.1268, -0.0832,  0.0619,  0.1601, -0.1513, -0.0891,  0.0571,\n",
       "                       -0.0377, -0.0959, -0.0084, -0.0029, -0.0173,  0.0599, -0.0897, -0.0139,\n",
       "                        0.0704, -0.1040,  0.1736, -0.1154,  0.0151,  0.0944,  0.0229, -0.0486]])),\n",
       "             ('layer4.bias',\n",
       "              tensor([ 0.0018, -0.1562,  0.1510,  0.0517,  0.1207,  0.0544, -0.1034]))])"
      ]
     },
     "execution_count": 18,
     "metadata": {},
     "output_type": "execute_result"
    }
   ],
   "source": [
    "model.state_dict()"
   ]
  },
  {
   "cell_type": "markdown",
   "id": "dbdede71",
   "metadata": {},
   "source": [
    "Testing everything is fine using dummy values"
   ]
  },
  {
   "cell_type": "code",
   "execution_count": 19,
   "id": "dd344a3e",
   "metadata": {},
   "outputs": [],
   "source": [
    "model.eval()\n",
    "\n",
    "with torch.inference_mode():\n",
    "    y_logits = model(X_test)"
   ]
  },
  {
   "cell_type": "code",
   "execution_count": 20,
   "id": "3b4ecc69",
   "metadata": {},
   "outputs": [
    {
     "data": {
      "text/plain": [
       "torch.Size([980, 7])"
      ]
     },
     "execution_count": 20,
     "metadata": {},
     "output_type": "execute_result"
    }
   ],
   "source": [
    "y_logits.shape"
   ]
  },
  {
   "cell_type": "code",
   "execution_count": 21,
   "id": "6dcceef7",
   "metadata": {},
   "outputs": [],
   "source": [
    "y_pred = torch.argmax(y_logits, dim=1)"
   ]
  },
  {
   "cell_type": "markdown",
   "id": "3a5ac93b",
   "metadata": {},
   "source": [
    "Choosing Loss and Optimizer"
   ]
  },
  {
   "cell_type": "code",
   "execution_count": 22,
   "id": "4f8aeffe",
   "metadata": {},
   "outputs": [],
   "source": [
    "loss_fn = nn.CrossEntropyLoss()\n",
    "optimizer = torch.optim.Adam(\n",
    "    params=model.parameters()\n",
    ")"
   ]
  },
  {
   "cell_type": "markdown",
   "id": "7cef7e9b",
   "metadata": {},
   "source": [
    "Writing Training and Test loops"
   ]
  },
  {
   "cell_type": "code",
   "execution_count": 23,
   "id": "fc34c685",
   "metadata": {},
   "outputs": [],
   "source": [
    "y_train = y_train.long()\n",
    "y_test = y_test.long()"
   ]
  },
  {
   "cell_type": "code",
   "execution_count": 24,
   "id": "1d5c4c7a",
   "metadata": {},
   "outputs": [],
   "source": [
    "trainLoss, testLoss = [], []\n",
    "trainAccuracy, testAccuracy = [], []"
   ]
  },
  {
   "cell_type": "code",
   "execution_count": 28,
   "id": "7922a318",
   "metadata": {},
   "outputs": [
    {
     "ename": "AttributeError",
     "evalue": "'numpy.ndarray' object has no attribute 'append'",
     "output_type": "error",
     "traceback": [
      "\u001b[1;31m---------------------------------------------------------------------------\u001b[0m",
      "\u001b[1;31mAttributeError\u001b[0m                            Traceback (most recent call last)",
      "Cell \u001b[1;32mIn[28], line 13\u001b[0m\n\u001b[0;32m     10\u001b[0m train_loss \u001b[38;5;241m=\u001b[39m loss_fn(y_logits, y_train)\n\u001b[0;32m     11\u001b[0m train_acc \u001b[38;5;241m=\u001b[39m accuracy_score(y_train, y_pred)\n\u001b[1;32m---> 13\u001b[0m \u001b[43mtrainLoss\u001b[49m\u001b[38;5;241;43m.\u001b[39;49m\u001b[43mappend\u001b[49m(train_loss)\n\u001b[0;32m     14\u001b[0m trainAccuracy\u001b[38;5;241m.\u001b[39mappend(train_acc)\n\u001b[0;32m     16\u001b[0m optimizer\u001b[38;5;241m.\u001b[39mzero_grad()\n",
      "\u001b[1;31mAttributeError\u001b[0m: 'numpy.ndarray' object has no attribute 'append'"
     ]
    }
   ],
   "source": [
    "epochs = 101\n",
    "\n",
    "for i in range(1, epochs):\n",
    "    #training\n",
    "    model.train()\n",
    "\n",
    "    y_logits = model(X_train)\n",
    "    y_pred = torch.argmax(y_logits, dim=1)\n",
    "\n",
    "    train_loss = loss_fn(y_logits, y_train)\n",
    "    train_acc = accuracy_score(y_train, y_pred)\n",
    "\n",
    "    trainLoss.append(train_loss)\n",
    "    trainAccuracy.append(train_acc)\n",
    "\n",
    "    optimizer.zero_grad()\n",
    "\n",
    "    train_loss.backward()\n",
    "\n",
    "    optimizer.step()\n",
    "\n",
    "    #testing \n",
    "    model.eval()\n",
    "    with torch.inference_mode():\n",
    "        test_logits = model(X_test)\n",
    "        test_pred = torch.argmax(test_logits, dim=1)\n",
    "\n",
    "        test_loss = loss_fn( test_logits, y_test)\n",
    "        test_acc = accuracy_score(y_test, test_pred)\n",
    "\n",
    "        testLoss.append(test_loss)\n",
    "        testAccuracy.append(test_acc)\n",
    "\n",
    "    if i % 10 == 0:\n",
    "        print(f\"Epoch: {i} | Train Loss: {train_loss:.5f} | Train Accuracy: {train_acc:.4f} | Test Loss: {test_loss:.5f} | Test Accuracy: {test_acc:.4f}\")"
   ]
  },
  {
   "cell_type": "code",
   "execution_count": 26,
   "id": "2a86dcac",
   "metadata": {},
   "outputs": [],
   "source": [
    "trainLoss = torch.tensor(trainLoss)\n",
    "testLoss = torch.tensor(testLoss)\n",
    "trainAccuracy = torch.tensor(trainAccuracy)\n",
    "testAccuracy = torch.tensor(testAccuracy)\n",
    "\n",
    "trainLoss = trainLoss.detach().numpy()\n",
    "testLoss = testLoss.detach().numpy()\n",
    "trainAccuracy = trainAccuracy.detach().numpy()\n",
    "testAccuracy = testAccuracy.detach().numpy()"
   ]
  },
  {
   "cell_type": "code",
   "execution_count": null,
   "id": "cab99f89",
   "metadata": {},
   "outputs": [
    {
     "data": {
      "image/png": "[encoded data removed]",
      "text/plain": [
       "<Figure size 640x480 with 1 Axes>"
      ]
     },
     "metadata": {},
     "output_type": "display_data"
    }
   ],
   "source": [
    "plt.plot(range(1, epochs), trainLoss, 'r-', label=\"Training loss\")\n",
    "plt.plot(range(1, epochs), testLoss, 'b-', label=\"Testing loss\")\n",
    "plt.legend()\n",
    "plt.show()"
   ]
  },
  {
   "cell_type": "code",
   "execution_count": null,
   "id": "2993d1d0",
   "metadata": {},
   "outputs": [],
   "source": []
  }
 ],
 "metadata": {
  "kernelspec": {
   "display_name": "Python 3",
   "language": "python",
   "name": "python3"
  },
  "language_info": {
   "codemirror_mode": {
    "name": "ipython",
    "version": 3
   },
   "file_extension": ".py",
   "mimetype": "text/x-python",
   "name": "python",
   "nbconvert_exporter": "python",
   "pygments_lexer": "ipython3",
   "version": "3.11.4"
  }
 },
 "nbformat": 4,
 "nbformat_minor": 5
}
