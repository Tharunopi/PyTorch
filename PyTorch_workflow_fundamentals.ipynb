{
  "nbformat": 4,
  "nbformat_minor": 0,
  "metadata": {
    "colab": {
      "provenance": [],
      "gpuType": "T4",
      "authorship_tag": "ABX9TyPZLJ+99kur8p9rkPkIFnJN",
      "include_colab_link": true
    },
    "kernelspec": {
      "name": "python3",
      "display_name": "Python 3"
    },
    "language_info": {
      "name": "python"
    },
    "accelerator": "GPU"
  },
  "cells": [
    {
      "cell_type": "markdown",
      "metadata": {
        "id": "view-in-github",
        "colab_type": "text"
      },
      "source": [
        "<a href=\"https://colab.research.google.com/github/Tharunopi/PyTorch/blob/main/PyTorch_workflow_fundamentals.ipynb\" target=\"_parent\"><img src=\"https://colab.research.google.com/assets/colab-badge.svg\" alt=\"Open In Colab\"/></a>"
      ]
    },
    {
      "cell_type": "markdown",
      "source": [
        "A PyTorch workflow\n",
        "1.  Turn data into tensor\n",
        "2.  Build or pick a pretrained model\n",
        "\n",
        "\n",
        "```\n",
        "2.1. Pick a loss function and optimizer\n",
        "2.2. Build a training loop\n",
        "```\n",
        "\n",
        "\n",
        "3.   Fit the model to the data and make prediction\n",
        "4.  Evalvate the model\n",
        "5.   Improve through experimentation\n",
        "6.Save and reload your trained model\n",
        "\n",
        "\n",
        "\n",
        "\n"
      ],
      "metadata": {
        "id": "QG6z3s_zW1d-"
      }
    },
    {
      "cell_type": "code",
      "execution_count": 37,
      "metadata": {
        "id": "sG70YzilVvVX"
      },
      "outputs": [],
      "source": [
        "import torch\n",
        "from torch import nn\n",
        "import matplotlib.pyplot as plt\n",
        "import numpy as np"
      ]
    },
    {
      "cell_type": "code",
      "source": [
        "device = 'cuda' if torch.cuda.is_available() else 'cpu'\n",
        "torch.device(device)"
      ],
      "metadata": {
        "colab": {
          "base_uri": "https://localhost:8080/"
        },
        "id": "cfRJcYAXRXSb",
        "outputId": "ed0b396a-ca24-430a-9e01-42487bc1682a"
      },
      "execution_count": 2,
      "outputs": [
        {
          "output_type": "execute_result",
          "data": {
            "text/plain": [
              "device(type='cpu')"
            ]
          },
          "metadata": {},
          "execution_count": 2
        }
      ]
    },
    {
      "cell_type": "markdown",
      "source": [
        "# **Creating dataset by using linear regression formula**"
      ],
      "metadata": {
        "id": "MF1XthqhafEl"
      }
    },
    {
      "cell_type": "code",
      "source": [
        "start, end, steps = 0, 1, 0.02\n",
        "X = torch.arange(start, end, steps).unsqueeze(dim=1)\n",
        "X[:5]"
      ],
      "metadata": {
        "colab": {
          "base_uri": "https://localhost:8080/"
        },
        "collapsed": true,
        "id": "9dpZXTlnXDPJ",
        "outputId": "5731e9e1-c862-4f4e-cddb-c8ee3adf65c0"
      },
      "execution_count": 3,
      "outputs": [
        {
          "output_type": "execute_result",
          "data": {
            "text/plain": [
              "tensor([[0.0000],\n",
              "        [0.0200],\n",
              "        [0.0400],\n",
              "        [0.0600],\n",
              "        [0.0800]])"
            ]
          },
          "metadata": {},
          "execution_count": 3
        }
      ]
    },
    {
      "cell_type": "code",
      "source": [
        "weight = 0.7\n",
        "bias = 0.3\n",
        "y = weight * X + bias\n",
        "y[:5]"
      ],
      "metadata": {
        "colab": {
          "base_uri": "https://localhost:8080/"
        },
        "collapsed": true,
        "id": "2LKv5ipfZtBm",
        "outputId": "1ceb1ae1-4a02-48c8-d520-6fd6c6ed5eff"
      },
      "execution_count": 4,
      "outputs": [
        {
          "output_type": "execute_result",
          "data": {
            "text/plain": [
              "tensor([[0.3000],\n",
              "        [0.3140],\n",
              "        [0.3280],\n",
              "        [0.3420],\n",
              "        [0.3560]])"
            ]
          },
          "metadata": {},
          "execution_count": 4
        }
      ]
    },
    {
      "cell_type": "markdown",
      "source": [
        "# **Splitting the data**"
      ],
      "metadata": {
        "id": "Gx9s7SEMamHa"
      }
    },
    {
      "cell_type": "code",
      "source": [
        "from sklearn.model_selection import train_test_split"
      ],
      "metadata": {
        "id": "3Tphy_Z1Z1he"
      },
      "execution_count": 5,
      "outputs": []
    },
    {
      "cell_type": "code",
      "source": [
        "X_train, X_test, y_train, y_test = train_test_split(X, y, test_size=0.2, random_state=42)"
      ],
      "metadata": {
        "id": "bUvfRIuOfvlB"
      },
      "execution_count": 6,
      "outputs": []
    },
    {
      "cell_type": "code",
      "source": [
        "print(len(X_train), len(y_test))"
      ],
      "metadata": {
        "colab": {
          "base_uri": "https://localhost:8080/"
        },
        "id": "zq0F3sEagBvO",
        "outputId": "d5593f2b-6fa7-46ff-bfb3-d83beec066dd"
      },
      "execution_count": 7,
      "outputs": [
        {
          "output_type": "stream",
          "name": "stdout",
          "text": [
            "40 10\n"
          ]
        }
      ]
    },
    {
      "cell_type": "markdown",
      "source": [
        "# **Visualizing the data**"
      ],
      "metadata": {
        "id": "OygCoHCQiije"
      }
    },
    {
      "cell_type": "code",
      "source": [
        "def visualize(train_x=X_train, test_x=X_test, train_y=y_train, test_y=y_test, prediction=None):\n",
        "  plt.scatter(train_x, train_y, c='b', label='training data')\n",
        "  plt.scatter(test_x, test_y, c='r', label='testing data')\n",
        "  if prediction is not None:\n",
        "    plt.scatter(test_x, prediction, c='g', label='prediction data')\n",
        "  plt.legend()\n",
        "  plt.show()\n",
        "\n",
        "visualize()"
      ],
      "metadata": {
        "colab": {
          "base_uri": "https://localhost:8080/",
          "height": 430
        },
        "id": "HEnIl6tIhmEK",
        "outputId": "73176b3f-2900-4cff-80b9-0a845b50aaa6"
      },
      "execution_count": 8,
      "outputs": [
        {
          "output_type": "display_data",
          "data": {
            "text/plain": [
              "<Figure size 640x480 with 1 Axes>"
            ],
            "image/png": "[encoded data removed]"
          },
          "metadata": {}
        }
      ]
    },
    {
      "cell_type": "markdown",
      "source": [
        "# **Building PyTorch model**"
      ],
      "metadata": {
        "id": "LyKCrYYhmgT1"
      }
    },
    {
      "cell_type": "code",
      "source": [
        "#creating a linear regression model\n",
        "class LinearRegressionModel(nn.Module):\n",
        "  def __init__(self):\n",
        "    super().__init__()\n",
        "    self.weights = nn.Parameter(torch.randn(1, requires_grad=True, dtype=torch.float))\n",
        "    self.bias = nn.Parameter(torch.randn(1, requires_grad=True, dtype=torch.float))\n",
        "\n",
        "  # creating a forward method for computation\n",
        "  def forward(self, x:torch.tensor) -> torch.tensor:\n",
        "    return self.weights * x + self.bias"
      ],
      "metadata": {
        "id": "JU6YuH2viq7K"
      },
      "execution_count": 9,
      "outputs": []
    },
    {
      "cell_type": "code",
      "source": [
        "#checking contents of our model\n",
        "# torch.manual_seed(42)\n",
        "\n",
        "model_0 = LinearRegressionModel()\n",
        "\n",
        "list(model_0.parameters())"
      ],
      "metadata": {
        "colab": {
          "base_uri": "https://localhost:8080/"
        },
        "id": "4UCgCyVATLoU",
        "outputId": "73315413-6230-47a6-b8af-552e07d7bb58"
      },
      "execution_count": 10,
      "outputs": [
        {
          "output_type": "execute_result",
          "data": {
            "text/plain": [
              "[Parameter containing:\n",
              " tensor([1.0483], requires_grad=True),\n",
              " Parameter containing:\n",
              " tensor([2.2607], requires_grad=True)]"
            ]
          },
          "metadata": {},
          "execution_count": 10
        }
      ]
    },
    {
      "cell_type": "code",
      "source": [
        "model_0.state_dict()"
      ],
      "metadata": {
        "colab": {
          "base_uri": "https://localhost:8080/"
        },
        "id": "JFnOoX2EW4BB",
        "outputId": "4e3c0b5b-e6b1-4e89-d89f-a9bf67d19867"
      },
      "execution_count": 11,
      "outputs": [
        {
          "output_type": "execute_result",
          "data": {
            "text/plain": [
              "OrderedDict([('weights', tensor([1.0483])), ('bias', tensor([2.2607]))])"
            ]
          },
          "metadata": {},
          "execution_count": 11
        }
      ]
    },
    {
      "cell_type": "code",
      "source": [
        "with torch.inference_mode():\n",
        "  y_pred = model_0(X_test)\n",
        "\n",
        "print(y_pred)"
      ],
      "metadata": {
        "colab": {
          "base_uri": "https://localhost:8080/"
        },
        "id": "vJi0IzRPYfhu",
        "outputId": "0f4844d0-c2d4-4cc3-e998-27c671a9c19c"
      },
      "execution_count": 12,
      "outputs": [
        {
          "output_type": "stream",
          "name": "stdout",
          "text": [
            "tensor([[2.5332],\n",
            "        [3.0784],\n",
            "        [2.8897],\n",
            "        [3.2041],\n",
            "        [2.6171],\n",
            "        [3.2670],\n",
            "        [2.8058],\n",
            "        [2.7848],\n",
            "        [2.9316],\n",
            "        [2.6590]])\n"
          ]
        }
      ]
    },
    {
      "cell_type": "code",
      "source": [
        "plt.scatter(X_train, y_train, c='g')\n",
        "plt.scatter(X_test, y_test, c='b')\n",
        "plt.scatter(X_test, y_pred, c='r')\n",
        "plt.show()"
      ],
      "metadata": {
        "colab": {
          "base_uri": "https://localhost:8080/",
          "height": 430
        },
        "id": "BzStVwdNZoUs",
        "outputId": "78f68b9a-8cfa-4404-9b00-b04f188aa385"
      },
      "execution_count": 13,
      "outputs": [
        {
          "output_type": "display_data",
          "data": {
            "text/plain": [
              "<Figure size 640x480 with 1 Axes>"
            ],
            "image/png": "[encoded data removed]"
          },
          "metadata": {}
        }
      ]
    },
    {
      "cell_type": "code",
      "source": [
        "loss_fn = nn.L1Loss()\n",
        "\n",
        "optimizer = torch.optim.SGD(model_0.parameters(), lr = 0.01)"
      ],
      "metadata": {
        "id": "CJgQVR1kZrb1"
      },
      "execution_count": 14,
      "outputs": []
    },
    {
      "cell_type": "markdown",
      "source": [
        "# **Training loop**\n",
        "\n",
        "0. Loop through the data\n",
        "1. Forward pass to make predictions on data\n",
        "2. Backward pass to move backwards to model to calculate gradients of the model to calculate loss.\n",
        "3. use Optimizers to adjust the model parameters to reduce the loss."
      ],
      "metadata": {
        "id": "mifw67FRlrXx"
      }
    },
    {
      "cell_type": "code",
      "source": [
        "# 0. Loop through throught the data\n",
        "epochs = 300\n",
        "\n",
        "epoch_count, train_loss_value, test_loss_value = [], [], []\n",
        "\n",
        "for i in range(epochs):\n",
        "\n",
        "  model_0.train() #turns on gradient tracking\n",
        "\n",
        "  y_pred = model_0(X_train)\n",
        "\n",
        "  loss = loss_fn(y_pred, y_train)\n",
        "  optimizer.zero_grad() # sets the gradient to none\n",
        "\n",
        "  loss.backward()\n",
        "\n",
        "  optimizer.step() # over time the gradients may accumulate so we have to set them to None\n",
        "\n",
        "  # print(\"_______________________________________________________________________\")\n",
        "\n",
        "  # print(f'predicted weight :{model_0.state_dict()[\"weights\"][0]} actual: {weight}')\n",
        "  # print(f'predicted bias :{model_0.state_dict()[\"bias\"][0]} actual: {bias}')\n",
        "\n",
        "  model_0.eval() #turns off gradient tracking\n",
        "  with torch.inference_mode():\n",
        "    test_pred = model_0(X_test)\n",
        "\n",
        "    test_loss = loss_fn(test_pred, y_test)\n",
        "\n",
        "  if i % 10 == 0:\n",
        "    epoch_count.append(i)\n",
        "    train_loss_value.append(loss)\n",
        "    test_loss_value.append(test_loss)\n",
        "    print(f'Epoch: {i} | loss: {loss} | test_loss: {test_loss}')"
      ],
      "metadata": {
        "id": "NwyN2cfJlRFM",
        "colab": {
          "base_uri": "https://localhost:8080/"
        },
        "collapsed": true,
        "outputId": "6e4339b6-c306-4cb2-ebd7-966e0183cadd"
      },
      "execution_count": 15,
      "outputs": [
        {
          "output_type": "stream",
          "name": "stdout",
          "text": [
            "Epoch: 0 | loss: 2.122804880142212 | test_loss: 2.1527366638183594\n",
            "Epoch: 10 | loss: 2.001136064529419 | test_loss: 2.0253653526306152\n",
            "Epoch: 20 | loss: 1.879467248916626 | test_loss: 1.897994041442871\n",
            "Epoch: 30 | loss: 1.757798433303833 | test_loss: 1.7706228494644165\n",
            "Epoch: 40 | loss: 1.636129379272461 | test_loss: 1.6432514190673828\n",
            "Epoch: 50 | loss: 1.5144603252410889 | test_loss: 1.5158801078796387\n",
            "Epoch: 60 | loss: 1.3927913904190063 | test_loss: 1.3885087966918945\n",
            "Epoch: 70 | loss: 1.2711225748062134 | test_loss: 1.2611374855041504\n",
            "Epoch: 80 | loss: 1.1494536399841309 | test_loss: 1.1337660551071167\n",
            "Epoch: 90 | loss: 1.0277847051620483 | test_loss: 1.006394863128662\n",
            "Epoch: 100 | loss: 0.906115710735321 | test_loss: 0.879023551940918\n",
            "Epoch: 110 | loss: 0.7844468355178833 | test_loss: 0.7516522407531738\n",
            "Epoch: 120 | loss: 0.6627777814865112 | test_loss: 0.6242808699607849\n",
            "Epoch: 130 | loss: 0.5411087870597839 | test_loss: 0.4969095289707184\n",
            "Epoch: 140 | loss: 0.4194398820400238 | test_loss: 0.36953821778297424\n",
            "Epoch: 150 | loss: 0.2977709472179413 | test_loss: 0.24216687679290771\n",
            "Epoch: 160 | loss: 0.17888638377189636 | test_loss: 0.1253657042980194\n",
            "Epoch: 170 | loss: 0.13179317116737366 | test_loss: 0.0915161669254303\n",
            "Epoch: 180 | loss: 0.11808552592992783 | test_loss: 0.07873417437076569\n",
            "Epoch: 190 | loss: 0.10955928266048431 | test_loss: 0.07397212088108063\n",
            "Epoch: 200 | loss: 0.1028355211019516 | test_loss: 0.07092277705669403\n",
            "Epoch: 210 | loss: 0.09706985950469971 | test_loss: 0.06739775836467743\n",
            "Epoch: 220 | loss: 0.09141313284635544 | test_loss: 0.06361894309520721\n",
            "Epoch: 230 | loss: 0.08583112061023712 | test_loss: 0.059738628566265106\n",
            "Epoch: 240 | loss: 0.08025068044662476 | test_loss: 0.05580754950642586\n",
            "Epoch: 250 | loss: 0.07466551661491394 | test_loss: 0.051927246153354645\n",
            "Epoch: 260 | loss: 0.06908823549747467 | test_loss: 0.0479961559176445\n",
            "Epoch: 270 | loss: 0.06350306421518326 | test_loss: 0.044065095484256744\n",
            "Epoch: 280 | loss: 0.05792578309774399 | test_loss: 0.04018477723002434\n",
            "Epoch: 290 | loss: 0.052340615540742874 | test_loss: 0.036253709346055984\n"
          ]
        }
      ]
    },
    {
      "cell_type": "code",
      "source": [
        "train_loss_value = [i.detach().cpu().numpy() for i in train_loss_value]\n",
        "test_loss_value = [i.detach().cpu().numpy() for i in test_loss_value]"
      ],
      "metadata": {
        "id": "Uj9kSfsILhvh"
      },
      "execution_count": 16,
      "outputs": []
    },
    {
      "cell_type": "code",
      "source": [
        "plt.plot(epoch_count, train_loss_value, label=\"train\")\n",
        "plt.plot(epoch_count, test_loss_value, label=\"test\")\n",
        "plt.xlabel(\"loss\")\n",
        "plt.ylabel(\"Epochs\")\n",
        "plt.title(\"Training and Testing curve\")\n",
        "plt.legend()"
      ],
      "metadata": {
        "colab": {
          "base_uri": "https://localhost:8080/",
          "height": 489
        },
        "id": "T-IRaUEoIWQy",
        "outputId": "46f22a8e-646b-4416-f861-b26e79df9b99"
      },
      "execution_count": 17,
      "outputs": [
        {
          "output_type": "execute_result",
          "data": {
            "text/plain": [
              "<matplotlib.legend.Legend at 0x7d486beb3550>"
            ]
          },
          "metadata": {},
          "execution_count": 17
        },
        {
          "output_type": "display_data",
          "data": {
            "text/plain": [
              "<Figure size 640x480 with 1 Axes>"
            ],
            "image/png": "[encoded data removed]"
          },
          "metadata": {}
        }
      ]
    },
    {
      "cell_type": "code",
      "source": [
        "with torch.inference_mode():\n",
        "  y_pred = model_0(X_test)\n",
        "  plt.scatter(X_train, y_train, c='g')\n",
        "  plt.scatter(X_test, y_test, c='b')\n",
        "  plt.scatter(X_test, y_pred, c='r')\n",
        "  plt.show()"
      ],
      "metadata": {
        "colab": {
          "base_uri": "https://localhost:8080/",
          "height": 430
        },
        "id": "IXVI5Vfq8BvY",
        "outputId": "dc469dcb-5092-46bb-de20-2e0707105910"
      },
      "execution_count": 18,
      "outputs": [
        {
          "output_type": "display_data",
          "data": {
            "text/plain": [
              "<Figure size 640x480 with 1 Axes>"
            ],
            "image/png": "[encoded data removed]"
          },
          "metadata": {}
        }
      ]
    },
    {
      "cell_type": "markdown",
      "source": [
        "# **Save and Load model**\n",
        "\n",
        "1. **torch.save()** - saves model in pickle format\n",
        "2. **torch.load()** - loads the saved model\n",
        "3. **torch.nn.Module.state_dict()** - allows model to load saves state dictionary"
      ],
      "metadata": {
        "id": "Xs2I9wVLGm2J"
      }
    },
    {
      "cell_type": "code",
      "source": [
        "# Saving and loading an entire model\n",
        "torch.save(model_0, \"/content/PyTorch model\")\n",
        "\n",
        "model = torch.load(\"/content/PyTorch model\", weights_only=False)\n",
        "\n",
        "print(model.state_dict())\n",
        "\n",
        "model_0.state_dict()"
      ],
      "metadata": {
        "id": "LkLFwvdmG9Mv",
        "colab": {
          "base_uri": "https://localhost:8080/"
        },
        "outputId": "ec1ef636-9b6a-4361-8d0a-3ae88e4d5284"
      },
      "execution_count": 19,
      "outputs": [
        {
          "output_type": "stream",
          "name": "stdout",
          "text": [
            "OrderedDict([('weights', tensor([0.5257])), ('bias', tensor([0.3937]))])\n"
          ]
        },
        {
          "output_type": "execute_result",
          "data": {
            "text/plain": [
              "OrderedDict([('weights', tensor([0.5257])), ('bias', tensor([0.3937]))])"
            ]
          },
          "metadata": {},
          "execution_count": 19
        }
      ]
    },
    {
      "cell_type": "code",
      "source": [
        "# saving and loading only state_dict()\n",
        "\n",
        "# torch.save(model_0.state_dict(), \"/content/PyTorch model /model_0_state_dict.pt\")\n",
        "\n",
        "# loaded_model = LinearRegressionModel()\n",
        "\n",
        "# loaded_model.load_state_dict(torch.load(\"/content/PyTorch model /model_0_state_dict.pt\"))"
      ],
      "metadata": {
        "id": "MoP25l-RLSDp"
      },
      "execution_count": 21,
      "outputs": []
    },
    {
      "cell_type": "code",
      "source": [
        "# testing loaded model\n",
        "\n",
        "# y_pred == loaded_model(X_test)"
      ],
      "metadata": {
        "id": "7_CNGzShOQzW"
      },
      "execution_count": 22,
      "outputs": []
    },
    {
      "cell_type": "markdown",
      "source": [
        "# Putting everything together"
      ],
      "metadata": {
        "id": "t6QRKuKvQ71Z"
      }
    },
    {
      "cell_type": "code",
      "source": [
        "import torch\n",
        "from torch import nn\n",
        "import numpy as np\n",
        "import matplotlib.pyplot as plt\n",
        "from sklearn.model_selection import train_test_split"
      ],
      "metadata": {
        "id": "1cFZ4rkYVb2i"
      },
      "execution_count": 23,
      "outputs": []
    },
    {
      "cell_type": "code",
      "source": [
        "# Turning data into tensor\n",
        "\n",
        "X = torch.arange(0, 1, 0.04)\n",
        "\n",
        "device = 'cuda' if torch.cuda.is_available() else 'cpu'\n",
        "torch.device(device)\n",
        "\n",
        "weight = 0.56\n",
        "bias = 5.69\n",
        "\n",
        "y = [weight * i + bias for i in X]\n",
        "\n",
        "X_train, X_test, y_train, y_test = train_test_split(X, y, test_size=0.2, random_state=42)\n",
        "X_train = torch.tensor(X_train, dtype=torch.float)\n",
        "y_train = torch.tensor(y_train, dtype=torch.float)\n",
        "X_test = torch.tensor(X_test, dtype=torch.float)\n",
        "y_test = torch.tensor(y_test, dtype=torch.float)\n",
        "\n",
        "# Building model\n",
        "\n",
        "class LinRegModel(nn.Module):\n",
        "  def __init__(self):\n",
        "    super().__init__()\n",
        "    self.weight = nn.Parameter(torch.randn(1, requires_grad=True, dtype=torch.float))\n",
        "    self.bias = nn.Parameter(torch.randn(1, requires_grad=True, dtype=torch.float))\n",
        "\n",
        "  def forward(self, x:torch.tensor) -> torch.tensor:\n",
        "    return self.weight * x + self.bias\n",
        "\n",
        "model_1 = LinRegModel()\n",
        "\n",
        "# Choosing loss and optimizer function\n",
        "\n",
        "loss_fn = nn.L1Loss()\n",
        "optimizer = torch.optim.SGD(model_1.parameters(), lr=0.01)\n",
        "\n",
        "# writing training loop\n",
        "\n",
        "epoch_count = []\n",
        "train_loss = []\n",
        "test_loss = []\n",
        "epochs = 3000\n",
        "\n",
        "for i in range(epochs):\n",
        "  model_1.train()\n",
        "\n",
        "  y_pred = model_1(X_train)\n",
        "\n",
        "  loss = loss_fn(y_pred, y_train)\n",
        "\n",
        "  optimizer.zero_grad()\n",
        "\n",
        "  loss.backward()\n",
        "\n",
        "  optimizer.step()\n",
        "\n",
        "#writing testing loop\n",
        "\n",
        "  with torch.inference_mode():\n",
        "    y_value = model_1(X_test)\n",
        "\n",
        "  test_loss_value = loss_fn(y_value, y_test)\n",
        "\n",
        "  if i % 10 == 0:\n",
        "    print(f'Epoch: {i} | training loss: {loss} | testing loss: {test_loss_value}')\n",
        "    epoch_count.append(i)\n",
        "    train_loss.append(loss)\n",
        "    test_loss.append(test_loss_value)\n",
        "\n",
        "train_loss = [i.detach().cpu().numpy() for i in train_loss]\n",
        "test_loss = [i.detach().cpu().numpy() for i in test_loss]\n"
      ],
      "metadata": {
        "colab": {
          "base_uri": "https://localhost:8080/"
        },
        "collapsed": true,
        "id": "kn0Q7MRbPKHV",
        "outputId": "7d108ccd-265e-4e3b-ef35-05e5d424388a"
      },
      "execution_count": 24,
      "outputs": [
        {
          "output_type": "stream",
          "name": "stderr",
          "text": [
            "<ipython-input-24-75d41092c068>:14: UserWarning: To copy construct from a tensor, it is recommended to use sourceTensor.clone().detach() or sourceTensor.clone().detach().requires_grad_(True), rather than torch.tensor(sourceTensor).\n",
            "  X_train = torch.tensor(X_train, dtype=torch.float)\n",
            "<ipython-input-24-75d41092c068>:16: UserWarning: To copy construct from a tensor, it is recommended to use sourceTensor.clone().detach() or sourceTensor.clone().detach().requires_grad_(True), rather than torch.tensor(sourceTensor).\n",
            "  X_test = torch.tensor(X_test, dtype=torch.float)\n"
          ]
        },
        {
          "output_type": "stream",
          "name": "stdout",
          "text": [
            "Epoch: 0 | training loss: 5.371594429016113 | testing loss: 5.372359275817871\n",
            "Epoch: 10 | training loss: 5.2481689453125 | testing loss: 5.24990177154541\n",
            "Epoch: 20 | training loss: 5.124743461608887 | testing loss: 5.127443790435791\n",
            "Epoch: 30 | training loss: 5.001317501068115 | testing loss: 5.004986763000488\n",
            "Epoch: 40 | training loss: 4.877892017364502 | testing loss: 4.882528781890869\n",
            "Epoch: 50 | training loss: 4.754466533660889 | testing loss: 4.760071754455566\n",
            "Epoch: 60 | training loss: 4.631041526794434 | testing loss: 4.637613773345947\n",
            "Epoch: 70 | training loss: 4.507615089416504 | testing loss: 4.515156269073486\n",
            "Epoch: 80 | training loss: 4.384189605712891 | testing loss: 4.392698764801025\n",
            "Epoch: 90 | training loss: 4.260764122009277 | testing loss: 4.270240783691406\n",
            "Epoch: 100 | training loss: 4.137338161468506 | testing loss: 4.147783279418945\n",
            "Epoch: 110 | training loss: 4.013913154602051 | testing loss: 4.025325775146484\n",
            "Epoch: 120 | training loss: 3.8904869556427 | testing loss: 3.9028682708740234\n",
            "Epoch: 130 | training loss: 3.767061710357666 | testing loss: 3.7804107666015625\n",
            "Epoch: 140 | training loss: 3.6436362266540527 | testing loss: 3.6579532623291016\n",
            "Epoch: 150 | training loss: 3.5202102661132812 | testing loss: 3.5354957580566406\n",
            "Epoch: 160 | training loss: 3.396785020828247 | testing loss: 3.4130377769470215\n",
            "Epoch: 170 | training loss: 3.273359775543213 | testing loss: 3.2905807495117188\n",
            "Epoch: 180 | training loss: 3.149934768676758 | testing loss: 3.168123722076416\n",
            "Epoch: 190 | training loss: 3.0265097618103027 | testing loss: 3.0456669330596924\n",
            "Epoch: 200 | training loss: 2.9030847549438477 | testing loss: 2.9232096672058105\n",
            "Epoch: 210 | training loss: 2.7796595096588135 | testing loss: 2.800752639770508\n",
            "Epoch: 220 | training loss: 2.6562342643737793 | testing loss: 2.678295612335205\n",
            "Epoch: 230 | training loss: 2.5328097343444824 | testing loss: 2.5558385848999023\n",
            "Epoch: 240 | training loss: 2.4093844890594482 | testing loss: 2.4333815574645996\n",
            "Epoch: 250 | training loss: 2.285959482192993 | testing loss: 2.310924530029297\n",
            "Epoch: 260 | training loss: 2.162534236907959 | testing loss: 2.188467502593994\n",
            "Epoch: 270 | training loss: 2.039109706878662 | testing loss: 2.0660104751586914\n",
            "Epoch: 280 | training loss: 1.915684461593628 | testing loss: 1.9435535669326782\n",
            "Epoch: 290 | training loss: 1.7922595739364624 | testing loss: 1.821096420288086\n",
            "Epoch: 300 | training loss: 1.6688344478607178 | testing loss: 1.6986392736434937\n",
            "Epoch: 310 | training loss: 1.5454095602035522 | testing loss: 1.576182246208191\n",
            "Epoch: 320 | training loss: 1.4219844341278076 | testing loss: 1.4537253379821777\n",
            "Epoch: 330 | training loss: 1.298559546470642 | testing loss: 1.3312681913375854\n",
            "Epoch: 340 | training loss: 1.1751344203948975 | testing loss: 1.2088112831115723\n",
            "Epoch: 350 | training loss: 1.0632271766662598 | testing loss: 1.0935806035995483\n",
            "Epoch: 360 | training loss: 0.9671720266342163 | testing loss: 1.0260709524154663\n",
            "Epoch: 370 | training loss: 0.8929818868637085 | testing loss: 0.9758721590042114\n",
            "Epoch: 380 | training loss: 0.8393163681030273 | testing loss: 0.9317986369132996\n",
            "Epoch: 390 | training loss: 0.8003690838813782 | testing loss: 0.8944929242134094\n",
            "Epoch: 400 | training loss: 0.7693582773208618 | testing loss: 0.8612244725227356\n",
            "Epoch: 410 | training loss: 0.7439976930618286 | testing loss: 0.8306477665901184\n",
            "Epoch: 420 | training loss: 0.7261308431625366 | testing loss: 0.8060938119888306\n",
            "Epoch: 430 | training loss: 0.7101165652275085 | testing loss: 0.7822093367576599\n",
            "Epoch: 440 | training loss: 0.6957281231880188 | testing loss: 0.7603200674057007\n",
            "Epoch: 450 | training loss: 0.6860887408256531 | testing loss: 0.7430893182754517\n",
            "Epoch: 460 | training loss: 0.6764495968818665 | testing loss: 0.7258585095405579\n",
            "Epoch: 470 | training loss: 0.6668102145195007 | testing loss: 0.7086277008056641\n",
            "Epoch: 480 | training loss: 0.6571710705757141 | testing loss: 0.6962286233901978\n",
            "Epoch: 490 | training loss: 0.6475316882133484 | testing loss: 0.6889492273330688\n",
            "Epoch: 500 | training loss: 0.6378925442695618 | testing loss: 0.6816698312759399\n",
            "Epoch: 510 | training loss: 0.628253161907196 | testing loss: 0.674390435218811\n",
            "Epoch: 520 | training loss: 0.6205257177352905 | testing loss: 0.6677349209785461\n",
            "Epoch: 530 | training loss: 0.6145659685134888 | testing loss: 0.6614950299263\n",
            "Epoch: 540 | training loss: 0.6086062788963318 | testing loss: 0.6552554965019226\n",
            "Epoch: 550 | training loss: 0.60264652967453 | testing loss: 0.6490157246589661\n",
            "Epoch: 560 | training loss: 0.596686840057373 | testing loss: 0.6427760124206543\n",
            "Epoch: 570 | training loss: 0.5907272100448608 | testing loss: 0.6365364193916321\n",
            "Epoch: 580 | training loss: 0.5847674608230591 | testing loss: 0.630296528339386\n",
            "Epoch: 590 | training loss: 0.5788077712059021 | testing loss: 0.6240569949150085\n",
            "Epoch: 600 | training loss: 0.5736016035079956 | testing loss: 0.6185899972915649\n",
            "Epoch: 610 | training loss: 0.5687698125839233 | testing loss: 0.6133435964584351\n",
            "Epoch: 620 | training loss: 0.5639380216598511 | testing loss: 0.6080971956253052\n",
            "Epoch: 630 | training loss: 0.5591027140617371 | testing loss: 0.6028510332107544\n",
            "Epoch: 640 | training loss: 0.5542645454406738 | testing loss: 0.5977150797843933\n",
            "Epoch: 650 | training loss: 0.5494327545166016 | testing loss: 0.5924687385559082\n",
            "Epoch: 660 | training loss: 0.5446008443832397 | testing loss: 0.5872224569320679\n",
            "Epoch: 670 | training loss: 0.5397621989250183 | testing loss: 0.5819761157035828\n",
            "Epoch: 680 | training loss: 0.534927487373352 | testing loss: 0.5768402218818665\n",
            "Epoch: 690 | training loss: 0.5300955772399902 | testing loss: 0.5715939402580261\n",
            "Epoch: 700 | training loss: 0.5252637267112732 | testing loss: 0.5663477182388306\n",
            "Epoch: 710 | training loss: 0.5204221606254578 | testing loss: 0.5612117648124695\n",
            "Epoch: 720 | training loss: 0.5155903100967407 | testing loss: 0.5559654235839844\n",
            "Epoch: 730 | training loss: 0.5107585191726685 | testing loss: 0.5507190823554993\n",
            "Epoch: 740 | training loss: 0.5059267282485962 | testing loss: 0.5454729199409485\n",
            "Epoch: 750 | training loss: 0.501085102558136 | testing loss: 0.5403369665145874\n",
            "Epoch: 760 | training loss: 0.49625325202941895 | testing loss: 0.5350906252861023\n",
            "Epoch: 770 | training loss: 0.49142152070999146 | testing loss: 0.5298444032669067\n",
            "Epoch: 780 | training loss: 0.48658961057662964 | testing loss: 0.5245981216430664\n",
            "Epoch: 790 | training loss: 0.4817480146884918 | testing loss: 0.519461989402771\n",
            "Epoch: 800 | training loss: 0.4769161343574524 | testing loss: 0.5142158269882202\n",
            "Epoch: 810 | training loss: 0.4720843434333801 | testing loss: 0.5089694857597351\n",
            "Epoch: 820 | training loss: 0.46725255250930786 | testing loss: 0.5037233233451843\n",
            "Epoch: 830 | training loss: 0.4624108672142029 | testing loss: 0.498587429523468\n",
            "Epoch: 840 | training loss: 0.4575790464878082 | testing loss: 0.49334096908569336\n",
            "Epoch: 850 | training loss: 0.45274728536605835 | testing loss: 0.4880948066711426\n",
            "Epoch: 860 | training loss: 0.4479154646396637 | testing loss: 0.48284846544265747\n",
            "Epoch: 870 | training loss: 0.4430738389492035 | testing loss: 0.4777125418186188\n",
            "Epoch: 880 | training loss: 0.43824201822280884 | testing loss: 0.4724661707878113\n",
            "Epoch: 890 | training loss: 0.4334102272987366 | testing loss: 0.4672200083732605\n",
            "Epoch: 900 | training loss: 0.42857831716537476 | testing loss: 0.4619735777378082\n",
            "Epoch: 910 | training loss: 0.4237367510795593 | testing loss: 0.4568377435207367\n",
            "Epoch: 920 | training loss: 0.4189048707485199 | testing loss: 0.45159149169921875\n",
            "Epoch: 930 | training loss: 0.4140731692314148 | testing loss: 0.44634515047073364\n",
            "Epoch: 940 | training loss: 0.40924128890037537 | testing loss: 0.441098690032959\n",
            "Epoch: 950 | training loss: 0.4043996334075928 | testing loss: 0.43596285581588745\n",
            "Epoch: 960 | training loss: 0.3995678722858429 | testing loss: 0.43071669340133667\n",
            "Epoch: 970 | training loss: 0.39473599195480347 | testing loss: 0.4254702627658844\n",
            "Epoch: 980 | training loss: 0.3899042010307312 | testing loss: 0.4202241003513336\n",
            "Epoch: 990 | training loss: 0.3850625157356262 | testing loss: 0.41508808732032776\n",
            "Epoch: 1000 | training loss: 0.38023072481155396 | testing loss: 0.4098418354988098\n",
            "Epoch: 1010 | training loss: 0.3753989338874817 | testing loss: 0.4045955538749695\n",
            "Epoch: 1020 | training loss: 0.37056443095207214 | testing loss: 0.3993492126464844\n",
            "Epoch: 1030 | training loss: 0.36572545766830444 | testing loss: 0.3942132890224457\n",
            "Epoch: 1040 | training loss: 0.3608936667442322 | testing loss: 0.38896703720092773\n",
            "Epoch: 1050 | training loss: 0.35606181621551514 | testing loss: 0.3837206959724426\n",
            "Epoch: 1060 | training loss: 0.35122406482696533 | testing loss: 0.37847432494163513\n",
            "Epoch: 1070 | training loss: 0.34638839960098267 | testing loss: 0.373338520526886\n",
            "Epoch: 1080 | training loss: 0.3415566086769104 | testing loss: 0.3680921494960785\n",
            "Epoch: 1090 | training loss: 0.33672478795051575 | testing loss: 0.36284589767456055\n",
            "Epoch: 1100 | training loss: 0.3318836987018585 | testing loss: 0.35759973526000977\n",
            "Epoch: 1110 | training loss: 0.3270513117313385 | testing loss: 0.35246363282203674\n",
            "Epoch: 1120 | training loss: 0.32221949100494385 | testing loss: 0.3472173810005188\n",
            "Epoch: 1130 | training loss: 0.3173876404762268 | testing loss: 0.34197109937667847\n",
            "Epoch: 1140 | training loss: 0.312546044588089 | testing loss: 0.33683520555496216\n",
            "Epoch: 1150 | training loss: 0.30771416425704956 | testing loss: 0.3315889239311218\n",
            "Epoch: 1160 | training loss: 0.3028824031352997 | testing loss: 0.3263425827026367\n",
            "Epoch: 1170 | training loss: 0.29805058240890503 | testing loss: 0.3210962414741516\n",
            "Epoch: 1180 | training loss: 0.2932089567184448 | testing loss: 0.3159603178501129\n",
            "Epoch: 1190 | training loss: 0.28837713599205017 | testing loss: 0.31071406602859497\n",
            "Epoch: 1200 | training loss: 0.28354525566101074 | testing loss: 0.30546778440475464\n",
            "Epoch: 1210 | training loss: 0.27871352434158325 | testing loss: 0.3002215325832367\n",
            "Epoch: 1220 | training loss: 0.27387183904647827 | testing loss: 0.29508543014526367\n",
            "Epoch: 1230 | training loss: 0.269040048122406 | testing loss: 0.2898392677307129\n",
            "Epoch: 1240 | training loss: 0.26420825719833374 | testing loss: 0.28459301590919495\n",
            "Epoch: 1250 | training loss: 0.2593764364719391 | testing loss: 0.279346764087677\n",
            "Epoch: 1260 | training loss: 0.2545347809791565 | testing loss: 0.2742108404636383\n",
            "Epoch: 1270 | training loss: 0.24970293045043945 | testing loss: 0.2689644694328308\n",
            "Epoch: 1280 | training loss: 0.2448711395263672 | testing loss: 0.26371821761131287\n",
            "Epoch: 1290 | training loss: 0.24003930389881134 | testing loss: 0.25847187638282776\n",
            "Epoch: 1300 | training loss: 0.23519770801067352 | testing loss: 0.25333595275878906\n",
            "Epoch: 1310 | training loss: 0.23036594688892365 | testing loss: 0.24808959662914276\n",
            "Epoch: 1320 | training loss: 0.2255340814590454 | testing loss: 0.24284343421459198\n",
            "Epoch: 1330 | training loss: 0.22070220112800598 | testing loss: 0.23759698867797852\n",
            "Epoch: 1340 | training loss: 0.21586056053638458 | testing loss: 0.23246106505393982\n",
            "Epoch: 1350 | training loss: 0.2110288441181183 | testing loss: 0.22721490263938904\n",
            "Epoch: 1360 | training loss: 0.20619702339172363 | testing loss: 0.22196845710277557\n",
            "Epoch: 1370 | training loss: 0.20136511325836182 | testing loss: 0.2167222946882248\n",
            "Epoch: 1380 | training loss: 0.1965235471725464 | testing loss: 0.21158647537231445\n",
            "Epoch: 1390 | training loss: 0.19169172644615173 | testing loss: 0.206340029835701\n",
            "Epoch: 1400 | training loss: 0.1868598759174347 | testing loss: 0.2010936737060547\n",
            "Epoch: 1410 | training loss: 0.18202614784240723 | testing loss: 0.19584742188453674\n",
            "Epoch: 1420 | training loss: 0.17718644440174103 | testing loss: 0.1907115876674652\n",
            "Epoch: 1430 | training loss: 0.17235462367534637 | testing loss: 0.1854652464389801\n",
            "Epoch: 1440 | training loss: 0.16752275824546814 | testing loss: 0.18021897971630096\n",
            "Epoch: 1450 | training loss: 0.16268578171730042 | testing loss: 0.17497262358665466\n",
            "Epoch: 1460 | training loss: 0.15784935653209686 | testing loss: 0.16983680427074432\n",
            "Epoch: 1470 | training loss: 0.15301747620105743 | testing loss: 0.16459035873413086\n",
            "Epoch: 1480 | training loss: 0.14818568527698517 | testing loss: 0.15934419631958008\n",
            "Epoch: 1490 | training loss: 0.1433454006910324 | testing loss: 0.15409784018993378\n",
            "Epoch: 1500 | training loss: 0.1385122537612915 | testing loss: 0.14896182715892792\n",
            "Epoch: 1510 | training loss: 0.13368038833141327 | testing loss: 0.14371566474437714\n",
            "Epoch: 1520 | training loss: 0.1288485825061798 | testing loss: 0.13846930861473083\n",
            "Epoch: 1530 | training loss: 0.12400703132152557 | testing loss: 0.13333339989185333\n",
            "Epoch: 1540 | training loss: 0.11917515099048615 | testing loss: 0.12808704376220703\n",
            "Epoch: 1550 | training loss: 0.11434342712163925 | testing loss: 0.12284078449010849\n",
            "Epoch: 1560 | training loss: 0.10951153934001923 | testing loss: 0.11759462207555771\n",
            "Epoch: 1570 | training loss: 0.10467004776000977 | testing loss: 0.11245870590209961\n",
            "Epoch: 1580 | training loss: 0.09983833134174347 | testing loss: 0.10721244663000107\n",
            "Epoch: 1590 | training loss: 0.09500662982463837 | testing loss: 0.10196638107299805\n",
            "Epoch: 1600 | training loss: 0.09017486870288849 | testing loss: 0.0967201218008995\n",
            "Epoch: 1610 | training loss: 0.08533336967229843 | testing loss: 0.09158430248498917\n",
            "Epoch: 1620 | training loss: 0.08050167560577393 | testing loss: 0.08633814007043839\n",
            "Epoch: 1630 | training loss: 0.07566988468170166 | testing loss: 0.08109188079833984\n",
            "Epoch: 1640 | training loss: 0.07083825767040253 | testing loss: 0.0758456215262413\n",
            "Epoch: 1650 | training loss: 0.06599676609039307 | testing loss: 0.07070989906787872\n",
            "Epoch: 1660 | training loss: 0.06116499751806259 | testing loss: 0.06546363979578018\n",
            "Epoch: 1670 | training loss: 0.056333303451538086 | testing loss: 0.06021738052368164\n",
            "Epoch: 1680 | training loss: 0.0515015609562397 | testing loss: 0.05497121810913086\n",
            "Epoch: 1690 | training loss: 0.04666004329919815 | testing loss: 0.04983530193567276\n",
            "Epoch: 1700 | training loss: 0.04182839393615723 | testing loss: 0.04458904266357422\n",
            "Epoch: 1710 | training loss: 0.03699655458331108 | testing loss: 0.03934288024902344\n",
            "Epoch: 1720 | training loss: 0.032164882868528366 | testing loss: 0.034096620976924896\n",
            "Epoch: 1730 | training loss: 0.027323460206389427 | testing loss: 0.02896089479327202\n",
            "Epoch: 1740 | training loss: 0.0224916934967041 | testing loss: 0.023714732378721237\n",
            "Epoch: 1750 | training loss: 0.017659951001405716 | testing loss: 0.018468474969267845\n",
            "Epoch: 1760 | training loss: 0.012828255072236061 | testing loss: 0.01322240848094225\n",
            "Epoch: 1770 | training loss: 0.007986712269484997 | testing loss: 0.008086490444839\n",
            "Epoch: 1780 | training loss: 0.0034273385535925627 | testing loss: 0.0029954910278320312\n",
            "Epoch: 1790 | training loss: 0.00694651622325182 | testing loss: 0.005486392881721258\n",
            "Epoch: 1800 | training loss: 0.00694651622325182 | testing loss: 0.005486392881721258\n",
            "Epoch: 1810 | training loss: 0.00694651622325182 | testing loss: 0.005486392881721258\n",
            "Epoch: 1820 | training loss: 0.00694651622325182 | testing loss: 0.005486392881721258\n",
            "Epoch: 1830 | training loss: 0.00694651622325182 | testing loss: 0.005486392881721258\n",
            "Epoch: 1840 | training loss: 0.00694651622325182 | testing loss: 0.005486392881721258\n",
            "Epoch: 1850 | training loss: 0.00694651622325182 | testing loss: 0.005486392881721258\n",
            "Epoch: 1860 | training loss: 0.00694651622325182 | testing loss: 0.005486392881721258\n",
            "Epoch: 1870 | training loss: 0.00694651622325182 | testing loss: 0.005486392881721258\n",
            "Epoch: 1880 | training loss: 0.00694651622325182 | testing loss: 0.005486392881721258\n",
            "Epoch: 1890 | training loss: 0.00694651622325182 | testing loss: 0.005486392881721258\n",
            "Epoch: 1900 | training loss: 0.00694651622325182 | testing loss: 0.005486392881721258\n",
            "Epoch: 1910 | training loss: 0.00694651622325182 | testing loss: 0.005486392881721258\n",
            "Epoch: 1920 | training loss: 0.00694651622325182 | testing loss: 0.005486392881721258\n",
            "Epoch: 1930 | training loss: 0.00694651622325182 | testing loss: 0.005486392881721258\n",
            "Epoch: 1940 | training loss: 0.00694651622325182 | testing loss: 0.005486392881721258\n",
            "Epoch: 1950 | training loss: 0.00694651622325182 | testing loss: 0.005486392881721258\n",
            "Epoch: 1960 | training loss: 0.00694651622325182 | testing loss: 0.005486392881721258\n",
            "Epoch: 1970 | training loss: 0.00694651622325182 | testing loss: 0.005486392881721258\n",
            "Epoch: 1980 | training loss: 0.00694651622325182 | testing loss: 0.005486392881721258\n",
            "Epoch: 1990 | training loss: 0.00694651622325182 | testing loss: 0.005486392881721258\n",
            "Epoch: 2000 | training loss: 0.00694651622325182 | testing loss: 0.005486392881721258\n",
            "Epoch: 2010 | training loss: 0.00694651622325182 | testing loss: 0.005486392881721258\n",
            "Epoch: 2020 | training loss: 0.00694651622325182 | testing loss: 0.005486392881721258\n",
            "Epoch: 2030 | training loss: 0.00694651622325182 | testing loss: 0.005486392881721258\n",
            "Epoch: 2040 | training loss: 0.00694651622325182 | testing loss: 0.005486392881721258\n",
            "Epoch: 2050 | training loss: 0.00694651622325182 | testing loss: 0.005486392881721258\n",
            "Epoch: 2060 | training loss: 0.00694651622325182 | testing loss: 0.005486392881721258\n",
            "Epoch: 2070 | training loss: 0.00694651622325182 | testing loss: 0.005486392881721258\n",
            "Epoch: 2080 | training loss: 0.00694651622325182 | testing loss: 0.005486392881721258\n",
            "Epoch: 2090 | training loss: 0.00694651622325182 | testing loss: 0.005486392881721258\n",
            "Epoch: 2100 | training loss: 0.00694651622325182 | testing loss: 0.005486392881721258\n",
            "Epoch: 2110 | training loss: 0.00694651622325182 | testing loss: 0.005486392881721258\n",
            "Epoch: 2120 | training loss: 0.00694651622325182 | testing loss: 0.005486392881721258\n",
            "Epoch: 2130 | training loss: 0.00694651622325182 | testing loss: 0.005486392881721258\n",
            "Epoch: 2140 | training loss: 0.00694651622325182 | testing loss: 0.005486392881721258\n",
            "Epoch: 2150 | training loss: 0.00694651622325182 | testing loss: 0.005486392881721258\n",
            "Epoch: 2160 | training loss: 0.00694651622325182 | testing loss: 0.005486392881721258\n",
            "Epoch: 2170 | training loss: 0.00694651622325182 | testing loss: 0.005486392881721258\n",
            "Epoch: 2180 | training loss: 0.00694651622325182 | testing loss: 0.005486392881721258\n",
            "Epoch: 2190 | training loss: 0.00694651622325182 | testing loss: 0.005486392881721258\n",
            "Epoch: 2200 | training loss: 0.00694651622325182 | testing loss: 0.005486392881721258\n",
            "Epoch: 2210 | training loss: 0.00694651622325182 | testing loss: 0.005486392881721258\n",
            "Epoch: 2220 | training loss: 0.00694651622325182 | testing loss: 0.005486392881721258\n",
            "Epoch: 2230 | training loss: 0.00694651622325182 | testing loss: 0.005486392881721258\n",
            "Epoch: 2240 | training loss: 0.00694651622325182 | testing loss: 0.005486392881721258\n",
            "Epoch: 2250 | training loss: 0.00694651622325182 | testing loss: 0.005486392881721258\n",
            "Epoch: 2260 | training loss: 0.00694651622325182 | testing loss: 0.005486392881721258\n",
            "Epoch: 2270 | training loss: 0.00694651622325182 | testing loss: 0.005486392881721258\n",
            "Epoch: 2280 | training loss: 0.00694651622325182 | testing loss: 0.005486392881721258\n",
            "Epoch: 2290 | training loss: 0.00694651622325182 | testing loss: 0.005486392881721258\n",
            "Epoch: 2300 | training loss: 0.00694651622325182 | testing loss: 0.005486392881721258\n",
            "Epoch: 2310 | training loss: 0.00694651622325182 | testing loss: 0.005486392881721258\n",
            "Epoch: 2320 | training loss: 0.00694651622325182 | testing loss: 0.005486392881721258\n",
            "Epoch: 2330 | training loss: 0.00694651622325182 | testing loss: 0.005486392881721258\n",
            "Epoch: 2340 | training loss: 0.00694651622325182 | testing loss: 0.005486392881721258\n",
            "Epoch: 2350 | training loss: 0.00694651622325182 | testing loss: 0.005486392881721258\n",
            "Epoch: 2360 | training loss: 0.00694651622325182 | testing loss: 0.005486392881721258\n",
            "Epoch: 2370 | training loss: 0.00694651622325182 | testing loss: 0.005486392881721258\n",
            "Epoch: 2380 | training loss: 0.00694651622325182 | testing loss: 0.005486392881721258\n",
            "Epoch: 2390 | training loss: 0.00694651622325182 | testing loss: 0.005486392881721258\n",
            "Epoch: 2400 | training loss: 0.00694651622325182 | testing loss: 0.005486392881721258\n",
            "Epoch: 2410 | training loss: 0.00694651622325182 | testing loss: 0.005486392881721258\n",
            "Epoch: 2420 | training loss: 0.00694651622325182 | testing loss: 0.005486392881721258\n",
            "Epoch: 2430 | training loss: 0.00694651622325182 | testing loss: 0.005486392881721258\n",
            "Epoch: 2440 | training loss: 0.00694651622325182 | testing loss: 0.005486392881721258\n",
            "Epoch: 2450 | training loss: 0.00694651622325182 | testing loss: 0.005486392881721258\n",
            "Epoch: 2460 | training loss: 0.00694651622325182 | testing loss: 0.005486392881721258\n",
            "Epoch: 2470 | training loss: 0.00694651622325182 | testing loss: 0.005486392881721258\n",
            "Epoch: 2480 | training loss: 0.00694651622325182 | testing loss: 0.005486392881721258\n",
            "Epoch: 2490 | training loss: 0.00694651622325182 | testing loss: 0.005486392881721258\n",
            "Epoch: 2500 | training loss: 0.00694651622325182 | testing loss: 0.005486392881721258\n",
            "Epoch: 2510 | training loss: 0.00694651622325182 | testing loss: 0.005486392881721258\n",
            "Epoch: 2520 | training loss: 0.00694651622325182 | testing loss: 0.005486392881721258\n",
            "Epoch: 2530 | training loss: 0.00694651622325182 | testing loss: 0.005486392881721258\n",
            "Epoch: 2540 | training loss: 0.00694651622325182 | testing loss: 0.005486392881721258\n",
            "Epoch: 2550 | training loss: 0.00694651622325182 | testing loss: 0.005486392881721258\n",
            "Epoch: 2560 | training loss: 0.00694651622325182 | testing loss: 0.005486392881721258\n",
            "Epoch: 2570 | training loss: 0.00694651622325182 | testing loss: 0.005486392881721258\n",
            "Epoch: 2580 | training loss: 0.00694651622325182 | testing loss: 0.005486392881721258\n",
            "Epoch: 2590 | training loss: 0.00694651622325182 | testing loss: 0.005486392881721258\n",
            "Epoch: 2600 | training loss: 0.00694651622325182 | testing loss: 0.005486392881721258\n",
            "Epoch: 2610 | training loss: 0.00694651622325182 | testing loss: 0.005486392881721258\n",
            "Epoch: 2620 | training loss: 0.00694651622325182 | testing loss: 0.005486392881721258\n",
            "Epoch: 2630 | training loss: 0.00694651622325182 | testing loss: 0.005486392881721258\n",
            "Epoch: 2640 | training loss: 0.00694651622325182 | testing loss: 0.005486392881721258\n",
            "Epoch: 2650 | training loss: 0.00694651622325182 | testing loss: 0.005486392881721258\n",
            "Epoch: 2660 | training loss: 0.00694651622325182 | testing loss: 0.005486392881721258\n",
            "Epoch: 2670 | training loss: 0.00694651622325182 | testing loss: 0.005486392881721258\n",
            "Epoch: 2680 | training loss: 0.00694651622325182 | testing loss: 0.005486392881721258\n",
            "Epoch: 2690 | training loss: 0.00694651622325182 | testing loss: 0.005486392881721258\n",
            "Epoch: 2700 | training loss: 0.00694651622325182 | testing loss: 0.005486392881721258\n",
            "Epoch: 2710 | training loss: 0.00694651622325182 | testing loss: 0.005486392881721258\n",
            "Epoch: 2720 | training loss: 0.00694651622325182 | testing loss: 0.005486392881721258\n",
            "Epoch: 2730 | training loss: 0.00694651622325182 | testing loss: 0.005486392881721258\n",
            "Epoch: 2740 | training loss: 0.00694651622325182 | testing loss: 0.005486392881721258\n",
            "Epoch: 2750 | training loss: 0.00694651622325182 | testing loss: 0.005486392881721258\n",
            "Epoch: 2760 | training loss: 0.00694651622325182 | testing loss: 0.005486392881721258\n",
            "Epoch: 2770 | training loss: 0.00694651622325182 | testing loss: 0.005486392881721258\n",
            "Epoch: 2780 | training loss: 0.00694651622325182 | testing loss: 0.005486392881721258\n",
            "Epoch: 2790 | training loss: 0.00694651622325182 | testing loss: 0.005486392881721258\n",
            "Epoch: 2800 | training loss: 0.00694651622325182 | testing loss: 0.005486392881721258\n",
            "Epoch: 2810 | training loss: 0.00694651622325182 | testing loss: 0.005486392881721258\n",
            "Epoch: 2820 | training loss: 0.00694651622325182 | testing loss: 0.005486392881721258\n",
            "Epoch: 2830 | training loss: 0.00694651622325182 | testing loss: 0.005486392881721258\n",
            "Epoch: 2840 | training loss: 0.00694651622325182 | testing loss: 0.005486392881721258\n",
            "Epoch: 2850 | training loss: 0.00694651622325182 | testing loss: 0.005486392881721258\n",
            "Epoch: 2860 | training loss: 0.00694651622325182 | testing loss: 0.005486392881721258\n",
            "Epoch: 2870 | training loss: 0.00694651622325182 | testing loss: 0.005486392881721258\n",
            "Epoch: 2880 | training loss: 0.00694651622325182 | testing loss: 0.005486392881721258\n",
            "Epoch: 2890 | training loss: 0.00694651622325182 | testing loss: 0.005486392881721258\n",
            "Epoch: 2900 | training loss: 0.00694651622325182 | testing loss: 0.005486392881721258\n",
            "Epoch: 2910 | training loss: 0.00694651622325182 | testing loss: 0.005486392881721258\n",
            "Epoch: 2920 | training loss: 0.00694651622325182 | testing loss: 0.005486392881721258\n",
            "Epoch: 2930 | training loss: 0.00694651622325182 | testing loss: 0.005486392881721258\n",
            "Epoch: 2940 | training loss: 0.00694651622325182 | testing loss: 0.005486392881721258\n",
            "Epoch: 2950 | training loss: 0.00694651622325182 | testing loss: 0.005486392881721258\n",
            "Epoch: 2960 | training loss: 0.00694651622325182 | testing loss: 0.005486392881721258\n",
            "Epoch: 2970 | training loss: 0.00694651622325182 | testing loss: 0.005486392881721258\n",
            "Epoch: 2980 | training loss: 0.00694651622325182 | testing loss: 0.005486392881721258\n",
            "Epoch: 2990 | training loss: 0.00694651622325182 | testing loss: 0.005486392881721258\n"
          ]
        }
      ]
    },
    {
      "cell_type": "code",
      "source": [
        "plt.plot(epoch_count, train_loss, label=\"train loss\")\n",
        "plt.plot(epoch_count, test_loss, label=\"test loss\")\n",
        "plt.xlabel(\"epoch\")\n",
        "plt.title(\"loss\")\n",
        "plt.title(\"Lin model\")\n",
        "plt.legend()\n"
      ],
      "metadata": {
        "colab": {
          "base_uri": "https://localhost:8080/",
          "height": 489
        },
        "id": "VCKetuUEdJqV",
        "outputId": "a415df7e-b426-4c2d-dc27-742b47a0dfe8"
      },
      "execution_count": 25,
      "outputs": [
        {
          "output_type": "execute_result",
          "data": {
            "text/plain": [
              "<matplotlib.legend.Legend at 0x7d4863191410>"
            ]
          },
          "metadata": {},
          "execution_count": 25
        },
        {
          "output_type": "display_data",
          "data": {
            "text/plain": [
              "<Figure size 640x480 with 1 Axes>"
            ],
            "image/png": "[encoded data removed]"
          },
          "metadata": {}
        }
      ]
    },
    {
      "cell_type": "code",
      "source": [
        "with torch.inference_mode():\n",
        "  y_pred = model_1(X_test)\n",
        "  plt.scatter(X_train, y_train, c='g')\n",
        "  plt.scatter(X_test, y_test, c='b')\n",
        "  plt.scatter(X_test, y_pred, c='r')\n",
        "  plt.show()"
      ],
      "metadata": {
        "colab": {
          "base_uri": "https://localhost:8080/",
          "height": 430
        },
        "id": "TimVhHfNUhZP",
        "outputId": "a136c2ae-b5c0-4401-f257-8987806e7d3b"
      },
      "execution_count": 26,
      "outputs": [
        {
          "output_type": "display_data",
          "data": {
            "text/plain": [
              "<Figure size 640x480 with 1 Axes>"
            ],
            "image/png": "[encoded data removed]"
          },
          "metadata": {}
        }
      ]
    },
    {
      "cell_type": "markdown",
      "source": [
        "# **nn.Linear**"
      ],
      "metadata": {
        "id": "TruiBUMw-Bnf"
      }
    },
    {
      "cell_type": "code",
      "source": [
        "class LinearModelV1(nn.Module):\n",
        "  def __init__(self):\n",
        "    super().__init__()\n",
        "    self.linear_layer = nn.Linear(in_features=1,\n",
        "                                  out_features=1)\n",
        "\n",
        "  def forward(self, x:torch.Tensor) -> torch.Tensor:\n",
        "    return self.linear_layer(x)\n",
        "\n",
        "torch.manual_seed(42)\n",
        "model_2 = LinearModelV1()\n",
        "model_2.state_dict()"
      ],
      "metadata": {
        "colab": {
          "base_uri": "https://localhost:8080/"
        },
        "id": "XqntCsT8-A74",
        "outputId": "f015bb09-b040-453c-ca63-40ccbb914e4c"
      },
      "execution_count": 44,
      "outputs": [
        {
          "output_type": "execute_result",
          "data": {
            "text/plain": [
              "OrderedDict([('linear_layer.weight', tensor([[0.7645]])),\n",
              "             ('linear_layer.bias', tensor([0.8300]))])"
            ]
          },
          "metadata": {},
          "execution_count": 44
        }
      ]
    },
    {
      "cell_type": "code",
      "source": [
        "loss_fn = nn.L1Loss()\n",
        "optimizer = torch.optim.Adam(model_2.parameters(), lr=0.01)\n"
      ],
      "metadata": {
        "id": "U4hUXHmvczx6"
      },
      "execution_count": 45,
      "outputs": []
    },
    {
      "cell_type": "code",
      "source": [
        "X = torch.arange(0, 1, 0.04)\n",
        "\n",
        "device = 'cuda' if torch.cuda.is_available() else 'cpu'\n",
        "torch.device(device)\n",
        "\n",
        "weight = 0.56\n",
        "bias = 5.69\n",
        "\n",
        "y = [weight * i + bias for i in X]\n",
        "\n",
        "X_train, X_test, y_train, y_test = train_test_split(X, y, test_size=0.2, random_state=42)\n",
        "X_train = torch.tensor(X_train, dtype=torch.float).unsqueeze(dim=1)\n",
        "y_train = torch.tensor(y_train, dtype=torch.float).unsqueeze(dim=1)\n",
        "X_test = torch.tensor(X_test, dtype=torch.float).unsqueeze(dim=1)\n",
        "y_test = torch.tensor(y_test, dtype=torch.float).unsqueeze(dim=1)"
      ],
      "metadata": {
        "colab": {
          "base_uri": "https://localhost:8080/"
        },
        "id": "mHz_jLplAc7C",
        "outputId": "1b1205fb-860c-4015-e7d8-1918aa2f713b"
      },
      "execution_count": 46,
      "outputs": [
        {
          "output_type": "stream",
          "name": "stderr",
          "text": [
            "<ipython-input-46-95ccc29b5701>:12: UserWarning: To copy construct from a tensor, it is recommended to use sourceTensor.clone().detach() or sourceTensor.clone().detach().requires_grad_(True), rather than torch.tensor(sourceTensor).\n",
            "  X_train = torch.tensor(X_train, dtype=torch.float).unsqueeze(dim=1)\n",
            "<ipython-input-46-95ccc29b5701>:14: UserWarning: To copy construct from a tensor, it is recommended to use sourceTensor.clone().detach() or sourceTensor.clone().detach().requires_grad_(True), rather than torch.tensor(sourceTensor).\n",
            "  X_test = torch.tensor(X_test, dtype=torch.float).unsqueeze(dim=1)\n"
          ]
        }
      ]
    },
    {
      "cell_type": "code",
      "source": [
        "for i in range(1000):\n",
        "  model_2.train()\n",
        "\n",
        "  y_pred = model_2(X_train)\n",
        "\n",
        "  loss = loss_fn(y_pred, y_train)\n",
        "\n",
        "  optimizer.zero_grad()\n",
        "\n",
        "  loss.backward()\n",
        "\n",
        "  optimizer.step()\n",
        "  if i % 10 == 0:\n",
        "    print(f'epoch: {i+1} | loss: {loss}')"
      ],
      "metadata": {
        "colab": {
          "base_uri": "https://localhost:8080/"
        },
        "id": "2poshaYR_1VH",
        "outputId": "0f19ff53-bd89-440f-9e04-cf75fb5ad621"
      },
      "execution_count": 50,
      "outputs": [
        {
          "output_type": "stream",
          "name": "stdout",
          "text": [
            "epoch: 1 | loss: 0.0007742404704913497\n",
            "epoch: 11 | loss: 0.0037507296074181795\n",
            "epoch: 21 | loss: 0.001578640891239047\n",
            "epoch: 31 | loss: 0.002942895982414484\n",
            "epoch: 41 | loss: 0.0007717132684774697\n",
            "epoch: 51 | loss: 0.0037468434311449528\n",
            "epoch: 61 | loss: 0.0015780925750732422\n",
            "epoch: 71 | loss: 0.0029376267921179533\n",
            "epoch: 81 | loss: 0.0007698774570599198\n",
            "epoch: 91 | loss: 0.0037425041664391756\n",
            "epoch: 101 | loss: 0.0015755414497107267\n",
            "epoch: 111 | loss: 0.0029338598251342773\n",
            "epoch: 121 | loss: 0.0007685184245929122\n",
            "epoch: 131 | loss: 0.003736734390258789\n",
            "epoch: 141 | loss: 0.0015736579662188888\n",
            "epoch: 151 | loss: 0.0029301405884325504\n",
            "epoch: 161 | loss: 0.0007679462432861328\n",
            "epoch: 171 | loss: 0.003732991172000766\n",
            "epoch: 181 | loss: 0.0015712976455688477\n",
            "epoch: 191 | loss: 0.002926373388618231\n",
            "epoch: 201 | loss: 0.0007675409433431923\n",
            "epoch: 211 | loss: 0.0037278414238244295\n",
            "epoch: 221 | loss: 0.0015702724922448397\n",
            "epoch: 231 | loss: 0.0029213905800133944\n",
            "epoch: 241 | loss: 0.0007647275924682617\n",
            "epoch: 251 | loss: 0.003725242568179965\n",
            "epoch: 261 | loss: 0.0015698432689532638\n",
            "epoch: 271 | loss: 0.0029169321060180664\n",
            "epoch: 281 | loss: 0.0007629155879840255\n",
            "epoch: 291 | loss: 0.003722596215084195\n",
            "epoch: 301 | loss: 0.00156993861310184\n",
            "epoch: 311 | loss: 0.0029118775855749846\n",
            "epoch: 321 | loss: 0.0007601022953167558\n",
            "epoch: 331 | loss: 0.003720569657161832\n",
            "epoch: 341 | loss: 0.0015694380272179842\n",
            "epoch: 351 | loss: 0.0029080151580274105\n",
            "epoch: 361 | loss: 0.0007582902908325195\n",
            "epoch: 371 | loss: 0.003716635750606656\n",
            "epoch: 381 | loss: 0.0015682459343224764\n",
            "epoch: 391 | loss: 0.002905511762946844\n",
            "epoch: 401 | loss: 0.0007579565281048417\n",
            "epoch: 411 | loss: 0.0037131786812096834\n",
            "epoch: 421 | loss: 0.0015669107669964433\n",
            "epoch: 431 | loss: 0.002901267958804965\n",
            "epoch: 441 | loss: 0.0007561921956948936\n",
            "epoch: 451 | loss: 0.0037097930908203125\n",
            "epoch: 461 | loss: 0.0015656709438189864\n",
            "epoch: 471 | loss: 0.0028988360427320004\n",
            "epoch: 481 | loss: 0.0007554054027423263\n",
            "epoch: 491 | loss: 0.0037069558165967464\n",
            "epoch: 501 | loss: 0.0015643596416339278\n",
            "epoch: 511 | loss: 0.002896046731621027\n",
            "epoch: 521 | loss: 0.0007541179656982422\n",
            "epoch: 531 | loss: 0.0037046908400952816\n",
            "epoch: 541 | loss: 0.0015645027160644531\n",
            "epoch: 551 | loss: 0.002892732620239258\n",
            "epoch: 561 | loss: 0.0007534027099609375\n",
            "epoch: 571 | loss: 0.0037022351752966642\n",
            "epoch: 581 | loss: 0.0015627623070031404\n",
            "epoch: 591 | loss: 0.002891039941459894\n",
            "epoch: 601 | loss: 0.0007525921100750566\n",
            "epoch: 611 | loss: 0.0036991597153246403\n",
            "epoch: 621 | loss: 0.001561927841976285\n",
            "epoch: 631 | loss: 0.002888417337089777\n",
            "epoch: 641 | loss: 0.0007523774984292686\n",
            "epoch: 651 | loss: 0.003696441650390625\n",
            "epoch: 661 | loss: 0.0015607833629474044\n",
            "epoch: 671 | loss: 0.0028855563141405582\n",
            "epoch: 681 | loss: 0.0007509231800213456\n",
            "epoch: 691 | loss: 0.0036943673621863127\n",
            "epoch: 701 | loss: 0.0015601158374920487\n",
            "epoch: 711 | loss: 0.0028839348815381527\n",
            "epoch: 721 | loss: 0.0007507801055908203\n",
            "epoch: 731 | loss: 0.0036913633812218904\n",
            "epoch: 741 | loss: 0.001558923744596541\n",
            "epoch: 751 | loss: 0.0028821707237511873\n",
            "epoch: 761 | loss: 0.0007500409847125411\n",
            "epoch: 771 | loss: 0.0036892653442919254\n",
            "epoch: 781 | loss: 0.0015582084888592362\n",
            "epoch: 791 | loss: 0.0028786896727979183\n",
            "epoch: 801 | loss: 0.0007483959197998047\n",
            "epoch: 811 | loss: 0.0036881447304040194\n",
            "epoch: 821 | loss: 0.001558017684146762\n",
            "epoch: 831 | loss: 0.0028770447243005037\n",
            "epoch: 841 | loss: 0.000748109829146415\n",
            "epoch: 851 | loss: 0.003686118172481656\n",
            "epoch: 861 | loss: 0.0015568733215332031\n",
            "epoch: 871 | loss: 0.0028754710219800472\n",
            "epoch: 881 | loss: 0.0007469177362509072\n",
            "epoch: 891 | loss: 0.003684520721435547\n",
            "epoch: 901 | loss: 0.0015566826332360506\n",
            "epoch: 911 | loss: 0.00287301535718143\n",
            "epoch: 921 | loss: 0.0007467508548870683\n",
            "epoch: 931 | loss: 0.0036825418937951326\n",
            "epoch: 941 | loss: 0.0015565156936645508\n",
            "epoch: 951 | loss: 0.0028704882133752108\n",
            "epoch: 961 | loss: 0.000744509685318917\n",
            "epoch: 971 | loss: 0.003682088805362582\n",
            "epoch: 981 | loss: 0.0015568494563922286\n",
            "epoch: 991 | loss: 0.0028684616554528475\n"
          ]
        }
      ]
    },
    {
      "cell_type": "code",
      "source": [
        "model_2.state_dict()"
      ],
      "metadata": {
        "colab": {
          "base_uri": "https://localhost:8080/"
        },
        "id": "lDRsniYyAVAL",
        "outputId": "39b82a0d-e0d2-4ff5-a8cd-60ae1458bdd1"
      },
      "execution_count": 51,
      "outputs": [
        {
          "output_type": "execute_result",
          "data": {
            "text/plain": [
              "OrderedDict([('linear_layer.weight', tensor([[0.5594]])),\n",
              "             ('linear_layer.bias', tensor([5.6910]))])"
            ]
          },
          "metadata": {},
          "execution_count": 51
        }
      ]
    },
    {
      "cell_type": "code",
      "source": [],
      "metadata": {
        "id": "nRpIAp6SBjEn"
      },
      "execution_count": null,
      "outputs": []
    }
  ]
}