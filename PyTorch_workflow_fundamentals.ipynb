{
  "nbformat": 4,
  "nbformat_minor": 0,
  "metadata": {
    "colab": {
      "provenance": [],
      "gpuType": "T4",
      "authorship_tag": "ABX9TyPtOQGL594ju0rcjhlot8pG",
      "include_colab_link": true
    },
    "kernelspec": {
      "name": "python3",
      "display_name": "Python 3"
    },
    "language_info": {
      "name": "python"
    },
    "accelerator": "GPU"
  },
  "cells": [
    {
      "cell_type": "markdown",
      "metadata": {
        "id": "view-in-github",
        "colab_type": "text"
      },
      "source": [
        "<a href=\"https://colab.research.google.com/github/Tharunopi/PyTorch/blob/main/PyTorch_workflow_fundamentals.ipynb\" target=\"_parent\"><img src=\"https://colab.research.google.com/assets/colab-badge.svg\" alt=\"Open In Colab\"/></a>"
      ]
    },
    {
      "cell_type": "markdown",
      "source": [
        "A PyTorch workflow\n",
        "1.  Turn data into tensor\n",
        "2.  Build or pick a pretrained model\n",
        "\n",
        "\n",
        "```\n",
        "2.1. Pick a loss function and optimizer\n",
        "2.2. Build a training loop\n",
        "```\n",
        "\n",
        "\n",
        "3.   Fit the model to the data and make prediction\n",
        "4.  Evalvate the model\n",
        "5.   Improve through experimentation\n",
        "6.Save and reload your trained model\n",
        "\n",
        "\n",
        "\n",
        "\n"
      ],
      "metadata": {
        "id": "QG6z3s_zW1d-"
      }
    },
    {
      "cell_type": "code",
      "execution_count": 11,
      "metadata": {
        "id": "sG70YzilVvVX"
      },
      "outputs": [],
      "source": [
        "import torch\n",
        "from torch import nn\n",
        "import matplotlib.pyplot as plt"
      ]
    },
    {
      "cell_type": "code",
      "source": [
        "device = 'cuda' if torch.cuda.is_available() else 'cpu'\n",
        "torch.device(device)"
      ],
      "metadata": {
        "colab": {
          "base_uri": "https://localhost:8080/"
        },
        "id": "cfRJcYAXRXSb",
        "outputId": "c8a40b44-d3df-4316-afbf-23d29e9aa7c0"
      },
      "execution_count": 12,
      "outputs": [
        {
          "output_type": "execute_result",
          "data": {
            "text/plain": [
              "device(type='cuda')"
            ]
          },
          "metadata": {},
          "execution_count": 12
        }
      ]
    },
    {
      "cell_type": "markdown",
      "source": [
        "# **Creating dataset by using linear regression formula**"
      ],
      "metadata": {
        "id": "MF1XthqhafEl"
      }
    },
    {
      "cell_type": "code",
      "source": [
        "start, end, steps = 0, 1, 0.02\n",
        "X = torch.arange(start, end, steps).unsqueeze(dim=1)\n",
        "X[:5]"
      ],
      "metadata": {
        "colab": {
          "base_uri": "https://localhost:8080/"
        },
        "collapsed": true,
        "id": "9dpZXTlnXDPJ",
        "outputId": "0c959f4c-be2d-4a9b-ee80-3479a51c15e4"
      },
      "execution_count": 42,
      "outputs": [
        {
          "output_type": "execute_result",
          "data": {
            "text/plain": [
              "tensor([[0.0000],\n",
              "        [0.0200],\n",
              "        [0.0400],\n",
              "        [0.0600],\n",
              "        [0.0800]])"
            ]
          },
          "metadata": {},
          "execution_count": 42
        }
      ]
    },
    {
      "cell_type": "code",
      "source": [
        "weight = 0.7\n",
        "bias = 0.3\n",
        "y = weight * X + bias\n",
        "y[:5]"
      ],
      "metadata": {
        "colab": {
          "base_uri": "https://localhost:8080/"
        },
        "collapsed": true,
        "id": "2LKv5ipfZtBm",
        "outputId": "f1d4af2b-bfa6-4314-ab76-3cdc31e3f5af"
      },
      "execution_count": 43,
      "outputs": [
        {
          "output_type": "execute_result",
          "data": {
            "text/plain": [
              "tensor([[0.3000],\n",
              "        [0.3140],\n",
              "        [0.3280],\n",
              "        [0.3420],\n",
              "        [0.3560]])"
            ]
          },
          "metadata": {},
          "execution_count": 43
        }
      ]
    },
    {
      "cell_type": "markdown",
      "source": [
        "# **Splitting the data**"
      ],
      "metadata": {
        "id": "Gx9s7SEMamHa"
      }
    },
    {
      "cell_type": "code",
      "source": [
        "from sklearn.model_selection import train_test_split"
      ],
      "metadata": {
        "id": "3Tphy_Z1Z1he"
      },
      "execution_count": 15,
      "outputs": []
    },
    {
      "cell_type": "code",
      "source": [
        "X_train, X_test, y_train, y_test = train_test_split(X, y, test_size=0.2, random_state=42)"
      ],
      "metadata": {
        "id": "bUvfRIuOfvlB"
      },
      "execution_count": 16,
      "outputs": []
    },
    {
      "cell_type": "code",
      "source": [
        "print(len(X_train), len(y_test))"
      ],
      "metadata": {
        "colab": {
          "base_uri": "https://localhost:8080/"
        },
        "id": "zq0F3sEagBvO",
        "outputId": "45278a21-b122-444d-e6c2-e557e95726d3"
      },
      "execution_count": 17,
      "outputs": [
        {
          "output_type": "stream",
          "name": "stdout",
          "text": [
            "40 10\n"
          ]
        }
      ]
    },
    {
      "cell_type": "markdown",
      "source": [
        "# **Visualizing the data**"
      ],
      "metadata": {
        "id": "OygCoHCQiije"
      }
    },
    {
      "cell_type": "code",
      "source": [
        "def visualize(train_x=X_train, test_x=X_test, train_y=y_train, test_y=y_test, prediction=None):\n",
        "  plt.scatter(train_x, train_y, c='b', label='training data')\n",
        "  plt.scatter(test_x, test_y, c='r', label='testing data')\n",
        "  if prediction is not None:\n",
        "    plt.scatter(test_x, prediction, c='g', label='prediction data')\n",
        "  plt.legend()\n",
        "  plt.show()\n",
        "\n",
        "visualize()"
      ],
      "metadata": {
        "colab": {
          "base_uri": "https://localhost:8080/",
          "height": 430
        },
        "id": "HEnIl6tIhmEK",
        "outputId": "5281881d-c313-4cdf-8921-b65a4910ea1d"
      },
      "execution_count": 18,
      "outputs": [
        {
          "output_type": "display_data",
          "data": {
            "text/plain": [
              "<Figure size 640x480 with 1 Axes>"
            ],
            "image/png": "[encoded data removed]"
          },
          "metadata": {}
        }
      ]
    },
    {
      "cell_type": "markdown",
      "source": [
        "# **Building PyTorch model**"
      ],
      "metadata": {
        "id": "LyKCrYYhmgT1"
      }
    },
    {
      "cell_type": "code",
      "source": [
        "#creating a linear regression model\n",
        "class LinearRegressionModel(nn.Module):\n",
        "  def __init__(self):\n",
        "    super().__init__()\n",
        "    self.weights = nn.Parameter(torch.randn(1, requires_grad=True, dtype=torch.float))\n",
        "    self.bias = nn.Parameter(torch.randn(1, requires_grad=True, dtype=torch.float))\n",
        "\n",
        "  # creating a forward method for computation\n",
        "  def forward(self, x:torch.tensor) -> torch.tensor:\n",
        "    return self.weights * x + self.bias"
      ],
      "metadata": {
        "id": "JU6YuH2viq7K"
      },
      "execution_count": 23,
      "outputs": []
    },
    {
      "cell_type": "code",
      "source": [
        "#checking contents of our model\n",
        "# torch.manual_seed(42)\n",
        "\n",
        "model_0 = LinearRegressionModel()\n",
        "\n",
        "list(model_0.parameters())"
      ],
      "metadata": {
        "colab": {
          "base_uri": "https://localhost:8080/"
        },
        "id": "4UCgCyVATLoU",
        "outputId": "cb0d6de5-0744-44d4-a3c1-160f92a90b15"
      },
      "execution_count": 36,
      "outputs": [
        {
          "output_type": "execute_result",
          "data": {
            "text/plain": [
              "[Parameter containing:\n",
              " tensor([-1.1229], requires_grad=True),\n",
              " Parameter containing:\n",
              " tensor([-0.1863], requires_grad=True)]"
            ]
          },
          "metadata": {},
          "execution_count": 36
        }
      ]
    },
    {
      "cell_type": "code",
      "source": [
        "model_0.state_dict()"
      ],
      "metadata": {
        "colab": {
          "base_uri": "https://localhost:8080/"
        },
        "id": "JFnOoX2EW4BB",
        "outputId": "0db39e16-d966-49ad-ef13-3f1c6b6552bd"
      },
      "execution_count": 37,
      "outputs": [
        {
          "output_type": "execute_result",
          "data": {
            "text/plain": [
              "OrderedDict([('weights', tensor([-1.1229])), ('bias', tensor([-0.1863]))])"
            ]
          },
          "metadata": {},
          "execution_count": 37
        }
      ]
    },
    {
      "cell_type": "code",
      "source": [
        "with torch.inference_mode():\n",
        "  y_pred = model_0(X_test)\n",
        "\n",
        "print(y_pred)"
      ],
      "metadata": {
        "colab": {
          "base_uri": "https://localhost:8080/"
        },
        "id": "vJi0IzRPYfhu",
        "outputId": "910e395e-7c24-4a70-cdf4-db75e39bda83"
      },
      "execution_count": 38,
      "outputs": [
        {
          "output_type": "stream",
          "name": "stdout",
          "text": [
            "tensor([[-0.4783],\n",
            "        [-1.0622],\n",
            "        [-0.8600],\n",
            "        [-1.1969],\n",
            "        [-0.5681],\n",
            "        [-1.2643],\n",
            "        [-0.7702],\n",
            "        [-0.7478],\n",
            "        [-0.9050],\n",
            "        [-0.6130]])\n"
          ]
        }
      ]
    },
    {
      "cell_type": "code",
      "source": [
        "plt.scatter(X_train, y_train, c='g')\n",
        "plt.scatter(X_test, y_test, c='b')\n",
        "plt.scatter(X_test, y_pred, c='r')\n",
        "plt.show()"
      ],
      "metadata": {
        "colab": {
          "base_uri": "https://localhost:8080/",
          "height": 430
        },
        "id": "BzStVwdNZoUs",
        "outputId": "042241a0-fd0b-4eb5-90d4-6a4731a61993"
      },
      "execution_count": 41,
      "outputs": [
        {
          "output_type": "display_data",
          "data": {
            "text/plain": [
              "<Figure size 640x480 with 1 Axes>"
            ],
            "image/png": "[encoded data removed]"
          },
          "metadata": {}
        }
      ]
    },
    {
      "cell_type": "code",
      "source": [
        "loss_fn = nn.L1Loss()"
      ],
      "metadata": {
        "id": "CJgQVR1kZrb1"
      },
      "execution_count": null,
      "outputs": []
    }
  ]
}