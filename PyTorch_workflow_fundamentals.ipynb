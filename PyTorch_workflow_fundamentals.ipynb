{
  "nbformat": 4,
  "nbformat_minor": 0,
  "metadata": {
    "colab": {
      "provenance": [],
      "gpuType": "T4",
      "authorship_tag": "ABX9TyPUdR+qjtBjbzxC3x4GdGhB",
      "include_colab_link": true
    },
    "kernelspec": {
      "name": "python3",
      "display_name": "Python 3"
    },
    "language_info": {
      "name": "python"
    },
    "accelerator": "GPU"
  },
  "cells": [
    {
      "cell_type": "markdown",
      "metadata": {
        "id": "view-in-github",
        "colab_type": "text"
      },
      "source": [
        "<a href=\"https://colab.research.google.com/github/Tharunopi/PyTorch/blob/main/PyTorch_workflow_fundamentals.ipynb\" target=\"_parent\"><img src=\"https://colab.research.google.com/assets/colab-badge.svg\" alt=\"Open In Colab\"/></a>"
      ]
    },
    {
      "cell_type": "markdown",
      "source": [
        "A PyTorch workflow\n",
        "1.  Turn data into tensor\n",
        "2.  Build or pick a pretrained model\n",
        "\n",
        "\n",
        "```\n",
        "2.1. Pick a loss function and optimizer\n",
        "2.2. Build a training loop\n",
        "```\n",
        "\n",
        "\n",
        "3.   Fit the model to the data and make prediction\n",
        "4.  Evalvate the model\n",
        "5.   Improve through experimentation\n",
        "6.Save and reload your trained model\n",
        "\n",
        "\n",
        "\n",
        "\n"
      ],
      "metadata": {
        "id": "QG6z3s_zW1d-"
      }
    },
    {
      "cell_type": "code",
      "execution_count": 295,
      "metadata": {
        "id": "sG70YzilVvVX"
      },
      "outputs": [],
      "source": [
        "import torch\n",
        "from torch import nn\n",
        "import matplotlib.pyplot as plt\n",
        "import numpy as np"
      ]
    },
    {
      "cell_type": "code",
      "source": [
        "device = 'cuda' if torch.cuda.is_available() else 'cpu'\n",
        "torch.device(device)"
      ],
      "metadata": {
        "colab": {
          "base_uri": "https://localhost:8080/"
        },
        "id": "cfRJcYAXRXSb",
        "outputId": "860effe6-c947-4601-c880-44409a0c2f37"
      },
      "execution_count": 296,
      "outputs": [
        {
          "output_type": "execute_result",
          "data": {
            "text/plain": [
              "device(type='cuda')"
            ]
          },
          "metadata": {},
          "execution_count": 296
        }
      ]
    },
    {
      "cell_type": "markdown",
      "source": [
        "# **Creating dataset by using linear regression formula**"
      ],
      "metadata": {
        "id": "MF1XthqhafEl"
      }
    },
    {
      "cell_type": "code",
      "source": [
        "start, end, steps = 0, 1, 0.02\n",
        "X = torch.arange(start, end, steps).unsqueeze(dim=1)\n",
        "X[:5]"
      ],
      "metadata": {
        "colab": {
          "base_uri": "https://localhost:8080/"
        },
        "collapsed": true,
        "id": "9dpZXTlnXDPJ",
        "outputId": "e8b09c59-2775-489f-970f-f4851f75cefa"
      },
      "execution_count": 297,
      "outputs": [
        {
          "output_type": "execute_result",
          "data": {
            "text/plain": [
              "tensor([[0.0000],\n",
              "        [0.0200],\n",
              "        [0.0400],\n",
              "        [0.0600],\n",
              "        [0.0800]])"
            ]
          },
          "metadata": {},
          "execution_count": 297
        }
      ]
    },
    {
      "cell_type": "code",
      "source": [
        "weight = 0.7\n",
        "bias = 0.3\n",
        "y = weight * X + bias\n",
        "y[:5]"
      ],
      "metadata": {
        "colab": {
          "base_uri": "https://localhost:8080/"
        },
        "collapsed": true,
        "id": "2LKv5ipfZtBm",
        "outputId": "b429a3b6-0427-481c-ee44-f84ffde0a676"
      },
      "execution_count": 298,
      "outputs": [
        {
          "output_type": "execute_result",
          "data": {
            "text/plain": [
              "tensor([[0.3000],\n",
              "        [0.3140],\n",
              "        [0.3280],\n",
              "        [0.3420],\n",
              "        [0.3560]])"
            ]
          },
          "metadata": {},
          "execution_count": 298
        }
      ]
    },
    {
      "cell_type": "markdown",
      "source": [
        "# **Splitting the data**"
      ],
      "metadata": {
        "id": "Gx9s7SEMamHa"
      }
    },
    {
      "cell_type": "code",
      "source": [
        "from sklearn.model_selection import train_test_split"
      ],
      "metadata": {
        "id": "3Tphy_Z1Z1he"
      },
      "execution_count": 299,
      "outputs": []
    },
    {
      "cell_type": "code",
      "source": [
        "X_train, X_test, y_train, y_test = train_test_split(X, y, test_size=0.2, random_state=42)"
      ],
      "metadata": {
        "id": "bUvfRIuOfvlB"
      },
      "execution_count": 300,
      "outputs": []
    },
    {
      "cell_type": "code",
      "source": [
        "print(len(X_train), len(y_test))"
      ],
      "metadata": {
        "colab": {
          "base_uri": "https://localhost:8080/"
        },
        "id": "zq0F3sEagBvO",
        "outputId": "f1e8b354-8686-4878-9b65-162e36f2edf3"
      },
      "execution_count": 301,
      "outputs": [
        {
          "output_type": "stream",
          "name": "stdout",
          "text": [
            "40 10\n"
          ]
        }
      ]
    },
    {
      "cell_type": "markdown",
      "source": [
        "# **Visualizing the data**"
      ],
      "metadata": {
        "id": "OygCoHCQiije"
      }
    },
    {
      "cell_type": "code",
      "source": [
        "def visualize(train_x=X_train, test_x=X_test, train_y=y_train, test_y=y_test, prediction=None):\n",
        "  plt.scatter(train_x, train_y, c='b', label='training data')\n",
        "  plt.scatter(test_x, test_y, c='r', label='testing data')\n",
        "  if prediction is not None:\n",
        "    plt.scatter(test_x, prediction, c='g', label='prediction data')\n",
        "  plt.legend()\n",
        "  plt.show()\n",
        "\n",
        "visualize()"
      ],
      "metadata": {
        "colab": {
          "base_uri": "https://localhost:8080/",
          "height": 430
        },
        "id": "HEnIl6tIhmEK",
        "outputId": "2c0ec301-2485-463a-99fd-0e0c8a82ad25"
      },
      "execution_count": 302,
      "outputs": [
        {
          "output_type": "display_data",
          "data": {
            "text/plain": [
              "<Figure size 640x480 with 1 Axes>"
            ],
            "image/png": "[encoded data removed]"
          },
          "metadata": {}
        }
      ]
    },
    {
      "cell_type": "markdown",
      "source": [
        "# **Building PyTorch model**"
      ],
      "metadata": {
        "id": "LyKCrYYhmgT1"
      }
    },
    {
      "cell_type": "code",
      "source": [
        "#creating a linear regression model\n",
        "class LinearRegressionModel(nn.Module):\n",
        "  def __init__(self):\n",
        "    super().__init__()\n",
        "    self.weights = nn.Parameter(torch.randn(1, requires_grad=True, dtype=torch.float))\n",
        "    self.bias = nn.Parameter(torch.randn(1, requires_grad=True, dtype=torch.float))\n",
        "\n",
        "  # creating a forward method for computation\n",
        "  def forward(self, x:torch.tensor) -> torch.tensor:\n",
        "    return self.weights * x + self.bias"
      ],
      "metadata": {
        "id": "JU6YuH2viq7K"
      },
      "execution_count": 303,
      "outputs": []
    },
    {
      "cell_type": "code",
      "source": [
        "#checking contents of our model\n",
        "# torch.manual_seed(42)\n",
        "\n",
        "model_0 = LinearRegressionModel()\n",
        "\n",
        "list(model_0.parameters())"
      ],
      "metadata": {
        "colab": {
          "base_uri": "https://localhost:8080/"
        },
        "id": "4UCgCyVATLoU",
        "outputId": "49897329-4f2c-4cbb-9d3f-9e58e53e6dc3"
      },
      "execution_count": 304,
      "outputs": [
        {
          "output_type": "execute_result",
          "data": {
            "text/plain": [
              "[Parameter containing:\n",
              " tensor([0.4836], requires_grad=True),\n",
              " Parameter containing:\n",
              " tensor([-0.5093], requires_grad=True)]"
            ]
          },
          "metadata": {},
          "execution_count": 304
        }
      ]
    },
    {
      "cell_type": "code",
      "source": [
        "model_0.state_dict()"
      ],
      "metadata": {
        "colab": {
          "base_uri": "https://localhost:8080/"
        },
        "id": "JFnOoX2EW4BB",
        "outputId": "b78909f9-fdf9-4ab1-b513-e82b858d68ee"
      },
      "execution_count": 305,
      "outputs": [
        {
          "output_type": "execute_result",
          "data": {
            "text/plain": [
              "OrderedDict([('weights', tensor([0.4836])), ('bias', tensor([-0.5093]))])"
            ]
          },
          "metadata": {},
          "execution_count": 305
        }
      ]
    },
    {
      "cell_type": "code",
      "source": [
        "with torch.inference_mode():\n",
        "  y_pred = model_0(X_test)\n",
        "\n",
        "print(y_pred)"
      ],
      "metadata": {
        "colab": {
          "base_uri": "https://localhost:8080/"
        },
        "id": "vJi0IzRPYfhu",
        "outputId": "7b51c624-7b3e-41d5-de5e-b3f063d31c15"
      },
      "execution_count": 306,
      "outputs": [
        {
          "output_type": "stream",
          "name": "stdout",
          "text": [
            "tensor([[-0.3836],\n",
            "        [-0.1321],\n",
            "        [-0.2192],\n",
            "        [-0.0741],\n",
            "        [-0.3449],\n",
            "        [-0.0451],\n",
            "        [-0.2579],\n",
            "        [-0.2675],\n",
            "        [-0.1998],\n",
            "        [-0.3256]])\n"
          ]
        }
      ]
    },
    {
      "cell_type": "code",
      "source": [
        "plt.scatter(X_train, y_train, c='g')\n",
        "plt.scatter(X_test, y_test, c='b')\n",
        "plt.scatter(X_test, y_pred, c='r')\n",
        "plt.show()"
      ],
      "metadata": {
        "colab": {
          "base_uri": "https://localhost:8080/",
          "height": 430
        },
        "id": "BzStVwdNZoUs",
        "outputId": "a71f2278-fb44-4fcd-a4da-710d1d2436b8"
      },
      "execution_count": 307,
      "outputs": [
        {
          "output_type": "display_data",
          "data": {
            "text/plain": [
              "<Figure size 640x480 with 1 Axes>"
            ],
            "image/png": "[encoded data removed]"
          },
          "metadata": {}
        }
      ]
    },
    {
      "cell_type": "code",
      "source": [
        "loss_fn = nn.L1Loss()\n",
        "\n",
        "optimizer = torch.optim.SGD(model_0.parameters(), lr = 0.01)"
      ],
      "metadata": {
        "id": "CJgQVR1kZrb1"
      },
      "execution_count": 308,
      "outputs": []
    },
    {
      "cell_type": "markdown",
      "source": [
        "# **Training loop**\n",
        "\n",
        "0. Loop through the data\n",
        "1. Forward pass to make predictions on data\n",
        "2. Backward pass to move backwards to model to calculate gradients of the model to calculate loss.\n",
        "3. use Optimizers to adjust the model parameters to reduce the loss."
      ],
      "metadata": {
        "id": "mifw67FRlrXx"
      }
    },
    {
      "cell_type": "code",
      "source": [
        "# 0. Loop through throught the data\n",
        "epochs = 300\n",
        "\n",
        "epoch_count, train_loss_value, test_loss_value = [], [], []\n",
        "\n",
        "for i in range(epochs):\n",
        "\n",
        "  model_0.train() #turns on gradient tracking\n",
        "\n",
        "  y_pred = model_0(X_train)\n",
        "\n",
        "  loss = loss_fn(y_pred, y_train)\n",
        "  optimizer.zero_grad() # sets the gradient to none\n",
        "\n",
        "  loss.backward()\n",
        "\n",
        "  optimizer.step() # over time the gradients may accumulate so we have to set them to None\n",
        "\n",
        "  # print(\"_______________________________________________________________________\")\n",
        "\n",
        "  # print(f'predicted weight :{model_0.state_dict()[\"weights\"][0]} actual: {weight}')\n",
        "  # print(f'predicted bias :{model_0.state_dict()[\"bias\"][0]} actual: {bias}')\n",
        "\n",
        "  model_0.eval() #turns off gradient tracking\n",
        "  with torch.inference_mode():\n",
        "    test_pred = model_0(X_test)\n",
        "\n",
        "    test_loss = loss_fn(test_pred, y_test)\n",
        "\n",
        "  if i % 10 == 0:\n",
        "    epoch_count.append(i)\n",
        "    train_loss_value.append(loss)\n",
        "    test_loss_value.append(test_loss)\n",
        "    print(f'Epoch: {i} | loss: {loss} | test_loss: {test_loss}')"
      ],
      "metadata": {
        "id": "NwyN2cfJlRFM",
        "colab": {
          "base_uri": "https://localhost:8080/"
        },
        "collapsed": true,
        "outputId": "324feeea-10e5-487e-e4d9-a8f646a80d49"
      },
      "execution_count": 309,
      "outputs": [
        {
          "output_type": "stream",
          "name": "stdout",
          "text": [
            "Epoch: 0 | loss: 0.9100828170776367 | test_loss: 0.9238549470901489\n",
            "Epoch: 10 | loss: 0.7884140610694885 | test_loss: 0.79648357629776\n",
            "Epoch: 20 | loss: 0.6667450666427612 | test_loss: 0.6691122055053711\n",
            "Epoch: 30 | loss: 0.5450760126113892 | test_loss: 0.541740894317627\n",
            "Epoch: 40 | loss: 0.4234069883823395 | test_loss: 0.4143694341182709\n",
            "Epoch: 50 | loss: 0.301737904548645 | test_loss: 0.2869980037212372\n",
            "Epoch: 60 | loss: 0.18006891012191772 | test_loss: 0.15962658822536469\n",
            "Epoch: 70 | loss: 0.058399833738803864 | test_loss: 0.03496255725622177\n",
            "Epoch: 80 | loss: 0.03050965443253517 | test_loss: 0.020727798342704773\n",
            "Epoch: 90 | loss: 0.024783408269286156 | test_loss: 0.016999781131744385\n",
            "Epoch: 100 | loss: 0.019205819815397263 | test_loss: 0.013068717904388905\n",
            "Epoch: 110 | loss: 0.013620644807815552 | test_loss: 0.009137654677033424\n",
            "Epoch: 120 | loss: 0.008043399080634117 | test_loss: 0.00525736203417182\n",
            "Epoch: 130 | loss: 0.002458223607391119 | test_loss: 0.0013263046275824308\n",
            "Epoch: 140 | loss: 0.008851082995533943 | test_loss: 0.0031755685340613127\n",
            "Epoch: 150 | loss: 0.008851082995533943 | test_loss: 0.0031755685340613127\n",
            "Epoch: 160 | loss: 0.008851082995533943 | test_loss: 0.0031755685340613127\n",
            "Epoch: 170 | loss: 0.008851082995533943 | test_loss: 0.0031755685340613127\n",
            "Epoch: 180 | loss: 0.008851082995533943 | test_loss: 0.0031755685340613127\n",
            "Epoch: 190 | loss: 0.008851082995533943 | test_loss: 0.0031755685340613127\n",
            "Epoch: 200 | loss: 0.008851082995533943 | test_loss: 0.0031755685340613127\n",
            "Epoch: 210 | loss: 0.008851082995533943 | test_loss: 0.0031755685340613127\n",
            "Epoch: 220 | loss: 0.008851082995533943 | test_loss: 0.0031755685340613127\n",
            "Epoch: 230 | loss: 0.008851082995533943 | test_loss: 0.0031755685340613127\n",
            "Epoch: 240 | loss: 0.008851082995533943 | test_loss: 0.0031755685340613127\n",
            "Epoch: 250 | loss: 0.008851082995533943 | test_loss: 0.0031755685340613127\n",
            "Epoch: 260 | loss: 0.008851082995533943 | test_loss: 0.0031755685340613127\n",
            "Epoch: 270 | loss: 0.008851082995533943 | test_loss: 0.0031755685340613127\n",
            "Epoch: 280 | loss: 0.008851082995533943 | test_loss: 0.0031755685340613127\n",
            "Epoch: 290 | loss: 0.008851082995533943 | test_loss: 0.0031755685340613127\n"
          ]
        }
      ]
    },
    {
      "cell_type": "code",
      "source": [
        "train_loss_value = [i.detach().cpu().numpy() for i in train_loss_value]\n",
        "test_loss_value = [i.detach().cpu().numpy() for i in test_loss_value]"
      ],
      "metadata": {
        "id": "Uj9kSfsILhvh"
      },
      "execution_count": 310,
      "outputs": []
    },
    {
      "cell_type": "code",
      "source": [
        "plt.plot(epoch_count, train_loss_value, label=\"train\")\n",
        "plt.plot(epoch_count, test_loss_value, label=\"test\")\n",
        "plt.xlabel(\"loss\")\n",
        "plt.ylabel(\"Epochs\")\n",
        "plt.title(\"Training and Testing curve\")\n",
        "plt.legend()"
      ],
      "metadata": {
        "colab": {
          "base_uri": "https://localhost:8080/",
          "height": 489
        },
        "id": "T-IRaUEoIWQy",
        "outputId": "b8f82717-1db9-465c-c617-f6b67c0af781"
      },
      "execution_count": 315,
      "outputs": [
        {
          "output_type": "execute_result",
          "data": {
            "text/plain": [
              "<matplotlib.legend.Legend at 0x78cb1fcf40d0>"
            ]
          },
          "metadata": {},
          "execution_count": 315
        },
        {
          "output_type": "display_data",
          "data": {
            "text/plain": [
              "<Figure size 640x480 with 1 Axes>"
            ],
            "image/png": "[encoded data removed]"
          },
          "metadata": {}
        }
      ]
    },
    {
      "cell_type": "code",
      "source": [
        "with torch.inference_mode():\n",
        "  y_pred = model_0(X_test)\n",
        "  plt.scatter(X_train, y_train, c='g')\n",
        "  plt.scatter(X_test, y_test, c='b')\n",
        "  plt.scatter(X_test, y_pred, c='r')\n",
        "  plt.show()"
      ],
      "metadata": {
        "colab": {
          "base_uri": "https://localhost:8080/",
          "height": 430
        },
        "id": "IXVI5Vfq8BvY",
        "outputId": "799e9d97-551d-47eb-cc43-b3702cfacd04"
      },
      "execution_count": 316,
      "outputs": [
        {
          "output_type": "display_data",
          "data": {
            "text/plain": [
              "<Figure size 640x480 with 1 Axes>"
            ],
            "image/png": "[encoded data removed]"
          },
          "metadata": {}
        }
      ]
    },
    {
      "cell_type": "code",
      "source": [
        "20 % 10"
      ],
      "metadata": {
        "colab": {
          "base_uri": "https://localhost:8080/"
        },
        "id": "FFOYMCrD_2Dg",
        "outputId": "1f22362c-d35d-48c6-c074-604a55aa3824"
      },
      "execution_count": 313,
      "outputs": [
        {
          "output_type": "execute_result",
          "data": {
            "text/plain": [
              "0"
            ]
          },
          "metadata": {},
          "execution_count": 313
        }
      ]
    },
    {
      "cell_type": "code",
      "source": [],
      "metadata": {
        "id": "LkLFwvdmG9Mv"
      },
      "execution_count": 313,
      "outputs": []
    }
  ]
}