{
  "nbformat": 4,
  "nbformat_minor": 0,
  "metadata": {
    "colab": {
      "provenance": [],
      "gpuType": "T4",
      "authorship_tag": "ABX9TyMQ3o8/FE9KjfbmqSA6Zvik",
      "include_colab_link": true
    },
    "kernelspec": {
      "name": "python3",
      "display_name": "Python 3"
    },
    "language_info": {
      "name": "python"
    },
    "accelerator": "GPU"
  },
  "cells": [
    {
      "cell_type": "markdown",
      "metadata": {
        "id": "view-in-github",
        "colab_type": "text"
      },
      "source": [
        "<a href=\"https://colab.research.google.com/github/Tharunopi/PyTorch/blob/main/PyTorch_workflow_fundamentals.ipynb\" target=\"_parent\"><img src=\"https://colab.research.google.com/assets/colab-badge.svg\" alt=\"Open In Colab\"/></a>"
      ]
    },
    {
      "cell_type": "markdown",
      "source": [
        "A PyTorch workflow\n",
        "1.  Turn data into tensor\n",
        "2.  Build or pick a pretrained model\n",
        "\n",
        "\n",
        "```\n",
        "2.1. Pick a loss function and optimizer\n",
        "2.2. Build a training loop\n",
        "```\n",
        "\n",
        "\n",
        "3.   Fit the model to the data and make prediction\n",
        "4.  Evalvate the model\n",
        "5.   Improve through experimentation\n",
        "6.Save and reload your trained model\n",
        "\n",
        "\n",
        "\n",
        "\n"
      ],
      "metadata": {
        "id": "QG6z3s_zW1d-"
      }
    },
    {
      "cell_type": "code",
      "execution_count": 1,
      "metadata": {
        "id": "sG70YzilVvVX"
      },
      "outputs": [],
      "source": [
        "import torch\n",
        "from torch import nn\n",
        "import matplotlib.pyplot as plt"
      ]
    },
    {
      "cell_type": "code",
      "source": [
        "device = 'cuda' if torch.cuda.is_available() else 'cpu'\n",
        "torch.device(device)"
      ],
      "metadata": {
        "colab": {
          "base_uri": "https://localhost:8080/"
        },
        "id": "cfRJcYAXRXSb",
        "outputId": "7ff7eae0-1197-44c8-91cc-896cd58fcd33"
      },
      "execution_count": 2,
      "outputs": [
        {
          "output_type": "execute_result",
          "data": {
            "text/plain": [
              "device(type='cuda')"
            ]
          },
          "metadata": {},
          "execution_count": 2
        }
      ]
    },
    {
      "cell_type": "markdown",
      "source": [
        "# **Creating dataset by using linear regression formula**"
      ],
      "metadata": {
        "id": "MF1XthqhafEl"
      }
    },
    {
      "cell_type": "code",
      "source": [
        "start, end, steps = 0, 1, 0.02\n",
        "X = torch.arange(start, end, steps).unsqueeze(dim=1)\n",
        "X[:5]"
      ],
      "metadata": {
        "colab": {
          "base_uri": "https://localhost:8080/"
        },
        "collapsed": true,
        "id": "9dpZXTlnXDPJ",
        "outputId": "719d9220-8d79-4f02-e2d4-b989d321b4aa"
      },
      "execution_count": 3,
      "outputs": [
        {
          "output_type": "execute_result",
          "data": {
            "text/plain": [
              "tensor([[0.0000],\n",
              "        [0.0200],\n",
              "        [0.0400],\n",
              "        [0.0600],\n",
              "        [0.0800]])"
            ]
          },
          "metadata": {},
          "execution_count": 3
        }
      ]
    },
    {
      "cell_type": "code",
      "source": [
        "weight = 0.7\n",
        "bias = 0.3\n",
        "y = weight * X + bias\n",
        "y[:5]"
      ],
      "metadata": {
        "colab": {
          "base_uri": "https://localhost:8080/"
        },
        "collapsed": true,
        "id": "2LKv5ipfZtBm",
        "outputId": "5f08e4a2-a896-4a08-866f-cf862319ffae"
      },
      "execution_count": 4,
      "outputs": [
        {
          "output_type": "execute_result",
          "data": {
            "text/plain": [
              "tensor([[0.3000],\n",
              "        [0.3140],\n",
              "        [0.3280],\n",
              "        [0.3420],\n",
              "        [0.3560]])"
            ]
          },
          "metadata": {},
          "execution_count": 4
        }
      ]
    },
    {
      "cell_type": "markdown",
      "source": [
        "# **Splitting the data**"
      ],
      "metadata": {
        "id": "Gx9s7SEMamHa"
      }
    },
    {
      "cell_type": "code",
      "source": [
        "from sklearn.model_selection import train_test_split"
      ],
      "metadata": {
        "id": "3Tphy_Z1Z1he"
      },
      "execution_count": 5,
      "outputs": []
    },
    {
      "cell_type": "code",
      "source": [
        "X_train, X_test, y_train, y_test = train_test_split(X, y, test_size=0.2, random_state=42)"
      ],
      "metadata": {
        "id": "bUvfRIuOfvlB"
      },
      "execution_count": 6,
      "outputs": []
    },
    {
      "cell_type": "code",
      "source": [
        "print(len(X_train), len(y_test))"
      ],
      "metadata": {
        "colab": {
          "base_uri": "https://localhost:8080/"
        },
        "id": "zq0F3sEagBvO",
        "outputId": "b11061fb-d363-4949-d729-0a14d3200a1d"
      },
      "execution_count": 7,
      "outputs": [
        {
          "output_type": "stream",
          "name": "stdout",
          "text": [
            "40 10\n"
          ]
        }
      ]
    },
    {
      "cell_type": "markdown",
      "source": [
        "# **Visualizing the data**"
      ],
      "metadata": {
        "id": "OygCoHCQiije"
      }
    },
    {
      "cell_type": "code",
      "source": [
        "def visualize(train_x=X_train, test_x=X_test, train_y=y_train, test_y=y_test, prediction=None):\n",
        "  plt.scatter(train_x, train_y, c='b', label='training data')\n",
        "  plt.scatter(test_x, test_y, c='r', label='testing data')\n",
        "  if prediction is not None:\n",
        "    plt.scatter(test_x, prediction, c='g', label='prediction data')\n",
        "  plt.legend()\n",
        "  plt.show()\n",
        "\n",
        "visualize()"
      ],
      "metadata": {
        "colab": {
          "base_uri": "https://localhost:8080/",
          "height": 430
        },
        "id": "HEnIl6tIhmEK",
        "outputId": "04fdba45-6c29-42c2-a91e-92764ac79c1d"
      },
      "execution_count": 8,
      "outputs": [
        {
          "output_type": "display_data",
          "data": {
            "text/plain": [
              "<Figure size 640x480 with 1 Axes>"
            ],
            "image/png": "[encoded data removed]"
          },
          "metadata": {}
        }
      ]
    },
    {
      "cell_type": "markdown",
      "source": [
        "# **Building PyTorch model**"
      ],
      "metadata": {
        "id": "LyKCrYYhmgT1"
      }
    },
    {
      "cell_type": "code",
      "source": [
        "#creating a linear regression model\n",
        "class LinearRegressionModel(nn.Module):\n",
        "  def __init__(self):\n",
        "    super().__init__()\n",
        "    self.weights = nn.Parameter(torch.randn(1, requires_grad=True, dtype=torch.float))\n",
        "    self.bias = nn.Parameter(torch.randn(1, requires_grad=True, dtype=torch.float))\n",
        "\n",
        "  # creating a forward method for computation\n",
        "  def forward(self, x:torch.tensor) -> torch.tensor:\n",
        "    return self.weights * x + self.bias"
      ],
      "metadata": {
        "id": "JU6YuH2viq7K"
      },
      "execution_count": 9,
      "outputs": []
    },
    {
      "cell_type": "code",
      "source": [
        "#checking contents of our model\n",
        "# torch.manual_seed(42)\n",
        "\n",
        "model_0 = LinearRegressionModel()\n",
        "\n",
        "list(model_0.parameters())"
      ],
      "metadata": {
        "colab": {
          "base_uri": "https://localhost:8080/"
        },
        "id": "4UCgCyVATLoU",
        "outputId": "4456e720-9c6f-45ba-ef09-1fcfbb1e936a"
      },
      "execution_count": 10,
      "outputs": [
        {
          "output_type": "execute_result",
          "data": {
            "text/plain": [
              "[Parameter containing:\n",
              " tensor([-0.2570], requires_grad=True),\n",
              " Parameter containing:\n",
              " tensor([-1.0404], requires_grad=True)]"
            ]
          },
          "metadata": {},
          "execution_count": 10
        }
      ]
    },
    {
      "cell_type": "code",
      "source": [
        "model_0.state_dict()"
      ],
      "metadata": {
        "colab": {
          "base_uri": "https://localhost:8080/"
        },
        "id": "JFnOoX2EW4BB",
        "outputId": "82e61e82-d62d-43b4-ce9c-2853650cb77c"
      },
      "execution_count": 11,
      "outputs": [
        {
          "output_type": "execute_result",
          "data": {
            "text/plain": [
              "OrderedDict([('weights', tensor([-0.2570])), ('bias', tensor([-1.0404]))])"
            ]
          },
          "metadata": {},
          "execution_count": 11
        }
      ]
    },
    {
      "cell_type": "code",
      "source": [
        "with torch.inference_mode():\n",
        "  y_pred = model_0(X_test)\n",
        "\n",
        "print(y_pred)"
      ],
      "metadata": {
        "colab": {
          "base_uri": "https://localhost:8080/"
        },
        "id": "vJi0IzRPYfhu",
        "outputId": "69dc14ed-13b9-4e56-c90a-1e250fb8f05d"
      },
      "execution_count": 12,
      "outputs": [
        {
          "output_type": "stream",
          "name": "stdout",
          "text": [
            "tensor([[-1.1073],\n",
            "        [-1.2409],\n",
            "        [-1.1947],\n",
            "        [-1.2718],\n",
            "        [-1.1278],\n",
            "        [-1.2872],\n",
            "        [-1.1741],\n",
            "        [-1.1690],\n",
            "        [-1.2049],\n",
            "        [-1.1381]])\n"
          ]
        }
      ]
    },
    {
      "cell_type": "code",
      "source": [
        "plt.scatter(X_train, y_train, c='g')\n",
        "plt.scatter(X_test, y_test, c='b')\n",
        "plt.scatter(X_test, y_pred, c='r')\n",
        "plt.show()"
      ],
      "metadata": {
        "colab": {
          "base_uri": "https://localhost:8080/",
          "height": 430
        },
        "id": "BzStVwdNZoUs",
        "outputId": "f14a7beb-ab58-4cec-bd0c-22591992d6f8"
      },
      "execution_count": 13,
      "outputs": [
        {
          "output_type": "display_data",
          "data": {
            "text/plain": [
              "<Figure size 640x480 with 1 Axes>"
            ],
            "image/png": "[encoded data removed]"
          },
          "metadata": {}
        }
      ]
    },
    {
      "cell_type": "code",
      "source": [
        "loss_fn = nn.L1Loss()\n",
        "\n",
        "optimizer = torch.optim.SGD(model_0.parameters(), lr = 0.01)"
      ],
      "metadata": {
        "id": "CJgQVR1kZrb1"
      },
      "execution_count": 15,
      "outputs": []
    },
    {
      "cell_type": "markdown",
      "source": [
        "# **Training loop**\n",
        "\n",
        "0. Loop through the data\n",
        "1. Forward pass to make predictions on data\n",
        "2. Backward pass to move backwards to model to calculate gradients of the model to calculate loss.\n",
        "3. use Optimizers to adjust the model parameters to reduce the loss."
      ],
      "metadata": {
        "id": "mifw67FRlrXx"
      }
    },
    {
      "cell_type": "code",
      "source": [],
      "metadata": {
        "id": "NwyN2cfJlRFM"
      },
      "execution_count": null,
      "outputs": []
    }
  ]
}